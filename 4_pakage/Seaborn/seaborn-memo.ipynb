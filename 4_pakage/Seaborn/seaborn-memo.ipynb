{
 "cells": [
  {
   "cell_type": "markdown",
   "metadata": {},
   "source": [
    "# Seaborn"
   ]
  },
  {
   "cell_type": "markdown",
   "metadata": {},
   "source": [
    "Seaborn은 matplotlib을 기반으로 하는 Python 고급 시각화 라이브러리"
   ]
  },
  {
   "cell_type": "markdown",
   "metadata": {},
   "source": [
    "## set"
   ]
  },
  {
   "cell_type": "markdown",
   "metadata": {},
   "source": [
    "```\n",
    "sns.set() : seaborn을 설정한다.\n",
    "```"
   ]
  },
  {
   "cell_type": "markdown",
   "metadata": {},
   "source": [
    "### set style"
   ]
  },
  {
   "cell_type": "markdown",
   "metadata": {},
   "source": [
    "```\n",
    "sns.set_style('whitegrid')\n",
    "sns.set_style('dark')\n",
    "sns.set_style('white')\n",
    "```"
   ]
  },
  {
   "cell_type": "markdown",
   "metadata": {},
   "source": [
    "### remove axes"
   ]
  },
  {
   "cell_type": "markdown",
   "metadata": {},
   "source": [
    "```\n",
    "sns.despline()\n",
    "```"
   ]
  },
  {
   "cell_type": "markdown",
   "metadata": {},
   "source": [
    "### set context"
   ]
  },
  {
   "cell_type": "markdown",
   "metadata": {},
   "source": [
    "```\n",
    "sns.set_context(\"paper\") : 얇은 선\n",
    "sns.set_context(\"notebook\") : 굵은 선\n",
    "sns.set_context(\"talk\") : 매우 굵은 선\n",
    "sns.set_context(\"poster\") : 매우매우 굵은 선\n",
    "```"
   ]
  },
  {
   "cell_type": "markdown",
   "metadata": {},
   "source": [
    "## color palettes"
   ]
  },
  {
   "cell_type": "markdown",
   "metadata": {},
   "source": [
    "###  종류\n",
    "```\n",
    "sns.color_palette() : 기본 파렛트\n",
    "sns.color_palette(\"hls\", 8)\n",
    "sns.color_palette(color, 8) : 해당 색상 확인\n",
    "```\n",
    "\n",
    "### 설정\n",
    "```\n",
    "sns.palplot(palette)\n",
    "sns.set_palette(\"hls\", 8)\n",
    "```"
   ]
  },
  {
   "cell_type": "markdown",
   "metadata": {},
   "source": [
    "## sample 불러오기"
   ]
  },
  {
   "cell_type": "markdown",
   "metadata": {},
   "source": [
    "```\n",
    "sns.load_dataset('iris')\n",
    "```"
   ]
  },
  {
   "cell_type": "markdown",
   "metadata": {},
   "source": [
    "## Histogram"
   ]
  },
  {
   "cell_type": "markdown",
   "metadata": {},
   "source": [
    "```\n",
    "sns.rugplot(iris.petal_length.values) : 히스토그램 그래프\n",
    "sns.kdeplot(iris.petal_length.values) : 선형 그래프\n",
    "sns.distplot(iris.petal_length.values, kde=True, rug=True) : 바형 그래프 \n",
    "```"
   ]
  },
  {
   "cell_type": "markdown",
   "metadata": {},
   "source": [
    "## Joint plot"
   ]
  },
  {
   "cell_type": "markdown",
   "metadata": {},
   "source": [
    "바형과 scatter형 그래프 둘다 출력\n",
    "```\n",
    "sns.joinplot( x = 'sepal_length', y = 'sepal_width', data = iris)\n",
    "```"
   ]
  },
  {
   "cell_type": "markdown",
   "metadata": {},
   "source": [
    "## pariplot"
   ]
  },
  {
   "cell_type": "markdown",
   "metadata": {},
   "source": [
    "모든 column의 조합의 joint plot을 보여준다.\n",
    "```\n",
    "sns.pairplot(iris, hue=\"species\")\n",
    "```"
   ]
  },
  {
   "cell_type": "markdown",
   "metadata": {},
   "source": [
    "## lmplot"
   ]
  },
  {
   "cell_type": "markdown",
   "metadata": {},
   "source": [
    "두 그래프의 scatter와 선형도를 보여준다.\n",
    "\n",
    "```\n",
    "sns.lmplot(x='sepal_length', y='sepal_width', hue='species', data = iris, markers=[\"+\", \"o\", \"*\"]\n",
    "```"
   ]
  },
  {
   "cell_type": "markdown",
   "metadata": {},
   "source": [
    "## heatmap"
   ]
  },
  {
   "cell_type": "markdown",
   "metadata": {},
   "source": [
    "```\n",
    "sns.heatmap(data, cmap=sns.light_palette(\"purple\", as_cmap=True), annot=True, fmt=\".2f\"\n",
    "```"
   ]
  }
 ],
 "metadata": {
  "kernelspec": {
   "display_name": "Python 3",
   "language": "python",
   "name": "python3"
  },
  "language_info": {
   "codemirror_mode": {
    "name": "ipython",
    "version": 3
   },
   "file_extension": ".py",
   "mimetype": "text/x-python",
   "name": "python",
   "nbconvert_exporter": "python",
   "pygments_lexer": "ipython3",
   "version": "3.6.3"
  }
 },
 "nbformat": 4,
 "nbformat_minor": 2
}
