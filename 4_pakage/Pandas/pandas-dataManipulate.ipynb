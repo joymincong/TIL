{
 "cells": [
  {
   "cell_type": "markdown",
   "metadata": {},
   "source": [
    "## 데이터 갯수"
   ]
  },
  {
   "cell_type": "markdown",
   "metadata": {},
   "source": [
    "### count\n",
    "```\n",
    "s.count() : 간단한 총 데이터 갯수 세기 (NaN을 세기 않는다.)\n",
    "```\n",
    "누락된 데이터 셀 때, 사용\n",
    "\n",
    "### value_counts\n",
    "```\n",
    "s1.value_counts() : 카테고리별 갯수 세기(시리즈에만 존재)\n",
    "```"
   ]
  },
  {
   "cell_type": "markdown",
   "metadata": {},
   "source": [
    "## 정렬"
   ]
  },
  {
   "cell_type": "markdown",
   "metadata": {},
   "source": [
    "### sort_index\n",
    "```\n",
    "s.sort_index(axis = 1, level = 0) : 인덱스를 기준으로 정렬\n",
    "- axis : 0(열), 1(행)\n",
    "- level : 어떤 인덱스 기준으로 정렬할 지 결정\n",
    "```\n",
    "\n",
    "### sort_values\n",
    "```\n",
    "s.sort_values(by = [1], ascending = False) : 데이터 값을 기준으로 정렬\n",
    "```\n",
    "- 여러개 일때\n",
    "```\n",
    "s.sort_values(by = [1, 2], ascending = False) : 앞에 있는 index를 우선순위로 한다.\n",
    "```"
   ]
  },
  {
   "cell_type": "markdown",
   "metadata": {},
   "source": [
    "## 행/열 합계"
   ]
  },
  {
   "cell_type": "markdown",
   "metadata": {},
   "source": [
    "### sum\n",
    "```\n",
    "df.sum(axis = 1) : 행 합\n",
    "df.sum(axis = 0) : 열 합\n",
    "```"
   ]
  },
  {
   "cell_type": "markdown",
   "metadata": {},
   "source": [
    "## 실수값을 카테고리 값으로 변환"
   ]
  },
  {
   "cell_type": "markdown",
   "metadata": {},
   "source": [
    "### cut\n",
    "```\n",
    "ages = [0, 2, 10, 21, 23, 37]\n",
    "bins = [1, 15, 25, 35, 60, 99]\n",
    "labels = [\"a\", \"b\", \"c\", \"d\", \"e\", \"f\"]\n",
    "\n",
    "cats = pd.cut(ages, bins, labels = labels)\n",
    "```\n",
    "- categorical 클래스 객체 반환\n",
    "\n",
    "**categorical**\n",
    "- cats.categories : 라벨 문자열 (Index)\n",
    "- cats.codes : 인코딩된 카테고리 값 (array)\n",
    "\n",
    "### qcut\n",
    "경계를 정하지 않고 데이터 갯수가 같도록 구간을 나눈다.```\n",
    "cats = pd.qcut(data, 4, labels=[\"q1\", \"q2\", \"q3\", q4\"])\n",
    "```"
   ]
  }
 ],
 "metadata": {
  "kernelspec": {
   "display_name": "Python 3",
   "language": "python",
   "name": "python3"
  },
  "language_info": {
   "codemirror_mode": {
    "name": "ipython",
    "version": 3
   },
   "file_extension": ".py",
   "mimetype": "text/x-python",
   "name": "python",
   "nbconvert_exporter": "python",
   "pygments_lexer": "ipython3",
   "version": "3.6.3"
  }
 },
 "nbformat": 4,
 "nbformat_minor": 2
}
