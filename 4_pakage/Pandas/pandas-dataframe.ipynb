{
 "cells": [
  {
   "cell_type": "markdown",
   "metadata": {},
   "source": [
    "# DataFrame"
   ]
  },
  {
   "cell_type": "markdown",
   "metadata": {},
   "source": [
    "2차원 행렬에 인덱스를 붙은 자료형 (index + column + value)\n",
    "\n",
    "- index(row index) : 행 데이터 라벨\n",
    "- column(column index) : 열 데이터 라벨\n",
    "\n",
    "\n",
    "- 실제로는 column series를 dictionary로 묶은 것"
   ]
  },
  {
   "cell_type": "markdown",
   "metadata": {},
   "source": [
    "## 속성"
   ]
  },
  {
   "cell_type": "markdown",
   "metadata": {},
   "source": [
    "```\n",
    "df.index : index값 확인 (Index 객체 출력)\n",
    "df.columns : columns값 확인 (Index 객체 출력)\n",
    "df.values : 값 확인 (array 값 출력)\n",
    "```\n",
    "\n",
    "```\n",
    "df.index.name = \"도시\" : index 이름 붙이기\n",
    "df.columns.name = \"특성\" : columns 이름 붙이기\n",
    "```"
   ]
  },
  {
   "cell_type": "markdown",
   "metadata": {},
   "source": [
    "## 데이터프레임 생성"
   ]
  },
  {
   "cell_type": "markdown",
   "metadata": {},
   "source": [
    "### 1. 첫번째 방법(columns 입력후, 값 입력)"
   ]
  },
  {
   "cell_type": "markdown",
   "metadata": {},
   "source": [
    "```\n",
    "df = pd.DataFrame(columns=['Email', 'Name'])\n",
    "df['Email'] = ['a@g.com', 'b@n.com']\n",
    "df['Name'] = ['nm1', 'nm2']\n",
    "```\n",
    "- index는 정수 값으로 자동으로 입력"
   ]
  },
  {
   "cell_type": "markdown",
   "metadata": {},
   "source": [
    "### 2. 두번째 방법 (dictionary로 값 입력)"
   ]
  },
  {
   "cell_type": "markdown",
   "metadata": {},
   "source": [
    "```\n",
    "data = {'Name' : ['nm1', 'nm2'], 'Email' : ['a@g.com', 'b@n.com']}\n",
    "df = pd.DataFrame(data)\n",
    "```"
   ]
  },
  {
   "cell_type": "markdown",
   "metadata": {},
   "source": [
    "**dictionary의 list로 입력이 가능**\n",
    "```\n",
    "data = [{'Name' : 'nm1', 'Email' : 'a@g.com'}, {'Name' : 'nm2', 'Email' : 'b@ga.com'}]\n",
    "df = pd.DataFrame(data)\n",
    "```"
   ]
  },
  {
   "cell_type": "markdown",
   "metadata": {},
   "source": [
    "### 3. 세번째 방법 (index, columns, dictionary로 값 입력)"
   ]
  },
  {
   "cell_type": "markdown",
   "metadata": {},
   "source": [
    "```\n",
    "data = {'Name' : ['nm1', 'nm2'], 'Email' : ['a@g.com', 'b@n.com']}\n",
    "columns = ['Name', 'Email']\n",
    "index = ['first', 'second']\n",
    "df = pd.DataFrame(data, index = index, columns = columns)\n",
    "```"
   ]
  },
  {
   "cell_type": "markdown",
   "metadata": {},
   "source": [
    "## 인덱싱"
   ]
  },
  {
   "cell_type": "markdown",
   "metadata": {},
   "source": [
    "### 1. 열 인덱싱"
   ]
  },
  {
   "cell_type": "markdown",
   "metadata": {},
   "source": [
    "```\n",
    "df['Name'] : 값으로 인덱싱 가능 (Series값 반환)\n",
    "```\n",
    "\n",
    "```\n",
    "df[['Name', 'Email']] : 배열로 각 위치의 column값 인덱싱 가능(DataFrame값 반환)\n",
    "```\n",
    "\n",
    "-**열 인덱싱할 때 정수를 사용할 수 없다. 하지만 문자열 라벨이 주어지지 않는 다면 정수 이용가능**"
   ]
  },
  {
   "cell_type": "markdown",
   "metadata": {},
   "source": [
    "### 2. 행 인덱싱"
   ]
  },
  {
   "cell_type": "markdown",
   "metadata": {},
   "source": [
    "```\n",
    "df[:1] : 행 인덱싱은 항상 슬라이싱 해야 한다. (리턴 DataFrame)\n",
    "df.loc[2] : (리턴 series)\n",
    "```"
   ]
  },
  {
   "cell_type": "markdown",
   "metadata": {},
   "source": [
    "### 3. 개별 데이터 인덱싱"
   ]
  },
  {
   "cell_type": "markdown",
   "metadata": {},
   "source": [
    "```\n",
    "df[\"열\"][\"행\"] : 개별 데이터 인덱싱\n",
    "```"
   ]
  },
  {
   "cell_type": "markdown",
   "metadata": {},
   "source": [
    "## 갱신, 추가, 삭제"
   ]
  },
  {
   "cell_type": "markdown",
   "metadata": {},
   "source": [
    "### 1. 열"
   ]
  },
  {
   "cell_type": "markdown",
   "metadata": {},
   "source": [
    "```\n",
    "df[\"Address\"] = ['a', 'b', 'c'] : column 있을 때 갱신\n",
    "df[\"Address\"] = \"\" : column 없을 때 갱신(모든 행에 적용(broadcasting))\n",
    "```"
   ]
  },
  {
   "cell_type": "markdown",
   "metadata": {},
   "source": [
    "#### apply\n",
    "map처럼 함수를 입력받아 사용 가능 (series 리턴)\n",
    "```\n",
    "def name(name):\n",
    "    return \"{}({}).format(name, len(name)\"\n",
    "   \n",
    "df[\"New_name\"] = df[\"Name\"].apply(name)\n",
    "```"
   ]
  },
  {
   "cell_type": "markdown",
   "metadata": {},
   "source": [
    "### 2. 행"
   ]
  },
  {
   "cell_type": "markdown",
   "metadata": {},
   "source": [
    "```\n",
    "df.loc['first'] = {'Name' : 'nm3', 'Email' : 'd3@g.com'} // 존재할 때 갱신\n",
    "\n",
    "df.loc[len(df)] = {'Name' : 'nm3', 'Email' : 'd3@g.com'} // 마지막일 때 추가\n",
    "```\n",
    "\n",
    "```\n",
    "df.loc[2][\"Age\"][\"min\"] : column에 columm으로 접속가능\n",
    "```"
   ]
  },
  {
   "cell_type": "markdown",
   "metadata": {},
   "source": [
    "## 데이터 합치기 삭제하기"
   ]
  },
  {
   "cell_type": "markdown",
   "metadata": {},
   "source": [
    "#### append\n",
    "행에 추가 = numpy의 concatenate와 같다.\n",
    "\n",
    "```\n",
    "df3 = df1.append(df2)\n",
    "```"
   ]
  },
  {
   "cell_type": "markdown",
   "metadata": {},
   "source": [
    "#### concat\n",
    "\n",
    "```\n",
    "df3 = pd.concat([df1, df2]).reset_index(drop=True) : 행 결합\n",
    "df3 = pd.concat([df1, df2], axis = 1) : 열 결합 (index는 무시)\n",
    "```"
   ]
  },
  {
   "cell_type": "markdown",
   "metadata": {},
   "source": [
    "#### reset_index\n",
    "인덱싱 값 초기화 하기 (DataFrame, Series 모두 존재)\n",
    "```\n",
    "df1.reset_index(drop = True, inplace = True)\n",
    "\n",
    "drop : 기존의 인덱싱 값 삭제\n",
    "inplace : True일 때, 수정 데이터 해당 변수에 바로 적용\n",
    "```"
   ]
  },
  {
   "cell_type": "markdown",
   "metadata": {},
   "source": [
    "#### drop\n",
    "```\n",
    "df.drop('Mean', axis = 1, inplace=True) : 열 삭제\n",
    "```"
   ]
  },
  {
   "cell_type": "markdown",
   "metadata": {},
   "source": [
    "## Groupby"
   ]
  },
  {
   "cell_type": "markdown",
   "metadata": {},
   "source": [
    "column 내부에 같은 값끼리 묶어주는 역활\n",
    "- column에 의한 DataFrameGroupBy 객체 반환"
   ]
  },
  {
   "cell_type": "markdown",
   "metadata": {},
   "source": [
    "유니크 데이터를 생성하는 방법"
   ]
  },
  {
   "cell_type": "markdown",
   "metadata": {},
   "source": [
    "- set 이용 제거\n",
    "```\n",
    "result = np.array(list(set(df[\"Name\"].values)))\n",
    "```\n",
    "- unique() 함수로 제거\n",
    "```\n",
    "result = df[\"Name\"].unique() : series에서 unique 존재\n",
    "```\n",
    "- groupby로 제거\n",
    "```\n",
    "df.groupby(\"Name\").size().reset_index(name='counts')\n",
    "```\n",
    "**size()** 해당 column의 갯수 (series 출력)"
   ]
  },
  {
   "cell_type": "markdown",
   "metadata": {},
   "source": [
    "### groupby 객체의 function"
   ]
  },
  {
   "cell_type": "markdown",
   "metadata": {},
   "source": [
    "#### size() \n",
    "해당 column의 갯수 (series 출력)"
   ]
  },
  {
   "cell_type": "markdown",
   "metadata": {},
   "source": [
    "#### agg()"
   ]
  },
  {
   "cell_type": "markdown",
   "metadata": {},
   "source": [
    "최소값, 최댓값, 평균값, 합, 중앙값 출력 (DataFrame)"
   ]
  },
  {
   "cell_type": "markdown",
   "metadata": {},
   "source": [
    "```\n",
    "df.groupby(\"Name\").agg('min') : name에서 최솟값 \n",
    "df.groupby(\"Name\").agg('max') : name에서 최댓값\n",
    "df.groupby(\"Name\").agg('mean') : name에서 평균값\n",
    "df.groupby(\"Name\").agg('sum') : name에서 합\n",
    "df.groupby(\"Name\").agg('median') : name에서 중앙값\n",
    "```\n",
    "\n",
    "```\n",
    "df.groupby(\"Name\").agg([\"min\", \"max\"]) : 여러개로 출력이 가능\n",
    "```"
   ]
  },
  {
   "cell_type": "markdown",
   "metadata": {},
   "source": [
    "#### sum()\n"
   ]
  },
  {
   "cell_type": "markdown",
   "metadata": {},
   "source": [
    "## sort_values\n",
    "sort_values를 이용하여 counts로 내림차순 정렬\n",
    "```\n",
    "df = df.sort_values(by=['count'], ascending=True)\n",
    "\n",
    "by : column 속성 정렬\n",
    "ascending : True 오름차순, False 내림차순\n",
    "```"
   ]
  },
  {
   "cell_type": "markdown",
   "metadata": {},
   "source": [
    "## Select"
   ]
  },
  {
   "cell_type": "markdown",
   "metadata": {},
   "source": [
    "```\n",
    "df.head(10) : 앞에서 10개 출력 default = 5\n",
    "df.tail(10) : 뒤에서 10개 출력 default = 5\n",
    "```"
   ]
  },
  {
   "cell_type": "markdown",
   "metadata": {},
   "source": [
    "## rename"
   ]
  },
  {
   "cell_type": "markdown",
   "metadata": {},
   "source": [
    "```\n",
    "df.rename(columns={\"Name\" : \"unique_name\"}) : name에서 unique_name으로 변경\n",
    "```"
   ]
  },
  {
   "cell_type": "markdown",
   "metadata": {},
   "source": [
    "## Merge"
   ]
  },
  {
   "cell_type": "markdown",
   "metadata": {},
   "source": [
    "ID 컬럼과 User ID를 매칭시켜 merge\n",
    "```\n",
    "df.merge(df2, left_on=\"ID\", right_on=\"UserID\", how='outer') : 합치기\n",
    "```\n",
    "\n",
    "left_on: 왼쪽 매칭시킬 key\n",
    "right_on : 오른쪽 매칭시킬 key\n",
    "- key가 같을 시에는 left_on과 right_on을 쓸 필요가 없다.\n",
    "\n",
    "how : inner(데이터 없는 곳은 없앴다), outer(데이터 없는 곳은 NaN)"
   ]
  },
  {
   "cell_type": "markdown",
   "metadata": {},
   "source": [
    "## fillna()\n",
    "데이터가 없는 사람은 0으로 초기화\n",
    "```\n",
    "fillna(value = 0)\n",
    "```"
   ]
  }
 ],
 "metadata": {
  "kernelspec": {
   "display_name": "Python 3",
   "language": "python",
   "name": "python3"
  },
  "language_info": {
   "codemirror_mode": {
    "name": "ipython",
    "version": 3
   },
   "file_extension": ".py",
   "mimetype": "text/x-python",
   "name": "python",
   "nbconvert_exporter": "python",
   "pygments_lexer": "ipython3",
   "version": "3.6.3"
  }
 },
 "nbformat": 4,
 "nbformat_minor": 2
}
