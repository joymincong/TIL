{
 "cells": [
  {
   "cell_type": "markdown",
   "metadata": {},
   "source": [
    "# Pandas-summary"
   ]
  },
  {
   "cell_type": "markdown",
   "metadata": {},
   "source": [
    "## date_range\n",
    "\n",
    "### 생성 : data_range\n",
    "날짜 데이터에 대한 range 데이터(datatime64) 설정 (index로 사용)\n",
    "```\n",
    "pd.date_range(start, end, periods, freq, tz)\n",
    "\n",
    "start : 시작 날짜\n",
    "end : 마지막 날짜\n",
    "periods : 갯수\n",
    "freq : 형태 지정 ('Y'.'M'.'D', 'H':'T':'S')\n",
    "tz : timezone\n",
    "```\n",
    "\n",
    "### 생성 : to_datetime\n",
    "```\n",
    "idx = pd.to_datetime(strlist)\n",
    "```"
   ]
  },
  {
   "cell_type": "markdown",
   "metadata": {},
   "source": [
    "## "
   ]
  },
  {
   "cell_type": "markdown",
   "metadata": {},
   "source": [
    "## resample\n",
    "\n",
    "### 다운 샘플링\n",
    "몇분 간격으로 sum 이용해 합쳐준다.\n",
    "```\n",
    "ts.resample('10Min', closed='right').sum()\n",
    "```\n",
    "- mean(), first(), ohlc()(시고저종 값)\n",
    "- closed='right' : 한계값을 구간에 포함\n",
    "\n",
    "### 업 샘플링\n",
    "```\n",
    "ts.resample('30s').ffill() : 앞에 나온 데이터를 그대로 사용\n",
    "ts.resample('30s').bfill() : 뒤에 나온 데이터를 그대로 사용\n",
    "```"
   ]
  },
  {
   "cell_type": "markdown",
   "metadata": {},
   "source": [
    "### tz\n",
    "해당 타임존으로 변경\n",
    "```\n",
    "ts.tz_local('UTC')\n",
    "\n",
    "ts.tz_convert('US/Eastern')\n",
    "```\n",
    "** 타임존 리스 확인 **\n",
    "```\n",
    "from pytz import common_timezones, all_timezones\n",
    "```"
   ]
  },
  {
   "cell_type": "markdown",
   "metadata": {},
   "source": [
    "### 데이터 제거\n",
    "```\n",
    "ts.to_period() : 날짜 데이터를 제거\n",
    "ts.to_timestamp() : 날짜 데이터 생성\n",
    "```"
   ]
  },
  {
   "cell_type": "markdown",
   "metadata": {},
   "source": [
    "## 생성"
   ]
  },
  {
   "cell_type": "markdown",
   "metadata": {},
   "source": [
    "### Series\n",
    "```\n",
    "s = pd.Series([1, 3, 5, np.NaN])\n",
    "```\n",
    "- 리스트를 이용해서 생성\n",
    "- np.NaN 을 이용해 None값 설정\n",
    "\n",
    "### DataFrame\n",
    "```\n",
    "df = pd.DataFrame({ 'A' : 1.,\n",
    "                    'B' : pd.Timestamp('20130102'),\n",
    "                    'C' : pd.Series(1, index = list(range(4)),\n",
    "                    'D' : np.array([3] * 4),\n",
    "                    'E' : pd.Categorical([\"test\", \"train\", \"test\", \"train\"])\n",
    "                    'F' : 'foo'})\n",
    "```\n",
    "- integer, string\n",
    "- Timestamp\n",
    "- array\n",
    "- categorical"
   ]
  },
  {
   "cell_type": "markdown",
   "metadata": {},
   "source": [
    "### Viewing Data"
   ]
  },
  {
   "cell_type": "markdown",
   "metadata": {},
   "source": [
    "```\n",
    "df.describe() : 각 column의 정보를 보여준다.\n",
    "```"
   ]
  },
  {
   "cell_type": "markdown",
   "metadata": {},
   "source": [
    "## Selection"
   ]
  },
  {
   "cell_type": "markdown",
   "metadata": {},
   "source": [
    "```\n",
    "df['index'] : column 데이터 접근 (Series)\n",
    "df[0:3] : index 데이터 접근 (DataFrame)\n",
    "\n",
    "df.loc[row_idx, col_idx] : row index, col index 값으로 여러 데이터 출력\n",
    "df.at[row_idx, col_idx] : row index, col index 값으로 하나의 데이터 출력\n",
    "```\n",
    "- 라벨값\n",
    "- 라벨 값 리스트나 슬라이싱\n",
    "- boolean list, array, series\n",
    "- 리턴에 대한 위 값 반환 함수\n",
    "\n",
    "```\n",
    "df.iloc[row_off, col_off] : 숫자 index로 여러 데이터 출력\n",
    "df.iat[row_off, col_off] : 숫자 index로 하나의 데이터 출력\n",
    "\n",
    "* 배열 인덱싱을 통해 지정 데이터 가져오기\n",
    "```\n",
    "- 정수 인덱스 값 입력"
   ]
  },
  {
   "cell_type": "markdown",
   "metadata": {},
   "source": [
    "### loc vs at"
   ]
  },
  {
   "cell_type": "markdown",
   "metadata": {},
   "source": [
    "- loc : 여러데이터를 가져오지만 느리게 접근\n",
    "- at : 하나의 데이터를 가져오지만 매우 빠르게 접근"
   ]
  },
  {
   "cell_type": "markdown",
   "metadata": {},
   "source": [
    "## Boolean Indexing"
   ]
  },
  {
   "cell_type": "markdown",
   "metadata": {},
   "source": [
    "- (df.A > 0) or (df > 0):Boolean 배열 출력\n",
    "- df[df > 0] : True인 값만 출력, 없는 값은 NaN 출력"
   ]
  },
  {
   "cell_type": "markdown",
   "metadata": {},
   "source": [
    "### isin()"
   ]
  },
  {
   "cell_type": "markdown",
   "metadata": {},
   "source": [
    "해당 컬럼에 데이터가 있는 지 없는 지를 비교해준다. \n",
    "```\n",
    "df['E'].isin(['two', 'four'])\n",
    "```"
   ]
  },
  {
   "cell_type": "markdown",
   "metadata": {},
   "source": [
    "## Missing Data"
   ]
  },
  {
   "cell_type": "markdown",
   "metadata": {},
   "source": [
    "### Reindex\n",
    "다시 인덱싱을 지정\n",
    "```\n",
    "df.reindex(index = dates[0:3], columns = list(df.columns)\n",
    "```"
   ]
  },
  {
   "cell_type": "markdown",
   "metadata": {},
   "source": [
    "### dropna\n",
    "NaN 있는 데이터 삭제\n",
    "```\n",
    "df.dropna(how = 'all', axis = 0) \n",
    "\n",
    "how : (all: 모든 값이 NaN일 경우), (any : 값중에 하나가 NaN일 경우)\n",
    "axis : 0:가로축 제거, 1:세로축 제거\n",
    "```"
   ]
  },
  {
   "cell_type": "markdown",
   "metadata": {},
   "source": [
    "### fillna\n",
    "NaN 데이터 채우기\n",
    "```\n",
    "df.fillna(value = 5)\n",
    "```"
   ]
  },
  {
   "cell_type": "markdown",
   "metadata": {},
   "source": [
    "## operation"
   ]
  },
  {
   "cell_type": "markdown",
   "metadata": {},
   "source": [
    "### mean\n",
    "column별 평균\n",
    "```\n",
    "df.mean(0)\n",
    "\n",
    "0일 때, 가로축, 1일 때, 세로축\n",
    "```\n",
    "* NaN값은 평균 계산에 적용되지 않는다."
   ]
  },
  {
   "cell_type": "markdown",
   "metadata": {},
   "source": [
    "### shift\n",
    "value 데이터를 쉬프트한다. (Series)\n",
    "```\n",
    "s.shift(2)\n",
    "s.shift(-1)\n",
    "```\n",
    "* 없는 값은 NaN으로 추가"
   ]
  },
  {
   "cell_type": "markdown",
   "metadata": {},
   "source": [
    "### sub\n",
    "df에 모든 컬럼에 s를 빼줌\n",
    "```\n",
    "df.sub(s, axis = 'index')\n",
    "```"
   ]
  },
  {
   "cell_type": "markdown",
   "metadata": {},
   "source": [
    "### value_count\n",
    "시리즈에서 같은 데이터끼리 묶어서 갯수를 센다.\n",
    "```\n",
    "s.value_counts()\n",
    "```"
   ]
  },
  {
   "cell_type": "markdown",
   "metadata": {},
   "source": [
    "## String Method"
   ]
  },
  {
   "cell_type": "markdown",
   "metadata": {},
   "source": [
    "### lower\n",
    "```\n",
    "s.str.lower()\n",
    "```\n",
    "\n",
    "### upper\n",
    "```\n",
    "s.str.upper()\n",
    "```\n",
    "\n",
    "### len\n",
    "```\n",
    "s.str.len()\n",
    "```\n",
    "### contains\n",
    "```\n",
    "s.str.contains(\"aa\") :문자열이 포함되어 있는 지 확인(Bool)\n",
    "```"
   ]
  },
  {
   "cell_type": "markdown",
   "metadata": {},
   "source": [
    "## Merge"
   ]
  },
  {
   "cell_type": "markdown",
   "metadata": {},
   "source": [
    "### concat\n",
    "```\n",
    "pd.concat([df, df2])\n",
    "```"
   ]
  },
  {
   "cell_type": "markdown",
   "metadata": {},
   "source": [
    "### MultiIndex\n",
    "\n",
    "여러 인덱싱 생성(MultiIndex가 객체)\n",
    "```\n",
    "index = pd.MultiIndex.from_tuples(tuples, names = ['first', 'second'])\n",
    "```"
   ]
  },
  {
   "cell_type": "markdown",
   "metadata": {},
   "source": [
    "### stack\n",
    "column 데이터에 index에 추가\n",
    "```\n",
    "stacked = df.stack()\n",
    "```\n",
    "\n",
    "마지막의 index 데이터를 column으로 바꾼다.\n",
    "```\n",
    "stacked.unstack(1) : 해당 index를 변형\n",
    "```"
   ]
  },
  {
   "cell_type": "markdown",
   "metadata": {},
   "source": [
    "\n"
   ]
  }
 ],
 "metadata": {
  "kernelspec": {
   "display_name": "Python 3",
   "language": "python",
   "name": "python3"
  },
  "language_info": {
   "codemirror_mode": {
    "name": "ipython",
    "version": 3
   },
   "file_extension": ".py",
   "mimetype": "text/x-python",
   "name": "python",
   "nbconvert_exporter": "python",
   "pygments_lexer": "ipython3",
   "version": "3.6.3"
  }
 },
 "nbformat": 4,
 "nbformat_minor": 2
}
