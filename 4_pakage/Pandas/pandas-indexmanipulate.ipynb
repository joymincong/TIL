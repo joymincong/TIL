{
 "cells": [
  {
   "cell_type": "markdown",
   "metadata": {},
   "source": [
    "## 인덱스 설정 및 제거"
   ]
  },
  {
   "cell_type": "markdown",
   "metadata": {},
   "source": [
    "### set_index\n",
    "```\n",
    "df1 = df.set_index(\"c1\") : 기존 행 인덱스를 제거하고 있는 열 중 하나를 인덱스로 설정\n",
    "```\n",
    "\n",
    "### reset_index\n",
    "```\n",
    "df1 = df.reset_index(drop = True) : 인덱스 열이 정수 인덱스로 바뀐다.\n",
    "\n",
    "- drop : 인덱스 열을 올리는 것이 아니라 그냥 버림\n",
    "```"
   ]
  },
  {
   "cell_type": "markdown",
   "metadata": {},
   "source": [
    "## 다중 인덱스"
   ]
  },
  {
   "cell_type": "markdown",
   "metadata": {},
   "source": [
    "### 기본\n",
    "```\n",
    "- 이중 리스트를 이용해 제작\n",
    "pd.DataFrame(np.random.randint(), columns = [[A, A, B, B], [1, 2, 3, 4]])\n",
    "\n",
    "- 네임을 지정하는 방법\n",
    "df.columns.names = [\"c1\", \"c2\"]\n",
    "```"
   ]
  },
  {
   "cell_type": "markdown",
   "metadata": {},
   "source": [
    "## 행과 열 인덱스 교환"
   ]
  },
  {
   "cell_type": "markdown",
   "metadata": {},
   "source": [
    "### stack\n",
    "```\n",
    "df.stack(\"col\") : 열 인덱스 -> 행 인덱스\n",
    "```\n",
    "\n",
    "### unstack\n",
    "```\n",
    "df.unstack(0) : 행 인덱스 -> 열 인덱스\n",
    "```"
   ]
  },
  {
   "cell_type": "markdown",
   "metadata": {},
   "source": [
    "## 다중 인덱스 인덱싱"
   ]
  },
  {
   "cell_type": "markdown",
   "metadata": {},
   "source": [
    "```\n",
    "df[(\"B\", \"C\")]\n",
    "```\n",
    "- 하나만 입력시 다중 인덱스 중 상위값만 출력\n"
   ]
  },
  {
   "cell_type": "markdown",
   "metadata": {},
   "source": [
    "##  다중 인덱스 교환"
   ]
  },
  {
   "cell_type": "markdown",
   "metadata": {},
   "source": [
    "### swaplevel(i, j, axis)\n",
    "```\n",
    "df.swaplevel(\"Rid1\", \"Rid2\", 1) : \"Rid1\"과 \"Rid2\"을 교환한다.\n",
    "```"
   ]
  }
 ],
 "metadata": {
  "kernelspec": {
   "display_name": "Python 3",
   "language": "python",
   "name": "python3"
  },
  "language_info": {
   "codemirror_mode": {
    "name": "ipython",
    "version": 3
   },
   "file_extension": ".py",
   "mimetype": "text/x-python",
   "name": "python",
   "nbconvert_exporter": "python",
   "pygments_lexer": "ipython3",
   "version": "3.6.3"
  }
 },
 "nbformat": 4,
 "nbformat_minor": 2
}
