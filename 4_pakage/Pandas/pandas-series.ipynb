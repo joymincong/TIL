{
 "cells": [
  {
   "cell_type": "markdown",
   "metadata": {},
   "source": [
    "# Pandas"
   ]
  },
  {
   "cell_type": "markdown",
   "metadata": {},
   "source": [
    "데이터 분석을 할 때 쓰이는 패키지\n",
    "- Series, DataFrame을 제공하여 표 형태로 데이터를 다룰 수 있다.\n",
    "- R가 유사한 파이썬 패키지 (R에 비해 빠른 장점을 가짐)"
   ]
  },
  {
   "cell_type": "markdown",
   "metadata": {},
   "source": [
    "## 선언"
   ]
  },
  {
   "cell_type": "markdown",
   "metadata": {},
   "source": [
    "```\n",
    "import pandas in pd\n",
    "```"
   ]
  },
  {
   "cell_type": "markdown",
   "metadata": {},
   "source": [
    "# Series"
   ]
  },
  {
   "cell_type": "markdown",
   "metadata": {},
   "source": [
    "`index`와 `value`로 이루어진 클래스 (1차원 배열에 인덱스(label) 포함)"
   ]
  },
  {
   "cell_type": "markdown",
   "metadata": {},
   "source": [
    "## 속성값\n",
    "```\n",
    "s.index : index값 출력 (index 객체 타입)\n",
    "s.values : value값 출력 (array 타입)\n",
    "\n",
    "s.idxName1, s.idxName2 : 인덱스 라벨로 값출력\n",
    "```\n",
    "\n",
    "```\n",
    "s.name = \"이름\" : 데이터 이름 입력\n",
    "s.index.name = \"인덱스 이름\" : 인덱스의 이름 입력\n",
    "```"
   ]
  },
  {
   "cell_type": "markdown",
   "metadata": {},
   "source": [
    "## Series 생성"
   ]
  },
  {
   "cell_type": "markdown",
   "metadata": {},
   "source": [
    "```\n",
    "pd.Series(range(10)) : value만 추가했을 경우, 자동으로 정수 인덱스추가\n",
    "\n",
    "pd.Series(range(10), index=['A', 'B', ...] : index를 통해 라벨로 인덱스 추가 가능\n",
    "\n",
    "```\n",
    "**dictionary으로 Series 생성**\n",
    "```\n",
    "dic = {'A' : 1, 'B' : 2, 'C' : 3}\n",
    "s = Series(dic)\n",
    "```\n",
    "- dictionary로 제작시에 label의 순서가 보장되지 않는다.\n",
    "```\n",
    "pd.Series(dict, index=['A', 'B', 'C']) : label 순서 보장\n",
    "```\n"
   ]
  },
  {
   "cell_type": "markdown",
   "metadata": {},
   "source": [
    "## Series 연산"
   ]
  },
  {
   "cell_type": "markdown",
   "metadata": {},
   "source": [
    "Numpy처럼 vectorize operate(broadcasting) 가능\n",
    "- 오직 value에서만 연산이 가능\n",
    "\n",
    "\n",
    "- series끼리 계산가능(형태가 달라도 가능, 단, label이 존재하지 않는다면 NaN 들어감)"
   ]
  },
  {
   "cell_type": "markdown",
   "metadata": {},
   "source": [
    "#### notnull\n",
    "```\n",
    "s.notnull() : NaN에는 False, 그외는 True에 value에 출력\n",
    "s[s.notnull()] : NaN 값 없애기\n",
    "```"
   ]
  },
  {
   "cell_type": "markdown",
   "metadata": {},
   "source": [
    "## Series 인덱싱"
   ]
  },
  {
   "cell_type": "markdown",
   "metadata": {},
   "source": [
    "**1. offset 인덱싱**\n",
    "```\n",
    "s[1:3]\n",
    "s[::-1]\n",
    "s['A':'C'] : A-B까지 데이터 인덱싱\n",
    "```\n",
    "\n",
    "**2. label 인덱싱**\n",
    "```\n",
    "s[\"A\"]\n",
    "```\n",
    "\n",
    "**3. 배열 인덱싱**\n",
    "  - 정수 배열, label 배열\n",
    "```\n",
    "s[[0, 3, 1]] : 원하는 위치를 값만 가져온다.\n",
    "s[['A', 'B']]\n",
    "```\n",
    "\n",
    "  - boolean 배열\n",
    "```\n",
    "s[s > 6] : True인 값만 출력 (filter)\n",
    "```"
   ]
  },
  {
   "cell_type": "markdown",
   "metadata": {},
   "source": [
    "## Series와 dictionary 비교"
   ]
  },
  {
   "cell_type": "markdown",
   "metadata": {},
   "source": [
    "Series는 라벨에 의해 접근이 가능하기 때문에 dictionary key와 비슷하다.\n",
    "```\n",
    "label = key\n",
    "```"
   ]
  },
  {
   "cell_type": "markdown",
   "metadata": {},
   "source": [
    "#### dictionary function 사용 가능"
   ]
  },
  {
   "cell_type": "markdown",
   "metadata": {},
   "source": [
    "```\n",
    "s.items() : series의 label과 value 뽑을 수 있다.\n",
    "'A' in s : in 연산자로 존재 여부 확인 가능\n",
    "```"
   ]
  },
  {
   "cell_type": "markdown",
   "metadata": {},
   "source": [
    "## 데이터 갱신, 추가, 삭제"
   ]
  },
  {
   "cell_type": "markdown",
   "metadata": {},
   "source": [
    "#### 추가 및 갱신\n",
    "인덱싱을 이용해 수정\n",
    "```\n",
    "- 데이터 없는 경우 \n",
    "s['D'] = 1 : D 추가\n",
    "\n",
    "- 데이터 있는 경우\n",
    "s['A'] = 1 : A 갱신\n",
    "```"
   ]
  },
  {
   "cell_type": "markdown",
   "metadata": {},
   "source": [
    "#### 삭제\n",
    "```\n",
    "del s['A'] : A 삭제\n",
    "```"
   ]
  }
 ],
 "metadata": {
  "kernelspec": {
   "display_name": "Python 3",
   "language": "python",
   "name": "python3"
  },
  "language_info": {
   "codemirror_mode": {
    "name": "ipython",
    "version": 3
   },
   "file_extension": ".py",
   "mimetype": "text/x-python",
   "name": "python",
   "nbconvert_exporter": "python",
   "pygments_lexer": "ipython3",
   "version": "3.6.3"
  }
 },
 "nbformat": 4,
 "nbformat_minor": 2
}
