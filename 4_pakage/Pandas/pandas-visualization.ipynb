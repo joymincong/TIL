{
 "cells": [
  {
   "cell_type": "markdown",
   "metadata": {},
   "source": [
    "# Pandas Visualization"
   ]
  },
  {
   "cell_type": "markdown",
   "metadata": {},
   "source": [
    "## 누적된 값 출력"
   ]
  },
  {
   "cell_type": "markdown",
   "metadata": {},
   "source": [
    "```\n",
    "ts = pd.Sereis(data, index = index)\n",
    "ts = ts.cumsum()\n",
    "ts.plot()\n",
    "```\n",
    "- Series 이용시 하나의 값 출력\n",
    "- DataFrames 이용시 여러개의 값 출력"
   ]
  },
  {
   "cell_type": "markdown",
   "metadata": {},
   "source": [
    "## Seaborn data 이용"
   ]
  },
  {
   "cell_type": "markdown",
   "metadata": {},
   "source": [
    "```\n",
    "iris = sns.load_data(\"iris\")\n",
    "```"
   ]
  },
  {
   "cell_type": "markdown",
   "metadata": {},
   "source": [
    "### line\n",
    "```\n",
    "iris[:10].plot()\n",
    "```\n",
    "\n",
    "### Bar\n",
    "```\n",
    "iris[:10].plot(kind = \"bar\")\n",
    "```\n",
    "\n",
    "### Pie\n",
    "```\n",
    "iris[:10].plot.pie(autopct=\"%d%%\")\n",
    "```\n",
    "\n",
    "### Scatter\n",
    "```\n",
    "iris.plot.scatter(x='sepal_length', y='sepal_width')\n",
    "```"
   ]
  },
  {
   "cell_type": "markdown",
   "metadata": {},
   "source": [
    "## 여러개의 데이터 출력"
   ]
  },
  {
   "cell_type": "markdown",
   "metadata": {},
   "source": [
    "```\n",
    "ax = data1.plot.scatter(x='', y='', c='')\n",
    "data2.plot.scatter(x='', y='', c='', ax=ax)\n",
    "data3.plot.scatter(x='', y='', c='', ax=ax)\n",
    "```"
   ]
  }
 ],
 "metadata": {
  "kernelspec": {
   "display_name": "Python 3",
   "language": "python",
   "name": "python3"
  },
  "language_info": {
   "codemirror_mode": {
    "name": "ipython",
    "version": 3
   },
   "file_extension": ".py",
   "mimetype": "text/x-python",
   "name": "python",
   "nbconvert_exporter": "python",
   "pygments_lexer": "ipython3",
   "version": "3.6.3"
  }
 },
 "nbformat": 4,
 "nbformat_minor": 2
}
