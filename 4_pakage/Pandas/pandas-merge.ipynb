{
 "cells": [
  {
   "cell_type": "markdown",
   "metadata": {},
   "source": [
    "## 병합"
   ]
  },
  {
   "cell_type": "markdown",
   "metadata": {},
   "source": [
    "### merge"
   ]
  },
  {
   "cell_type": "markdown",
   "metadata": {},
   "source": [
    "공통 열 혹인 인덱스 기준으로 테이블을 합친다.\n",
    "- *key* : 기준이 되는 열의 데이터\n",
    "```\n",
    "pd.merge(df1, df2, how = 'outer', on = '고객명', right_index = True) \n",
    "```\n",
    "- 공통된 열을 기준으로 합친다.\n",
    "\n",
    "- how : inner(값이 있을 때만 존재), outer(값이 없어도 존재)\n",
    "- how : left(첫 번째 키값 모두 보여줌), right(두 번째 키값 모두 보여줌)\n",
    "\n",
    "- on : 키값 지정 (이름이 같을 시 _x, _y 가 붙는다.)\n",
    "- left_on, right_on : 이름이 다를 경우 키 지정\n",
    "\n",
    "- left_index, right_index : index값으로 키 지정"
   ]
  },
  {
   "cell_type": "markdown",
   "metadata": {},
   "source": [
    "### join\n",
    "merge 대신에 사용\n",
    "```\n",
    "df1.join(df2, how = \"outer\")\n",
    "```"
   ]
  },
  {
   "cell_type": "markdown",
   "metadata": {},
   "source": [
    "### concat\n",
    "키 값이 사용하지 않고 단순히 데이터 연결\n",
    "```\n",
    "pd.concat([df1, df2], axis = 1)\n",
    "```"
   ]
  },
  {
   "cell_type": "markdown",
   "metadata": {},
   "source": []
  },
  {
   "cell_type": "markdown",
   "metadata": {},
   "source": []
  },
  {
   "cell_type": "markdown",
   "metadata": {},
   "source": []
  },
  {
   "cell_type": "markdown",
   "metadata": {},
   "source": []
  },
  {
   "cell_type": "markdown",
   "metadata": {},
   "source": []
  }
 ],
 "metadata": {
  "kernelspec": {
   "display_name": "Python 3",
   "language": "python",
   "name": "python3"
  },
  "language_info": {
   "codemirror_mode": {
    "name": "ipython",
    "version": 3
   },
   "file_extension": ".py",
   "mimetype": "text/x-python",
   "name": "python",
   "nbconvert_exporter": "python",
   "pygments_lexer": "ipython3",
   "version": "3.6.3"
  }
 },
 "nbformat": 4,
 "nbformat_minor": 2
}
