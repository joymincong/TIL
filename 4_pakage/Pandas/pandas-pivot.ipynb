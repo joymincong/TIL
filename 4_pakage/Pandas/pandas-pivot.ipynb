{
 "cells": [
  {
   "cell_type": "markdown",
   "metadata": {},
   "source": [
    "# pivot"
   ]
  },
  {
   "cell_type": "markdown",
   "metadata": {},
   "source": [
    "- 두 개의를 키를 사용해 데이터를 선택하는 방법\n",
    "\n",
    "- 파라미터 index, columns, values로 데이터 프래임 다시 생성\n",
    "```\n",
    "df.pivot(index, columns, values)\n",
    "```\n",
    "- index와 columns에 해당하는 values가 2개 이상일 때 에러 발생\n",
    "  - 미리 groupby를 진행시킨다."
   ]
  },
  {
   "cell_type": "markdown",
   "metadata": {},
   "source": [
    "## groupby\n",
    "```\n",
    "df.groupby([\"Sex\"]).size().reset_index(name ='Count')\n",
    "```\n",
    "'시리즈'와 '데이터프래임' 해당 column 데이터끼리 묶어준다.\n",
    "- groupby() : Groupby 클래스 객체 반환\n",
    "\n",
    "### groupby 연산 메서드(dataframe 반환)\n",
    "- size(), count() : 갯수\n",
    "- mean(), median(), min(), max() : 평균, 중앙값, 최소, 최대\n",
    "- sum(), prod(), std(), var(), quantile() : 합, 곱, 편차, 분사, 사분위수\n",
    "- first(), last() :  첫 데이터, 마지막 데이터\n",
    "\n",
    "\n",
    "- agg(), aggregate() : 직접 만든 함수를 이용해  groupby 연산\n",
    "\n",
    "\n",
    "- describe() : 여러 함수를 이용해서 데이터프레임을 생성\n",
    "- apply() : 직접 만든 함수를 이용해 데이터 프레임 생성\n",
    "- transform() : 데이터 자체를 변형"
   ]
  },
  {
   "cell_type": "markdown",
   "metadata": {},
   "source": [
    "## pivot_table (groupby + pivot)"
   ]
  },
  {
   "cell_type": "markdown",
   "metadata": {},
   "source": [
    "```\n",
    "pivot_table(values, index, columns, aggfunc)\n",
    "\n",
    "df.pivot_table(values = \"Count\", index = [\"Sex\"], columns = [\"Pclass\"], aggfunc = np.sum)\n",
    "```\n",
    "\n",
    "- values : 데이터\n",
    "- index : 인덱스 리스트\n",
    "- columns : 컬럼 리스트 데이터\n",
    "- aggfunc : groupby aggregate 함수\n",
    "\n",
    "- fill_value : 데이터가 없을 때, 들어가는 데이터\n",
    "- dropna : 없는 데이터 제거\n",
    "\n",
    "**카운트할 때에는 Count라는 항목을 추가한다.**"
   ]
  },
  {
   "cell_type": "markdown",
   "metadata": {},
   "source": [
    "### fill_value\n",
    "```\n",
    "df.pivot_table(values = \"Count\", index = [\"Survived\"], columns = [\"Pclass\"], aggfunc = np.sum, fill_value = 0)\n",
    "```"
   ]
  },
  {
   "cell_type": "markdown",
   "metadata": {},
   "source": [
    "### dropna\n",
    " 없는 데이터 컬럼 제거\n",
    "```\n",
    "df.pivot_table(values = \"Count\", index = [\"Survived\"], columns = [\"Pclass\"], aggfunc = np.sum, dropna = False)\n",
    "```"
   ]
  }
 ],
 "metadata": {
  "kernelspec": {
   "display_name": "Python 3",
   "language": "python",
   "name": "python3"
  },
  "language_info": {
   "codemirror_mode": {
    "name": "ipython",
    "version": 3
   },
   "file_extension": ".py",
   "mimetype": "text/x-python",
   "name": "python",
   "nbconvert_exporter": "python",
   "pygments_lexer": "ipython3",
   "version": "3.6.3"
  }
 },
 "nbformat": 4,
 "nbformat_minor": 2
}
