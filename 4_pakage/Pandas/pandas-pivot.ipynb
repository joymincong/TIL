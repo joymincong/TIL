{
 "cells": [
  {
   "cell_type": "markdown",
   "metadata": {},
   "source": [
    "# pivot"
   ]
  },
  {
   "cell_type": "markdown",
   "metadata": {},
   "source": [
    "- 파라미터 index, columns, values로 데이터 프래임 다시 생성\n",
    "```\n",
    "df.pivot(index, columns, values)\n",
    "```\n",
    "- index와 columns에 해당하는 values가 2개 이상일 때 에러 발생\n",
    "  - 미리 groupby를 진행시킨다."
   ]
  },
  {
   "cell_type": "markdown",
   "metadata": {},
   "source": [
    "## groupby\n",
    "```\n",
    "df.groupby([\"Sex\"]).size().reset_index(name ='Count')\n",
    "```\n",
    "해당 column 데이터끼리 묶어준다."
   ]
  },
  {
   "cell_type": "markdown",
   "metadata": {},
   "source": [
    "## pivot_table (groupby + pivot)"
   ]
  },
  {
   "cell_type": "markdown",
   "metadata": {},
   "source": [
    "```\n",
    "pivot_table(values, index, columns, aggfunc)\n",
    "\n",
    "df.pivot_table(values = \"Count\", index = [\"Sex\"], columns = [\"Pclass\"], aggfunc = np.sum)\n",
    "```\n",
    "\n",
    "- values : 데이터\n",
    "- index : 인덱스 리스트\n",
    "- columns : 컬럼 리스트 데이터\n",
    "- aggfunc : groupby aggregate 함수\n",
    "\n",
    "- fill_value : 데이터가 없을 때, 들어가는 데이터\n",
    "- dropna : 없는 데이터 제거\n",
    "\n",
    "**카운트할 때에는 Count라는 항목을 추가한다.**"
   ]
  },
  {
   "cell_type": "markdown",
   "metadata": {},
   "source": [
    "### fill_value\n",
    "```\n",
    "df.pivot_table(values = \"Count\", index = [\"Survived\"], columns = [\"Pclass\"], aggfunc = np.sum, fill_value = 0)\n",
    "```"
   ]
  },
  {
   "cell_type": "markdown",
   "metadata": {},
   "source": [
    "### dropna\n",
    " 없는 데이터 컬럼 제거\n",
    "```\n",
    "df.pivot_table(values = \"Count\", index = [\"Survived\"], columns = [\"Pclass\"], aggfunc = np.sum, dropna = False)\n",
    "```"
   ]
  },
  {
   "cell_type": "markdown",
   "metadata": {},
   "source": []
  },
  {
   "cell_type": "markdown",
   "metadata": {},
   "source": []
  }
 ],
 "metadata": {
  "kernelspec": {
   "display_name": "Python 3",
   "language": "python",
   "name": "python3"
  },
  "language_info": {
   "codemirror_mode": {
    "name": "ipython",
    "version": 3
   },
   "file_extension": ".py",
   "mimetype": "text/x-python",
   "name": "python",
   "nbconvert_exporter": "python",
   "pygments_lexer": "ipython3",
   "version": "3.6.3"
  }
 },
 "nbformat": 4,
 "nbformat_minor": 2
}
