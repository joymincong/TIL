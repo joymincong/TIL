{
 "cells": [
  {
   "cell_type": "markdown",
   "metadata": {},
   "source": [
    "# Numpy"
   ]
  },
  {
   "cell_type": "markdown",
   "metadata": {},
   "source": [
    "선형대수 계산과 같이 array를 활용한 계산을 지원해 주는 파이썬 패키지"
   ]
  },
  {
   "cell_type": "markdown",
   "metadata": {},
   "source": [
    "### 패키지 선언"
   ]
  },
  {
   "cell_type": "markdown",
   "metadata": {},
   "source": [
    "`import numpy as np`"
   ]
  },
  {
   "cell_type": "markdown",
   "metadata": {},
   "source": [
    "## array = ndarray (객체)"
   ]
  },
  {
   "cell_type": "markdown",
   "metadata": {},
   "source": [
    "#### 선언"
   ]
  },
  {
   "cell_type": "markdown",
   "metadata": {},
   "source": [
    "```\n",
    "array = np.array([0, 1, 2, 3, 4]) : 1차원\n",
    "array = np.array([[0, 1], [2, 3]]) : 2차원\n",
    "```"
   ]
  },
  {
   "cell_type": "markdown",
   "metadata": {},
   "source": [
    "#### 관련 변수"
   ]
  },
  {
   "cell_type": "markdown",
   "metadata": {},
   "source": [
    "- ndim : 차원\n",
    "- shape : 행렬의 모양\n",
    "- dtype : 데이터의 datatype\n",
    "- T : 전치 행렬"
   ]
  },
  {
   "cell_type": "markdown",
   "metadata": {},
   "source": [
    "## reshape"
   ]
  },
  {
   "cell_type": "markdown",
   "metadata": {},
   "source": [
    "```\n",
    "ar.reshape(2, 4) : 2x4 행렬로 변환\n",
    "np.reshape(ar, (2, 2, 2)) : 2x2x2로 행렬 변환\n",
    "```"
   ]
  },
  {
   "cell_type": "markdown",
   "metadata": {},
   "source": [
    "## Index"
   ]
  },
  {
   "cell_type": "markdown",
   "metadata": {},
   "source": [
    "```\n",
    "ar[1][2][1] = ar[1, 2, 1] : 1, 2, 1에 위치한 값 가져오기\n",
    "ar[1:, 1:, 2:] : 부분적인 행렬 가져오기\n",
    "\n",
    "* 차원의 수는 변하지 않는다.\n",
    "```"
   ]
  },
  {
   "cell_type": "markdown",
   "metadata": {},
   "source": [
    "## Unique"
   ]
  },
  {
   "cell_type": "markdown",
   "metadata": {},
   "source": [
    "```\n",
    "idx, count = np.unique(r, return_counts=True)\n",
    "```\n",
    "- idx : 유일한 값에 대한 리스트\n",
    "- count : 각 값에 대한 갯수 리스트\n",
    "\n",
    "- 카테고리 값 확인 할 때 사용"
   ]
  },
  {
   "cell_type": "markdown",
   "metadata": {},
   "source": [
    "## 특별한 행렬 제작"
   ]
  },
  {
   "cell_type": "markdown",
   "metadata": {},
   "source": [
    "#### zeros"
   ]
  },
  {
   "cell_type": "markdown",
   "metadata": {},
   "source": [
    "```\n",
    "np.zeros(5) : 1차원 영벡터 생성\n",
    "np.zeros((2, 3)) : 2차원 영벡터 생성\n",
    "\n",
    "np.zeros([2, 3]) : 리스트로 생성가능\n",
    "```"
   ]
  },
  {
   "cell_type": "markdown",
   "metadata": {},
   "source": [
    "#### ones"
   ]
  },
  {
   "cell_type": "markdown",
   "metadata": {},
   "source": [
    "```\n",
    "np.ones([2, 3, 4]) : 3차원 일 벡터 생성\n",
    "```"
   ]
  },
  {
   "cell_type": "markdown",
   "metadata": {},
   "source": [
    "#### eye"
   ]
  },
  {
   "cell_type": "markdown",
   "metadata": {},
   "source": [
    "```\n",
    "np.eye(3)\n",
    "\n",
    "* np.eye([5, 3]) : non-square matrix도 가능 (대각에 1로 채워진다.)\n",
    "```"
   ]
  },
  {
   "cell_type": "markdown",
   "metadata": {},
   "source": [
    "#### like"
   ]
  },
  {
   "cell_type": "markdown",
   "metadata": {},
   "source": [
    "- 모든 데이터 1로 전환\n",
    "```\n",
    "ls = np.ones_like(ar)\n",
    "```\n",
    "- 모든 데이터 0로 전환\n",
    "```\n",
    "ls = np.zeros_like(ar)\n",
    "```"
   ]
  },
  {
   "cell_type": "markdown",
   "metadata": {},
   "source": [
    "#### empty"
   ]
  },
  {
   "cell_type": "markdown",
   "metadata": {},
   "source": [
    "```\n",
    "np.empty([2, 3, 4]) : 더미 데이터가 들어 간 빈 행렬 제작\n",
    "```"
   ]
  },
  {
   "cell_type": "markdown",
   "metadata": {},
   "source": [
    "## arange 생성"
   ]
  },
  {
   "cell_type": "markdown",
   "metadata": {},
   "source": [
    "- `range` 보다 빠르게 생성한다. "
   ]
  },
  {
   "cell_type": "markdown",
   "metadata": {},
   "source": [
    "#### 선언"
   ]
  },
  {
   "cell_type": "markdown",
   "metadata": {},
   "source": [
    "```\n",
    "np.arange(10) : 0-9까지 1차원 수열 생성\n",
    "np.arange(2, 10, 3) : 2-9까지 3step의 1차원 수열 생성\n",
    "np.arange(10, 1, -2) : 10-2까지 -2step으로 1차원 역 수열 생성\n",
    "```"
   ]
  },
  {
   "cell_type": "markdown",
   "metadata": {},
   "source": [
    "#### linspace, logspace"
   ]
  },
  {
   "cell_type": "markdown",
   "metadata": {},
   "source": [
    "```\n",
    "np.linspace(0, 100, 4) : 0 에서 100까지 4등분한 위치를 1차원 수열 생성\n",
    "\n",
    "np.logspace(2, 4, 3) : x=2-4까지 3등분한 위치를 10**2한 1차원 수열 생성\n",
    "```"
   ]
  },
  {
   "cell_type": "markdown",
   "metadata": {},
   "source": [
    "#### 세로 arange 생성"
   ]
  },
  {
   "cell_type": "markdown",
   "metadata": {},
   "source": [
    "```\n",
    "np.arange(5)[:, np.newaxis]\n",
    "```"
   ]
  },
  {
   "cell_type": "markdown",
   "metadata": {},
   "source": [
    "## Random"
   ]
  },
  {
   "cell_type": "markdown",
   "metadata": {},
   "source": [
    "#### 시드 생성"
   ]
  },
  {
   "cell_type": "markdown",
   "metadata": {},
   "source": [
    "```\n",
    "np.random.seed(1) : 시드 생성\n",
    "```"
   ]
  },
  {
   "cell_type": "markdown",
   "metadata": {},
   "source": [
    "#### 난수 발생"
   ]
  },
  {
   "cell_type": "markdown",
   "metadata": {},
   "source": [
    "```\n",
    "np.random.rand(5, 5) : 5x5의 (0, 1)사이 균등 분포한 난수 발생\n",
    "np.random.randn(10) : 10개의 정규분포한 난수 발생\n",
    "```\n",
    "* seed에 의해 값 고정이 가능하다."
   ]
  },
  {
   "cell_type": "markdown",
   "metadata": {},
   "source": [
    "##### (0, 1)이외의 균등 분포 난수 설정\n",
    "```\n",
    "ar = np.random.rand(5,5)\n",
    "ar = (ar*6+5) : (5,10) 난수 설정\n",
    "```"
   ]
  },
  {
   "cell_type": "markdown",
   "metadata": {},
   "source": [
    "```\n",
    "np.random.randint(0, 10, (3,3)) : 3x3 행렬 0부터 9까지 정수 난수 발생\n",
    "np.random.randint(10, size=(3,4)) : 3x4 행렬 0부터 9까지 정수 난수 발생\n",
    "```\n",
    "* seed에 영향 받지 않는다. 매번 값이 달라진다."
   ]
  },
  {
   "cell_type": "markdown",
   "metadata": {},
   "source": [
    "#### Random 함수"
   ]
  },
  {
   "cell_type": "markdown",
   "metadata": {},
   "source": [
    "```\n",
    "np.random.shuffle(r)\n",
    "```\n",
    "- 오직 첫번째 차원에서만 셔플된다.\n",
    "- 그러기 때문에 1차원으로 변환한 후 셔플한다."
   ]
  },
  {
   "cell_type": "markdown",
   "metadata": {},
   "source": [
    "```\n",
    "np.random.choice([return list], 10, p=[확률 list])\n",
    "> return list에서 10개를 p 확률로 추출한다.\n",
    "```\n",
    "- return list의 갯수와 확률 list 갯수가 같아야 한다.\n",
    "- 확률 list의 합은 1이다."
   ]
  },
  {
   "cell_type": "markdown",
   "metadata": {},
   "source": [
    "## stack"
   ]
  },
  {
   "cell_type": "markdown",
   "metadata": {},
   "source": [
    "```\n",
    "np.stack((ar1, ar2), axis = 0)\n",
    "```\n",
    "- axis = 0 은 가로축으로 쌓는 방식 \n",
    "- 차원이 증가한다.\n",
    "\n",
    "```\n",
    "np.stack((ar1, ar2), axis = -1 or 1)\n",
    "```\n",
    "- axis = -1or1 은 세로축으로 쌓는 방식\n",
    "- 요소를 하나하나 가져온다\n",
    "- 차원이 증가한다."
   ]
  },
  {
   "cell_type": "markdown",
   "metadata": {},
   "source": [
    "- 1차원에서는 세로축으로 쌓인다.\n",
    "- 2차원에서는 axis = 0과 axis = 1의 shape은 서로 같다.\n",
    "- ar1과 ar2의 크기는 항상 같아야 한다."
   ]
  },
  {
   "cell_type": "markdown",
   "metadata": {},
   "source": [
    "#### 리스트 스택 쌓기"
   ]
  },
  {
   "cell_type": "markdown",
   "metadata": {},
   "source": [
    "```\n",
    "np.vstack(ls) : 수직으로 ls 합치기\n",
    "```\n",
    "```\n",
    "np.hstack(ls) : 수평으로 ls 합치기\n",
    "```\n",
    "- 리스트 내부의 값의 행렬 shape가 같아야 한다."
   ]
  },
  {
   "cell_type": "markdown",
   "metadata": {},
   "source": [
    "## concatenate (결합)"
   ]
  },
  {
   "cell_type": "markdown",
   "metadata": {},
   "source": [
    "```\n",
    "np.concatenate([r1, r2], axis = 0) : 가로 결합\n",
    "```\n",
    "- 열의 갯수가 같아야 한다.\n",
    "```\n",
    "np.concatenate([r1, r2], axis = 1) : 세로 결합\n",
    "```\n",
    "- 행의 갯수가 같아야 한다."
   ]
  },
  {
   "cell_type": "markdown",
   "metadata": {},
   "source": [
    "```\n",
    "np.c_[ar1, ar2] : 세로로 결합\n",
    "np.r_[ar1, ar2] : 가로로 결합\n",
    "```"
   ]
  },
  {
   "cell_type": "markdown",
   "metadata": {},
   "source": [
    "## split"
   ]
  },
  {
   "cell_type": "markdown",
   "metadata": {},
   "source": [
    "```\n",
    "ar1, ar2, ar3, ar4 = np.split(r, [2, 4, 5]) : index가 2, 4, 5를 기준으로 나누어진다.\n",
    "```"
   ]
  },
  {
   "cell_type": "markdown",
   "metadata": {},
   "source": [
    "#### vsplit, hsplit"
   ]
  },
  {
   "cell_type": "markdown",
   "metadata": {},
   "source": [
    "```\n",
    "np.vsplit(r, [2]) : 수평으로 array 나눔\n",
    "```\n",
    "```\n",
    "np.hsplit(r, [2]) : 수직으로 array 나눔\n",
    "```\n",
    "**- 수직, 수평이 반대**"
   ]
  },
  {
   "cell_type": "markdown",
   "metadata": {},
   "source": [
    "## sort"
   ]
  },
  {
   "cell_type": "markdown",
   "metadata": {},
   "source": [
    "```\n",
    "ar.sort() : 가로축으로 오름차순으로 정렬\n",
    "ar.sort(axis = 0) : 세로축으로 오름차순으로 정렬\n",
    "```"
   ]
  }
 ],
 "metadata": {
  "kernelspec": {
   "display_name": "Python 3",
   "language": "python",
   "name": "python3"
  },
  "language_info": {
   "codemirror_mode": {
    "name": "ipython",
    "version": 3
   },
   "file_extension": ".py",
   "mimetype": "text/x-python",
   "name": "python",
   "nbconvert_exporter": "python",
   "pygments_lexer": "ipython3",
   "version": "3.6.3"
  }
 },
 "nbformat": 4,
 "nbformat_minor": 2
}
