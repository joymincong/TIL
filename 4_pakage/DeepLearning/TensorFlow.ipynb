{
 "cells": [
  {
   "cell_type": "markdown",
   "metadata": {},
   "source": [
    "# Tensor flow\n",
    "분산처리 기능이 강화된 (Symbolic Linear Algebra Complier)"
   ]
  },
  {
   "cell_type": "markdown",
   "metadata": {},
   "source": [
    "## 1. 사용 절차\n",
    "\n",
    "- 심볼 변수 정의\n",
    "- 심볼 관계 정의\n",
    "- 세션 정의 = 함수와 같은 역할\n",
    "- 세션 사용"
   ]
  },
  {
   "cell_type": "markdown",
   "metadata": {},
   "source": [
    "### 1-1. 심볼 변수"
   ]
  },
  {
   "cell_type": "code",
   "execution_count": 1,
   "metadata": {},
   "outputs": [],
   "source": [
    "import tensorflow as tf"
   ]
  },
  {
   "cell_type": "code",
   "execution_count": 2,
   "metadata": {},
   "outputs": [],
   "source": [
    "x = tf.Variable(1.0)\n",
    "y = tf.Variable(2.0)"
   ]
  },
  {
   "cell_type": "markdown",
   "metadata": {},
   "source": [
    "### 1-2. 심볼 관계"
   ]
  },
  {
   "cell_type": "code",
   "execution_count": 4,
   "metadata": {},
   "outputs": [],
   "source": [
    "z = x + y"
   ]
  },
  {
   "cell_type": "code",
   "execution_count": 5,
   "metadata": {},
   "outputs": [],
   "source": [
    "u = tf.log(z)"
   ]
  },
  {
   "cell_type": "markdown",
   "metadata": {},
   "source": [
    "### 1-3. 세션\n",
    "세션 : 계산 그래프를 생성하고 계산 환경 생성\n",
    "\n",
    "- 세션 생성 : Session\n",
    "- 세션 사용 : run\n",
    "- 세션 종료 : close \n",
    "* 보통 with를 사용해 Session을 열고 닫는다."
   ]
  },
  {
   "cell_type": "code",
   "execution_count": 7,
   "metadata": {},
   "outputs": [
    {
     "name": "stdout",
     "output_type": "stream",
     "text": [
      "3.0\n",
      "1.09861\n"
     ]
    }
   ],
   "source": [
    "# 세션 생성\n",
    "sess = tf.Session()\n",
    "\n",
    "# 초기 값 생성\n",
    "init = tf.global_variables_initializer()\n",
    "\n",
    "# 세션 사용\n",
    "sess.run(init)\n",
    "print(sess.run(z))\n",
    "print(sess.run(u))\n",
    "\n",
    "# 세션 종료\n",
    "sess.close()"
   ]
  },
  {
   "cell_type": "code",
   "execution_count": 8,
   "metadata": {},
   "outputs": [
    {
     "name": "stdout",
     "output_type": "stream",
     "text": [
      "1.0\n",
      "[2.0]\n"
     ]
    }
   ],
   "source": [
    "f = x ** 2\n",
    "fx = tf.gradients(f, [x]) # 미분은 tensor에 있는 것을 사용\n",
    "\n",
    "# with 문을 통한 Session 열고 닫기\n",
    "with tf.Session() as sess:\n",
    "    init = tf.global_variables_initializer()\n",
    "    sess.run(init)\n",
    "    print(sess.run(f))\n",
    "    print(sess.run(fx))"
   ]
  },
  {
   "cell_type": "markdown",
   "metadata": {},
   "source": [
    "### 1-4. 최적화\n",
    "\n",
    "Theano의 Update와 달리 GradientDescentOptimizer를 이용해 구현이 가능하다."
   ]
  },
  {
   "cell_type": "markdown",
   "metadata": {},
   "source": [
    "## 2. tensorflow로 퍼셉트론 구현"
   ]
  },
  {
   "cell_type": "code",
   "execution_count": 9,
   "metadata": {},
   "outputs": [],
   "source": [
    "# Load data\n",
    "from sklearn.datasets import load_iris\n",
    "iris = load_iris()\n",
    "\n",
    "idx = np.in1d(iris.target, [0,2])\n",
    "X_data = iris.data[idx, 0:2]\n",
    "y_data = (iris.target[idx] - 1.0)[:, np.newaxis]"
   ]
  },
  {
   "cell_type": "code",
   "execution_count": 16,
   "metadata": {},
   "outputs": [],
   "source": [
    "# tensor flow 구현\n",
    "np.random.seed(0)\n",
    "\n",
    "# weight, bias 초기화\n",
    "w = tf.Variable(1e-3 * np.random.randn(2, 1))\n",
    "b = tf.Variable(1e-3 * np.random.randn(1)[0])\n",
    "\n",
    "# Symbol 관계 정의 sigmoid 함수 tanh(wx + b)\n",
    "d = tf.tanh(tf.matmul(X_data, w) + b)\n",
    "\n",
    "# Loss function 정의\n",
    "zero = np.zeros(1, dtype=np.float64)[0]\n",
    "loss = tf.reduce_sum(tf.maximum(zero, tf.multiply(-y_data, d)))\n",
    "\n",
    "# optimizer 정의\n",
    "optimizer = tf.train.GradientDescentOptimizer(1e-7)\n",
    "train = optimizer.minimize(loss)"
   ]
  },
  {
   "cell_type": "code",
   "execution_count": 25,
   "metadata": {},
   "outputs": [],
   "source": [
    "# Seesion 생성\n",
    "with tf.Session() as sess:\n",
    "    \n",
    "    # log 생성\n",
    "    w_summary = tf.summary.histogram(\"w\", w)\n",
    "    b_summary = tf.summary.histogram(\"b\", b)\n",
    "    d_summary = tf.summary.histogram(\"d\", d)\n",
    "    loss_summary = tf.summary.histogram(\"loss\", loss)\n",
    "    merge = tf.summary.merge([w_summary, b_summary, d_summary, loss_summary])\n",
    "    \n",
    "    # 초기화 Session\n",
    "    init = tf.global_variables_initializer()\n",
    "    sess.run(init)\n",
    "    \n",
    "    for i in range(100):\n",
    "        sess.run(train) # desent 진행\n",
    "        summary = sess.run(merge) # log 기록\n",
    "    \n",
    "    # 결과 확인\n",
    "    y_pred = sess.run(tf.sign(d))"
   ]
  },
  {
   "cell_type": "code",
   "execution_count": 24,
   "metadata": {},
   "outputs": [
    {
     "data": {
      "text/plain": [
       "array([[49,  1],\n",
       "       [ 1, 49]], dtype=int64)"
      ]
     },
     "execution_count": 24,
     "metadata": {},
     "output_type": "execute_result"
    }
   ],
   "source": [
    "# 결과 확인\n",
    "from sklearn.metrics import confusion_matrix\n",
    "confusion_matrix(y_data, y_pred)"
   ]
  }
 ],
 "metadata": {
  "kernelspec": {
   "display_name": "Python 3",
   "language": "python",
   "name": "python3"
  },
  "language_info": {
   "codemirror_mode": {
    "name": "ipython",
    "version": 3
   },
   "file_extension": ".py",
   "mimetype": "text/x-python",
   "name": "python",
   "nbconvert_exporter": "python",
   "pygments_lexer": "ipython3",
   "version": "3.6.3"
  }
 },
 "nbformat": 4,
 "nbformat_minor": 2
}
