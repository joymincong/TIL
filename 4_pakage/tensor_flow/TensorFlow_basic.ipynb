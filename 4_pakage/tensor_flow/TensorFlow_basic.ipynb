{
 "cells": [
  {
   "cell_type": "markdown",
   "metadata": {},
   "source": [
    "# Tensor Flow 기본 사용법"
   ]
  },
  {
   "cell_type": "code",
   "execution_count": 5,
   "metadata": {
    "collapsed": true
   },
   "outputs": [],
   "source": [
    "import tensorflow as tf"
   ]
  },
  {
   "cell_type": "markdown",
   "metadata": {},
   "source": [
    "## 1. 개요\n",
    "\n",
    "Tensor flow는 graph로 연산을 나타내는 프로그래밍 시스템\n",
    "\n",
    "### 용어 정리\n",
    "- operation : graph에 있는 노드 = op\n",
    "- Tensor : 다차원의 배열(python : ndarray)\n",
    "- graph : 노드(op)와 엣지(data)로 이루어진 구조\n",
    "- session : graph을 디바이스에 배정하는 메서드 제공"
   ]
  },
  {
   "cell_type": "markdown",
   "metadata": {},
   "source": [
    "## 2. 동작원리\n",
    "\n",
    "1. graph 설계 (구성 단계)\n",
    "2. Session에서 실행 (실행 단계)"
   ]
  },
  {
   "cell_type": "code",
   "execution_count": 2,
   "metadata": {
    "collapsed": true
   },
   "outputs": [],
   "source": [
    "# graph 생성\n",
    "\n",
    "# constant 변수 정의\n",
    "matrix1 = tf.constant([[3., 3.]])\n",
    "matrix2 = tf.constant([[2.], [2.]])\n",
    "\n",
    "# 두 mat 곱\n",
    "product = tf.matmul(matrix1, matrix2)"
   ]
  },
  {
   "cell_type": "code",
   "execution_count": 4,
   "metadata": {},
   "outputs": [
    {
     "name": "stdout",
     "output_type": "stream",
     "text": [
      "[[ 12.]]\n"
     ]
    }
   ],
   "source": [
    "# session 실행\n",
    "sess = tf.Session()\n",
    "\n",
    "# 입력한 값 실행 op3개 실행\n",
    "result = sess.run(product)\n",
    "print(result)\n",
    "\n",
    "sess.close()"
   ]
  },
  {
   "cell_type": "code",
   "execution_count": 6,
   "metadata": {},
   "outputs": [
    {
     "name": "stdout",
     "output_type": "stream",
     "text": [
      "[[ 12.]]\n"
     ]
    }
   ],
   "source": [
    "# with문으로 간단하게\n",
    "with tf.Session() as sess:\n",
    "    result = sess.run(product)\n",
    "    print(result)"
   ]
  },
  {
   "cell_type": "markdown",
   "metadata": {},
   "source": [
    "## 3. 분산된 session에서 graph 실행"
   ]
  },
  {
   "cell_type": "markdown",
   "metadata": {},
   "source": [
    "### 3-1. GPU 선택\n",
    "- 기본적으로 첫번째 GPU이용\n",
    "- 복수의 GPU 이용시 명시적으로 지정"
   ]
  },
  {
   "cell_type": "code",
   "execution_count": 13,
   "metadata": {},
   "outputs": [],
   "source": [
    "# 복수 GPU 이용\n",
    "with tf.Session() as sess:\n",
    "    with tf.device(\"/gpu:0\"):\n",
    "        result = sess.run(product)"
   ]
  },
  {
   "cell_type": "markdown",
   "metadata": {},
   "source": [
    "- `with tf.device()` 이용\n",
    "- `/cpu:0`, `/gpu:0`, `/gpu:1`"
   ]
  },
  {
   "cell_type": "markdown",
   "metadata": {},
   "source": [
    "### 3-2. Cluster에서 session 실행\n",
    "- 클러스터 : 여러 대의 컴퓨터를 연결해 하나의 시스템처럼 동작하는 컴퓨터 집합"
   ]
  },
  {
   "cell_type": "code",
   "execution_count": 3,
   "metadata": {},
   "outputs": [],
   "source": [
    "# with tf.Session(\"http://example.org\") as sess: # master\n",
    "#     with tf.device(\"/job:ps/task:0\"): # 특정머신에 작업 분배\n",
    "#         sess.run()"
   ]
  },
  {
   "cell_type": "markdown",
   "metadata": {},
   "source": [
    "## 4. Interacticve 사용"
   ]
  },
  {
   "cell_type": "code",
   "execution_count": 7,
   "metadata": {},
   "outputs": [
    {
     "name": "stdout",
     "output_type": "stream",
     "text": [
      "[-2. -1.]\n"
     ]
    }
   ],
   "source": [
    "sess = tf.InteractiveSession()\n",
    "\n",
    "x = tf.Variable([1.0, 2.0])\n",
    "a = tf.constant([3.0, 3.0])\n",
    "\n",
    "# 초기화 op로 x 초기화\n",
    "x.initializer.run()\n",
    "\n",
    "sub = tf.subtract(x, a)\n",
    "print(sub.eval())\n",
    "\n",
    "sess.close()"
   ]
  },
  {
   "cell_type": "markdown",
   "metadata": {},
   "source": [
    "## 5. Tensors\n",
    "- tensor-flow에서 사용하는데이터 구조\n",
    "- n차원의 배열이나 리스트\n",
    "- static type, rank(n-dim), shape(nxm)"
   ]
  },
  {
   "cell_type": "markdown",
   "metadata": {},
   "source": [
    "## 6. Variables\n",
    "- variable은 파라미터 변수로 표현"
   ]
  },
  {
   "cell_type": "code",
   "execution_count": 8,
   "metadata": {},
   "outputs": [
    {
     "name": "stdout",
     "output_type": "stream",
     "text": [
      "0\n",
      "1\n",
      "2\n",
      "3\n"
     ]
    }
   ],
   "source": [
    "state = tf.Variable(0, name = \"counter\") # 변하는 값\n",
    "one = tf.constant(1) # 상수 값\n",
    "\n",
    "# a + 1\n",
    "new_value = tf.add(state, one)\n",
    "\n",
    "# a = a + 1\n",
    "update = tf.assign(state, new_value) \n",
    "\n",
    "# init을 이용해 변수 초기화\n",
    "init_op = tf.global_variables_initializer()\n",
    "\n",
    "# Session 실행\n",
    "with tf.Session() as sess:\n",
    "    sess.run(init_op)\n",
    "    \n",
    "    # 시작 state\n",
    "    print(sess.run(state))\n",
    "    \n",
    "    for _ in range(3):\n",
    "        sess.run(update)\n",
    "        print(sess.run(state))"
   ]
  },
  {
   "cell_type": "markdown",
   "metadata": {},
   "source": [
    "## 7. Fetches\n",
    "- 복수의 tensor를 받아 계산하는 것\n",
    "- subgraphy를 생성해 병렬처리를 가능하게 해준다."
   ]
  },
  {
   "cell_type": "code",
   "execution_count": 15,
   "metadata": {},
   "outputs": [
    {
     "name": "stdout",
     "output_type": "stream",
     "text": [
      "15625 10\n"
     ]
    }
   ],
   "source": [
    "x = tf.constant(2)\n",
    "y = tf.constant(3)\n",
    "\n",
    "add_op = tf.add(x, y) # 5\n",
    "mul_op = tf.multiply(x, y) # 6\n",
    "useless = tf.multiply(x, add_op) # 10\n",
    "pow_op = tf.pow(add_op, mul_op) # 5 ** 6 = 15625\n",
    "\n",
    "with tf.Session() as sess:\n",
    "    x, not_useless = sess.run([pow_op, useless])\n",
    "    print(x, not_useless)"
   ]
  },
  {
   "cell_type": "markdown",
   "metadata": {},
   "source": [
    "### 8. Feeds\n",
    "- graph가 실행 할 때 직접 tensor 값을 주는 것 feed 메커니즘\n",
    "- 차원이 달라도 실행이 가능\n",
    "- run의 파라미터로 사용"
   ]
  },
  {
   "cell_type": "code",
   "execution_count": 10,
   "metadata": {},
   "outputs": [
    {
     "name": "stdout",
     "output_type": "stream",
     "text": [
      "[array([ 14.], dtype=float32)]\n"
     ]
    }
   ],
   "source": [
    "input1 = tf.placeholder(tf.float32)\n",
    "input2 = tf.placeholder(tf.float32)\n",
    "output = input1 * input2\n",
    "\n",
    "with tf.Session() as sess:\n",
    "    print(sess.run([output], feed_dict={input1:[7.], input2:[2.]}))"
   ]
  },
  {
   "cell_type": "code",
   "execution_count": null,
   "metadata": {},
   "outputs": [],
   "source": []
  }
 ],
 "metadata": {
  "kernelspec": {
   "display_name": "Python 3",
   "language": "python",
   "name": "python3"
  },
  "language_info": {
   "codemirror_mode": {
    "name": "ipython",
    "version": 3
   },
   "file_extension": ".py",
   "mimetype": "text/x-python",
   "name": "python",
   "nbconvert_exporter": "python",
   "pygments_lexer": "ipython3",
   "version": "3.6.3"
  }
 },
 "nbformat": 4,
 "nbformat_minor": 2
}
