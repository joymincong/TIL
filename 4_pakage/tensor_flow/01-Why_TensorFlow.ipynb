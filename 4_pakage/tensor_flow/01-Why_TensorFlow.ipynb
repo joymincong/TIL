{
 "cells": [
  {
   "cell_type": "markdown",
   "metadata": {},
   "source": [
    "# 딥러닝과 텐서플로의 만남"
   ]
  },
  {
   "cell_type": "markdown",
   "metadata": {},
   "source": [
    "## 1.1 인공지능, 머신러닝 그리고 딥러닝"
   ]
  },
  {
   "cell_type": "markdown",
   "metadata": {},
   "source": [
    "- **인공지능** : 인간의 사고를 모방하는 것\n",
    "- **머신러닝** : 컴퓨터가 스스로 학습하는 것\n",
    "- **딥러닝** : 인공신경망을 이용한 머신러닝 구현하는 기술"
   ]
  },
  {
   "cell_type": "markdown",
   "metadata": {},
   "source": [
    "- ** Rule-based AI** : feature을 인간이 직접 알려주어 학습하는 방법\n",
    "- **Machine Learning** : feature를 스스로 학습하는 방법 (end to end 학습)"
   ]
  },
  {
   "cell_type": "markdown",
   "metadata": {},
   "source": [
    "## 1.2 텐서 플로우"
   ]
  },
  {
   "cell_type": "markdown",
   "metadata": {},
   "source": [
    "- **Tensor Flow** : 딥러닝 프로그램을 쉽게 구현할 수 있도록 하는 머신러닝 라이브러리\n",
    "  -  Python으로 제작\n",
    "\n",
    "\n",
    " - **Tensor Flow의 장점** : 커뮤니티가 가장 활발하게 진행되어 있다."
   ]
  }
 ],
 "metadata": {
  "kernelspec": {
   "display_name": "Python 3",
   "language": "python",
   "name": "python3"
  },
  "language_info": {
   "codemirror_mode": {
    "name": "ipython",
    "version": 3
   },
   "file_extension": ".py",
   "mimetype": "text/x-python",
   "name": "python",
   "nbconvert_exporter": "python",
   "pygments_lexer": "ipython3",
   "version": "3.6.3"
  }
 },
 "nbformat": 4,
 "nbformat_minor": 2
}
