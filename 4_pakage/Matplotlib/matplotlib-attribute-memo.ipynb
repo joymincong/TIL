{
 "cells": [
  {
   "cell_type": "markdown",
   "metadata": {},
   "source": [
    "# matplotlib"
   ]
  },
  {
   "cell_type": "markdown",
   "metadata": {},
   "source": [
    "데이터 시각화 라이브러리"
   ]
  },
  {
   "cell_type": "markdown",
   "metadata": {},
   "source": [
    "## 1. Setting"
   ]
  },
  {
   "cell_type": "markdown",
   "metadata": {},
   "source": [
    "### matplot 매직 커맨드"
   ]
  },
  {
   "cell_type": "markdown",
   "metadata": {},
   "source": [
    "```\n",
    "%matplotlib inline\n",
    "%config InlineBackend.figure_formats = {'png', 'retina'}\n",
    "```"
   ]
  },
  {
   "cell_type": "markdown",
   "metadata": {},
   "source": [
    "### import"
   ]
  },
  {
   "cell_type": "markdown",
   "metadata": {},
   "source": [
    "```\n",
    "import matplotlib as mpl\n",
    "import matplotlib.pyplot as plt\n",
    "```"
   ]
  },
  {
   "cell_type": "markdown",
   "metadata": {},
   "source": [
    "## 2. Basic Line Plot"
   ]
  },
  {
   "cell_type": "markdown",
   "metadata": {},
   "source": [
    "```\n",
    "plt.plot(data) : data에 array값 입력\n",
    "plt.show()\n",
    "```"
   ]
  },
  {
   "cell_type": "markdown",
   "metadata": {},
   "source": [
    "## xtick"
   ]
  },
  {
   "cell_type": "markdown",
   "metadata": {},
   "source": [
    "xtick : x축 범위 지정\n",
    "ytick : y축 범위 지정\n",
    "```\n",
    "xtick = range(0, 100, 10) \n",
    "plt.plot(xtick, data)\n",
    "```"
   ]
  },
  {
   "cell_type": "markdown",
   "metadata": {},
   "source": [
    "#### xticks, yticks\n",
    "\n",
    "```\n",
    "plt.xticks(range(5)) : array 값 입력\n",
    "plt.yticks(range(5)) : array 값 입력\n",
    "```\n",
    "### limit\n",
    "```\n",
    "plt.xlim(-5, 10)\n",
    "plt.ylim(-10, 30)\n",
    "```"
   ]
  },
  {
   "cell_type": "markdown",
   "metadata": {},
   "source": [
    "## 스타일"
   ]
  },
  {
   "cell_type": "markdown",
   "metadata": {},
   "source": [
    "```\n",
    "plt.plot(data, 'rp-')\n",
    "r : 색상\n",
    "p : 마커\n",
    "- : 라인 스타일\n",
    "```"
   ]
  },
  {
   "cell_type": "markdown",
   "metadata": {},
   "source": [
    "\n",
    "#### 색상\n",
    "- blue(b), green(g), red(r), cyan(c), magenta(m), yellow(y), black(k), white(w)\n",
    "\n",
    "#### 마커\n",
    "- 점(.), 픽셀(,), 원(o), 역삼각형(v 1), 삼각(^ 2), 왼삼(< 3), 오삼(> 4)\n",
    "- 사각(s), 오각(p), 별(*), 육각(h H), 플러스(+), 엑스(x)\n",
    "- 다이아(D), 얇은 다이아(d)\n",
    "\n",
    "#### 라인\n",
    "- 직선(-), 대쉬선(--), 대쉬점선(-.), 점선(:)\n",
    "\n",
    "#### 커스텀 스타일\n",
    "- 선색(c), 선굵기(lw), 선스타일(ls)\n",
    "- 마커종류(marker), 마커크기(ms), 마커선색(mec), 마커선굵기(mew), 마커내부색(mfc)"
   ]
  },
  {
   "cell_type": "markdown",
   "metadata": {},
   "source": [
    "## Grid"
   ]
  },
  {
   "cell_type": "markdown",
   "metadata": {},
   "source": [
    "```\n",
    "plt.grid(True) : 그리드 추가\n",
    "```"
   ]
  },
  {
   "cell_type": "markdown",
   "metadata": {},
   "source": [
    "# 멀티 라인 그리기"
   ]
  },
  {
   "cell_type": "markdown",
   "metadata": {},
   "source": [
    "### 하나로 표현\n",
    "```\n",
    "plt.plot(xticks, data1, 'ro-', xticks, data2, 'g^:', xticks, data3, 'bD-.')\n",
    "```\n",
    "\n",
    "### 여러번 나누어 표현\n",
    "```\n",
    "plt.plot(xticks, data1)\n",
    "plt.plot(xticks, data2)\n",
    "plt.plot(xticks, data3)\n",
    "```"
   ]
  },
  {
   "cell_type": "markdown",
   "metadata": {},
   "source": [
    "### legend(범례)"
   ]
  },
  {
   "cell_type": "markdown",
   "metadata": {},
   "source": [
    "```\n",
    "plt.plot(data1, label = 'data1')\n",
    "plt.plot(data2, label = 'data2')\n",
    "plt.legend(loc = 1)\n",
    "```\n",
    "- best(0), upR(1), upL(2), loL(3)m loR(4)\n",
    "- right(5), cenL(6), cenR(7), cenL(8), cenU(9), cen(10)"
   ]
  },
  {
   "cell_type": "markdown",
   "metadata": {},
   "source": [
    "### label, title"
   ]
  },
  {
   "cell_type": "markdown",
   "metadata": {},
   "source": [
    "- 라벨에 제목 추가\n",
    "```\n",
    "plt.xlabel(\"x축\")\n",
    "plt.ylabel(\"y축\")\n",
    "```\n",
    "\n",
    "- 타이틀\n",
    "```\n",
    "plt.title(\"타이틀\")\n",
    "```"
   ]
  }
 ],
 "metadata": {
  "kernelspec": {
   "display_name": "Python 3",
   "language": "python",
   "name": "python3"
  },
  "language_info": {
   "codemirror_mode": {
    "name": "ipython",
    "version": 3
   },
   "file_extension": ".py",
   "mimetype": "text/x-python",
   "name": "python",
   "nbconvert_exporter": "python",
   "pygments_lexer": "ipython3",
   "version": "3.6.3"
  }
 },
 "nbformat": 4,
 "nbformat_minor": 2
}
