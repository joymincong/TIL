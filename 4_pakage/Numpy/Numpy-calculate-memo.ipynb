{
 "cells": [
  {
   "cell_type": "markdown",
   "metadata": {},
   "source": [
    "# Calculate"
   ]
  },
  {
   "cell_type": "markdown",
   "metadata": {},
   "source": [
    "## basic calculate"
   ]
  },
  {
   "cell_type": "markdown",
   "metadata": {},
   "source": [
    "```\n",
    "* : 모든 요소끼리 곱하기 (스칼라, 행렬)\n",
    "+ : 모든 요소에 더하기\n",
    "```\n",
    "- 행렬일 때 shape가 같아야 한다.\n",
    "- Map과 같은 효과\n",
    "```\n",
    "map(lambda x : x**2, ls)\n",
    "```"
   ]
  },
  {
   "cell_type": "markdown",
   "metadata": {},
   "source": [
    "#### 비교 연산자"
   ]
  },
  {
   "cell_type": "markdown",
   "metadata": {},
   "source": [
    "```\n",
    "== : 각 요소의 적용해 같으면 True, 다르면 False 리스트 생성\n",
    "```"
   ]
  },
  {
   "cell_type": "markdown",
   "metadata": {},
   "source": [
    "```\n",
    "bool_ls = [] : boolean list\n",
    "ar = ar[bool_ls] : offset에 boolean list 적용시 True인 값만 적용\n",
    "```\n",
    "- Filter와 같은 효과\n",
    "```\n",
    "filter(lambda x : x==10, li)\n",
    "```"
   ]
  },
  {
   "cell_type": "markdown",
   "metadata": {},
   "source": [
    "## broadcasting"
   ]
  },
  {
   "cell_type": "markdown",
   "metadata": {},
   "source": [
    "모든 요소에 연산자가 적용되는 것"
   ]
  },
  {
   "cell_type": "markdown",
   "metadata": {},
   "source": [
    "- 스칼라 일 경우, 모든 요소 적용\n",
    "- 열벡터 일 경우, 모든 열에 적용\n",
    "- 행벡터 일 경우, 모든 행에 적용"
   ]
  },
  {
   "cell_type": "markdown",
   "metadata": {},
   "source": [
    "## function"
   ]
  },
  {
   "cell_type": "markdown",
   "metadata": {},
   "source": [
    "### array 내부의 요소들 이용한 계산"
   ]
  },
  {
   "cell_type": "markdown",
   "metadata": {},
   "source": [
    "```\n",
    "ar1.min() : 최소값 찾기\n",
    "ar1.max() : 최대값 찾기\n",
    "```\n",
    "\n",
    "```\n",
    "ar1.argmax() : 최대값 idx 반환\n",
    "ar1.argmin() : 최소값 idx 반환 \n",
    "```\n",
    "- 1차원으로 바뀌었을 때의 위치 반환\n",
    "\n",
    "```\n",
    "ar1.mean() : 평균 값 반환\n",
    "```"
   ]
  },
  {
   "cell_type": "markdown",
   "metadata": {},
   "source": [
    "```\n",
    "np.sum(ar1) : 모든 값 더함(스칼라 반환)\n",
    "np.sum(ar1, axis = 0) : 가로 축으로 더함(array 반환)\n",
    "np.sum(ar1, axis = 1) : 세로 축으로 더함(array 반환)\n",
    "```\n",
    "\n",
    "```\n",
    "np.median(ar1) : 중앙값 반환 (*원소의 값이 짝수일 때는 근사값 나옴)\n",
    "np.std(ar1) : 표준편차 반환\n",
    "np.var(ar1) : 분산 반환\n",
    "```"
   ]
  },
  {
   "cell_type": "markdown",
   "metadata": {},
   "source": [
    "### 모든 요소를 비교 연산"
   ]
  },
  {
   "cell_type": "markdown",
   "metadata": {},
   "source": [
    "```\n",
    "np.all(ar1 == ar2) : 모든 요소가 충족되어야 True\n",
    "\n",
    "np.any(ar1 == ar2) : 하나의 요소만 충족되어도 True\n",
    "```"
   ]
  },
  {
   "cell_type": "markdown",
   "metadata": {},
   "source": [
    "### 그외"
   ]
  },
  {
   "cell_type": "markdown",
   "metadata": {},
   "source": [
    "```\n",
    "np.percentile(ar1, 25) : 25% 위치에 있는 값 출력 \n",
    "- 실제 값이 아니라 근사치로 계산되어 나옴\n",
    "\n",
    "np.exp(ar1) : ar1의 지수함수 값 출력\n",
    "np.log(ar1) : ar1의 로그함수 값 출력\n",
    "```"
   ]
  },
  {
   "cell_type": "markdown",
   "metadata": {},
   "source": [
    "```\n",
    "int(1E7)  = 10000000\n",
    "```"
   ]
  }
 ],
 "metadata": {
  "kernelspec": {
   "display_name": "Python 3",
   "language": "python",
   "name": "python3"
  },
  "language_info": {
   "codemirror_mode": {
    "name": "ipython",
    "version": 3
   },
   "file_extension": ".py",
   "mimetype": "text/x-python",
   "name": "python",
   "nbconvert_exporter": "python",
   "pygments_lexer": "ipython3",
   "version": "3.6.3"
  }
 },
 "nbformat": 4,
 "nbformat_minor": 2
}
