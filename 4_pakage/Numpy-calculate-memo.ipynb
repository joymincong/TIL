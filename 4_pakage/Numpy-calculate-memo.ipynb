{
 "cells": [
  {
   "cell_type": "markdown",
   "metadata": {},
   "source": [
    "# Calculate"
   ]
  },
  {
   "cell_type": "markdown",
   "metadata": {},
   "source": [
    "## basic calculate"
   ]
  },
  {
   "cell_type": "markdown",
   "metadata": {},
   "source": [
    "```\n",
    "* : 모든 요소끼리 곱하기 (스칼라, 행렬)\n",
    "+ : 모든 요소에 더하기\n",
    "```\n",
    "- 행렬일 때 shape가 같아야 한다.\n",
    "- Map과 같은 효과\n",
    "```\n",
    "map(lambda x : x**2, ls)\n",
    "```"
   ]
  },
  {
   "cell_type": "markdown",
   "metadata": {},
   "source": [
    "#### 비교 연산자"
   ]
  },
  {
   "cell_type": "markdown",
   "metadata": {},
   "source": [
    "```\n",
    "== : 각 요소의 적용해 같으면 True, 다르면 False 리스트 생성\n",
    "```"
   ]
  },
  {
   "cell_type": "markdown",
   "metadata": {},
   "source": [
    "```\n",
    "bool_ls = [] : boolean list\n",
    "ar = ar[bool_ls] : offset에 boolean list 적용시 True인 값만 적용\n",
    "```\n",
    "- Filter와 같은 효과\n",
    "```\n",
    "filter(lambda x : x==10, li)\n",
    "```"
   ]
  },
  {
   "cell_type": "markdown",
   "metadata": {},
   "source": [
    "## broadcasting"
   ]
  },
  {
   "cell_type": "markdown",
   "metadata": {},
   "source": [
    "모든 요소에 연산자가 적용되는 것"
   ]
  },
  {
   "cell_type": "markdown",
   "metadata": {},
   "source": [
    "- 스칼라 일 경우, 모든 요소 적용\n",
    "- 열벡터 일 경우, 모든 열에 적용\n",
    "- 행벡터 일 경우, 모든 행에 적용"
   ]
  }
 ],
 "metadata": {
  "kernelspec": {
   "display_name": "Python 3",
   "language": "python",
   "name": "python3"
  },
  "language_info": {
   "codemirror_mode": {
    "name": "ipython",
    "version": 3
   },
   "file_extension": ".py",
   "mimetype": "text/x-python",
   "name": "python",
   "nbconvert_exporter": "python",
   "pygments_lexer": "ipython3",
   "version": "3.6.3"
  }
 },
 "nbformat": 4,
 "nbformat_minor": 2
}
