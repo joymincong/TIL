{
 "cells": [
  {
   "cell_type": "code",
   "execution_count": 3,
   "metadata": {},
   "outputs": [],
   "source": [
    "import numpy as np\n",
    "import torch\n",
    "from torch import nn\n",
    "import matplotlib.pyplot as plt"
   ]
  },
  {
   "cell_type": "markdown",
   "metadata": {},
   "source": [
    "## Prepare Data"
   ]
  },
  {
   "cell_type": "code",
   "execution_count": 6,
   "metadata": {},
   "outputs": [],
   "source": [
    "n_data = torch.ones(100, 2)"
   ]
  },
  {
   "cell_type": "code",
   "execution_count": 40,
   "metadata": {},
   "outputs": [],
   "source": [
    "x0 = torch.normal(2*n_data, 1)\n",
    "y0 = torch.zeros(100, 1)\n",
    "\n",
    "x1 = torch.normal(-2*n_data, 1)\n",
    "y1 = torch.ones(100, 1)\n",
    "\n",
    "x = torch.cat((x0, x1)).type(torch.FloatTensor)\n",
    "y = torch.cat((y0, y1)).type(torch.FloatTensor)"
   ]
  },
  {
   "cell_type": "markdown",
   "metadata": {},
   "source": [
    "## Modeling"
   ]
  },
  {
   "cell_type": "code",
   "execution_count": 44,
   "metadata": {},
   "outputs": [],
   "source": [
    "# modeling\n",
    "linear = nn.Linear(2, 1, bias = True)\n",
    "sigmoid = nn.Sigmoid()\n",
    "model = nn.Sequential(linear, sigmoid)\n",
    "\n",
    "# cost\n",
    "cost_func = nn.BCELoss()\n",
    "#optimizer\n",
    "optimizer = torch.optim.SGD(model.parameters(), lr = 0.01)"
   ]
  },
  {
   "cell_type": "markdown",
   "metadata": {},
   "source": [
    "## Train"
   ]
  },
  {
   "cell_type": "code",
   "execution_count": 45,
   "metadata": {},
   "outputs": [
    {
     "name": "stdout",
     "output_type": "stream",
     "text": [
      "cost=0.5000, Accuracy=0.80\n",
      "cost=0.3555, Accuracy=0.91\n",
      "cost=0.2750, Accuracy=0.94\n",
      "cost=0.2249, Accuracy=0.96\n",
      "cost=0.1910, Accuracy=0.97\n",
      "cost=0.1664, Accuracy=0.98\n",
      "cost=0.1479, Accuracy=0.98\n",
      "cost=0.1333, Accuracy=0.98\n",
      "cost=0.1216, Accuracy=0.98\n",
      "cost=0.1119, Accuracy=0.98\n",
      "cost=0.1038, Accuracy=0.98\n",
      "cost=0.0969, Accuracy=0.99\n",
      "cost=0.0910, Accuracy=0.99\n",
      "cost=0.0858, Accuracy=0.99\n",
      "cost=0.0812, Accuracy=0.99\n"
     ]
    }
   ],
   "source": [
    "epochs = 300\n",
    "\n",
    "for step in range(epochs):\n",
    "    prob = model(x)\n",
    "    pred = prob.gt(0.5).data.numpy().squeeze()\n",
    "    cost = cost_func(prob, y)\n",
    "    \n",
    "    optimizer.zero_grad()\n",
    "    cost.backward()\n",
    "    optimizer.step()\n",
    "    \n",
    "    if step % 20 == 0:\n",
    "        accuracy = sum(pred == y.data.squeeze(1).numpy())/200.\n",
    "        print('cost={:.4f}, Accuracy={:.2f}'.format(cost.item(), accuracy))"
   ]
  },
  {
   "cell_type": "code",
   "execution_count": 49,
   "metadata": {},
   "outputs": [],
   "source": [
    "# Draw massgrid\n",
    "x_min, x_max = x[:, 0].min() - 1, x[:, 0].max() + 1\n",
    "y_min, y_max = x[:, 1].min() - 1, x[:, 1].max() + 1\n",
    "xx, yy = np.meshgrid(np.arange(x_min.data.numpy(), x_max.data.numpy(), 1),\n",
    "                     np.arange(y_min.data.numpy(), y_max.data.numpy(), 1))\n",
    "\n",
    "# here \"model\" is your model's prediction (classification) function\n",
    "Z = model(torch.from_numpy(np.c_[xx.ravel(), yy.ravel()]).float())\n",
    "\n",
    "# Put the result into a color plot\n",
    "Z = Z.view(xx.shape)"
   ]
  },
  {
   "cell_type": "code",
   "execution_count": 51,
   "metadata": {},
   "outputs": [
    {
     "data": {
      "text/plain": [
       "<matplotlib.collections.PathCollection at 0x21fcad74390>"
      ]
     },
     "execution_count": 51,
     "metadata": {},
     "output_type": "execute_result"
    },
    {
     "data": {
      "image/png": "[encoded data removed]",
      "text/plain": [
       "<matplotlib.figure.Figure at 0x21fcace5898>"
      ]
     },
     "metadata": {},
     "output_type": "display_data"
    }
   ],
   "source": [
    "plt.contourf(xx, yy, Z.data.numpy(), cmap=plt.cm.binary)\n",
    "plt.scatter(x.data.numpy()[:, 0], x.data.numpy()[:, 1], c=pred, s=100, lw=0, cmap='RdYlGn')"
   ]
  },
  {
   "cell_type": "code",
   "execution_count": null,
   "metadata": {},
   "outputs": [],
   "source": []
  }
 ],
 "metadata": {
  "kernelspec": {
   "display_name": "Python 3",
   "language": "python",
   "name": "python3"
  },
  "language_info": {
   "codemirror_mode": {
    "name": "ipython",
    "version": 3
   },
   "file_extension": ".py",
   "mimetype": "text/x-python",
   "name": "python",
   "nbconvert_exporter": "python",
   "pygments_lexer": "ipython3",
   "version": "3.6.3"
  }
 },
 "nbformat": 4,
 "nbformat_minor": 2
}
