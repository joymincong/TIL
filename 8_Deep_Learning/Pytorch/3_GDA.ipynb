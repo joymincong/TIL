{
 "cells": [
  {
   "cell_type": "code",
   "execution_count": 1,
   "metadata": {},
   "outputs": [],
   "source": [
    "import numpy as np\n",
    "import torch\n",
    "from torch import nn\n",
    "import matplotlib.pyplot as plt"
   ]
  },
  {
   "cell_type": "markdown",
   "metadata": {},
   "source": [
    "## Prepare Data"
   ]
  },
  {
   "cell_type": "code",
   "execution_count": 2,
   "metadata": {},
   "outputs": [],
   "source": [
    "n_data = torch.ones(100, 2)\n",
    "\n",
    "x0 = torch.normal(2*n_data, 1)\n",
    "y0 = torch.zeros(100, 1)\n",
    "\n",
    "x1 = torch.normal(-2*n_data, 1)\n",
    "y1 = torch.ones(100, 1)\n",
    "\n",
    "x = torch.cat((x0, x1)).type(torch.FloatTensor)\n",
    "y = torch.cat((y0, y1)).type(torch.FloatTensor)"
   ]
  },
  {
   "cell_type": "markdown",
   "metadata": {},
   "source": [
    "## Modeling"
   ]
  },
  {
   "cell_type": "code",
   "execution_count": 25,
   "metadata": {},
   "outputs": [],
   "source": [
    "# prior modeling\n",
    "prior1 = (y==1).sum().float() /200.\n",
    "prior0 = 1 - prior1"
   ]
  },
  {
   "cell_type": "code",
   "execution_count": 20,
   "metadata": {},
   "outputs": [],
   "source": [
    "# likelihood modeling\n",
    "mu0 = x[(y==0).squeeze()].mean(0, keepdim=True)\n",
    "mu1 = x[(y==1).squeeze()].mean(0, keepdim=True)\n",
    "\n",
    "sigma0 = torch.ones(1,2)\n",
    "sigma1 = torch.ones(1,2)"
   ]
  },
  {
   "cell_type": "code",
   "execution_count": 21,
   "metadata": {},
   "outputs": [],
   "source": [
    "K=1\n",
    "def get_k_likelihoods(X, mu, var):\n",
    "    if var.eq(0).any():\n",
    "        raise Exception('variances must be nonzero')\n",
    "    coeff = 1. / ((2*np.pi * var).prod(dim=1)).sqrt()        # (K )\n",
    "    sigma_inv = 1./var                                       # (K, features)\n",
    "    diff = X - mu.unsqueeze(1)                               # (K, examples, feature)    \n",
    "    exponent = -0.5 * ( diff **2 @ sigma_inv.unsqueeze(2) )\n",
    "    likelihoods = coeff.view(K,1,1) * torch.exp( exponent )\n",
    "    return likelihoods.squeeze(2)"
   ]
  },
  {
   "cell_type": "markdown",
   "metadata": {},
   "source": [
    "## Test"
   ]
  },
  {
   "cell_type": "code",
   "execution_count": 22,
   "metadata": {},
   "outputs": [],
   "source": [
    "a_sample = torch.ones(1, 2)\n",
    "x_new = torch.normal(-2*a_sample, 1)  "
   ]
  },
  {
   "cell_type": "code",
   "execution_count": 26,
   "metadata": {},
   "outputs": [
    {
     "data": {
      "text/plain": [
       "tensor([[ 1]], dtype=torch.uint8)"
      ]
     },
     "execution_count": 26,
     "metadata": {},
     "output_type": "execute_result"
    }
   ],
   "source": [
    "prob0 = get_k_likelihoods(x_new,mu0,sigma0)\n",
    "prob1 = get_k_likelihoods(x_new,mu1,sigma1)\n",
    "(prob1 * prior1) / (prob0 * prior0)  > 1"
   ]
  }
 ],
 "metadata": {
  "kernelspec": {
   "display_name": "Python 3",
   "language": "python",
   "name": "python3"
  },
  "language_info": {
   "codemirror_mode": {
    "name": "ipython",
    "version": 3
   },
   "file_extension": ".py",
   "mimetype": "text/x-python",
   "name": "python",
   "nbconvert_exporter": "python",
   "pygments_lexer": "ipython3",
   "version": "3.6.3"
  }
 },
 "nbformat": 4,
 "nbformat_minor": 2
}
