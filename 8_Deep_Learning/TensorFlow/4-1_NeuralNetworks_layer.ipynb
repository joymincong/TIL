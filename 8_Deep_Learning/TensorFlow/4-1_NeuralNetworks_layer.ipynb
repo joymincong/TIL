{
 "cells": [
  {
   "cell_type": "code",
   "execution_count": 1,
   "metadata": {
    "collapsed": true
   },
   "outputs": [],
   "source": [
    "import tensorflow as tf"
   ]
  },
  {
   "cell_type": "code",
   "execution_count": 4,
   "metadata": {},
   "outputs": [],
   "source": [
    "from tensorflow.examples.tutorials.mnist import input_data"
   ]
  },
  {
   "cell_type": "code",
   "execution_count": 5,
   "metadata": {},
   "outputs": [
    {
     "name": "stdout",
     "output_type": "stream",
     "text": [
      "Extracting /tmp/data\\train-images-idx3-ubyte.gz\n",
      "Extracting /tmp/data\\train-labels-idx1-ubyte.gz\n",
      "Extracting /tmp/data\\t10k-images-idx3-ubyte.gz\n",
      "Extracting /tmp/data\\t10k-labels-idx1-ubyte.gz\n"
     ]
    }
   ],
   "source": [
    "mnist = input_data.read_data_sets(\"/tmp/data\", one_hot=False)"
   ]
  },
  {
   "cell_type": "code",
   "execution_count": 46,
   "metadata": {
    "collapsed": true
   },
   "outputs": [],
   "source": [
    "# parameter \n",
    "learning_rate = 0.01\n",
    "epoches = 2000\n",
    "batch_size = 128\n",
    "display_step = 100\n",
    "\n",
    "# layer parameter\n",
    "n_hidden_1 = 256\n",
    "n_hidden_2 = 256\n",
    "n_input = 784\n",
    "n_output = 10"
   ]
  },
  {
   "cell_type": "markdown",
   "metadata": {},
   "source": [
    "### Estimator 를 이용한 train\n",
    "1. input_fn 정의\n",
    "  - tf.estimator.inputs.num_input_fn(x, y, batch_size)\n",
    "2. model 구조 정의\n",
    "  - tf.layers.dense()\n",
    "3. model_fn 정의\n",
    "  - tf.estimator.EstimatorSpec(mode, prediction, loss, train_op, eval_metric_ops)\n",
    "4. run\n",
    "  - model = tf.estimator.Estimator(model_fn)\n",
    "  - model.train(input_fn, steps = epoches)\n",
    "5. evaluate\n",
    "  - input_fn : test \n",
    "  - model.evaluate(input_fn)\n",
    "6. predict\n",
    "  - input_fn : test\n",
    "  - model.predict(input_fn)"
   ]
  },
  {
   "cell_type": "code",
   "execution_count": 47,
   "metadata": {
    "collapsed": true
   },
   "outputs": [],
   "source": [
    "# define the input function for training\n",
    "input_fn = tf.estimator.inputs.numpy_input_fn(x = {'images': mnist.train.images}, y=mnist.train.labels, batch_size=batch_size, num_epochs=None, shuffle=True)"
   ]
  },
  {
   "cell_type": "code",
   "execution_count": 48,
   "metadata": {
    "collapsed": true
   },
   "outputs": [],
   "source": [
    "#model\n",
    "def neural_network(x_dict):\n",
    "    x = x_dict['images']\n",
    "    \n",
    "    layer_1 = tf.layers.dense(x, n_hidden_1)\n",
    "    layer_2 = tf.layers.dense(layer_1, n_hidden_2)\n",
    "    out_layer = tf.layers.dense(layer_2, n_output)\n",
    "    \n",
    "    return out_layer"
   ]
  },
  {
   "cell_type": "code",
   "execution_count": 49,
   "metadata": {},
   "outputs": [],
   "source": [
    "def model_fn(features, labels, mode):\n",
    "    logits = neural_network(features)\n",
    "    \n",
    "    # predict\n",
    "    pred_classes = tf.argmax(logits, axis = 1)\n",
    "    pred_prob = tf.nn.softmax(logits)\n",
    "    \n",
    "    # \n",
    "    if mode == tf.estimator.ModeKeys.PREDICT:\n",
    "        return tf.estimator.EstimatorSpec(mode, predictions = pred_classes)\n",
    "    \n",
    "    # define loss\n",
    "    loss_op = tf.reduce_mean(tf.nn.sparse_softmax_cross_entropy_with_logits(logits=logits, labels = tf.cast(labels, dtype = tf.int32)))\n",
    "    \n",
    "    # define optimizer\n",
    "    optimizer = tf.train.AdamOptimizer(learning_rate = learning_rate)\n",
    "    train_op = optimizer.minimize(loss_op, global_step = tf.train.get_global_step())\n",
    "    \n",
    "    # evaluate accuracy\n",
    "    acc_op = tf.metrics.accuracy(labels = labels, predictions = pred_classes)\n",
    "    \n",
    "    # TF estimator template\n",
    "    estim_specs = tf.estimator.EstimatorSpec(\n",
    "        mode = mode,\n",
    "        predictions = pred_classes,\n",
    "        loss = loss_op,\n",
    "        train_op = train_op,\n",
    "        eval_metric_ops={'accuracy' : acc_op}\n",
    "    )\n",
    "    \n",
    "    return estim_specs"
   ]
  },
  {
   "cell_type": "markdown",
   "metadata": {},
   "source": [
    "### Run"
   ]
  },
  {
   "cell_type": "code",
   "execution_count": 50,
   "metadata": {},
   "outputs": [
    {
     "name": "stdout",
     "output_type": "stream",
     "text": [
      "INFO:tensorflow:Using default config.\n",
      "WARNING:tensorflow:Using temporary folder as model directory: C:\\Users\\MAGENT~1\\AppData\\Local\\Temp\\tmp8agui4io\n",
      "INFO:tensorflow:Using config: {'_model_dir': 'C:\\\\Users\\\\MAGENT~1\\\\AppData\\\\Local\\\\Temp\\\\tmp8agui4io', '_tf_random_seed': None, '_save_summary_steps': 100, '_save_checkpoints_steps': None, '_save_checkpoints_secs': 600, '_session_config': None, '_keep_checkpoint_max': 5, '_keep_checkpoint_every_n_hours': 10000, '_log_step_count_steps': 100, '_service': None, '_cluster_spec': <tensorflow.python.training.server_lib.ClusterSpec object at 0x0000017A8FBA5D68>, '_task_type': 'worker', '_task_id': 0, '_master': '', '_is_chief': True, '_num_ps_replicas': 0, '_num_worker_replicas': 1}\n"
     ]
    }
   ],
   "source": [
    "model = tf.estimator.Estimator(model_fn)"
   ]
  },
  {
   "cell_type": "code",
   "execution_count": 51,
   "metadata": {},
   "outputs": [
    {
     "name": "stdout",
     "output_type": "stream",
     "text": [
      "INFO:tensorflow:Create CheckpointSaverHook.\n",
      "INFO:tensorflow:Saving checkpoints for 1 into C:\\Users\\MAGENT~1\\AppData\\Local\\Temp\\tmp8agui4io\\model.ckpt.\n",
      "INFO:tensorflow:loss = 2.35277, step = 1\n",
      "INFO:tensorflow:global_step/sec: 126.743\n",
      "INFO:tensorflow:loss = 0.304955, step = 101 (0.794 sec)\n",
      "INFO:tensorflow:global_step/sec: 125.392\n",
      "INFO:tensorflow:loss = 0.4435, step = 201 (0.797 sec)\n",
      "INFO:tensorflow:global_step/sec: 114.547\n",
      "INFO:tensorflow:loss = 0.59468, step = 301 (0.872 sec)\n",
      "INFO:tensorflow:global_step/sec: 96.8056\n",
      "INFO:tensorflow:loss = 0.225904, step = 401 (1.032 sec)\n",
      "INFO:tensorflow:global_step/sec: 111.049\n",
      "INFO:tensorflow:loss = 0.366937, step = 501 (0.904 sec)\n",
      "INFO:tensorflow:global_step/sec: 118.064\n",
      "INFO:tensorflow:loss = 0.296542, step = 601 (0.844 sec)\n",
      "INFO:tensorflow:global_step/sec: 108.895\n",
      "INFO:tensorflow:loss = 0.453189, step = 701 (0.918 sec)\n",
      "INFO:tensorflow:global_step/sec: 111.358\n",
      "INFO:tensorflow:loss = 0.435572, step = 801 (0.898 sec)\n",
      "INFO:tensorflow:global_step/sec: 127.064\n",
      "INFO:tensorflow:loss = 0.482434, step = 901 (0.787 sec)\n",
      "INFO:tensorflow:global_step/sec: 119.904\n",
      "INFO:tensorflow:loss = 0.323205, step = 1001 (0.835 sec)\n",
      "INFO:tensorflow:global_step/sec: 100.05\n",
      "INFO:tensorflow:loss = 0.297809, step = 1101 (0.999 sec)\n",
      "INFO:tensorflow:global_step/sec: 84.5451\n",
      "INFO:tensorflow:loss = 0.283417, step = 1201 (1.194 sec)\n",
      "INFO:tensorflow:global_step/sec: 116.009\n",
      "INFO:tensorflow:loss = 0.412216, step = 1301 (0.850 sec)\n",
      "INFO:tensorflow:global_step/sec: 111.42\n",
      "INFO:tensorflow:loss = 0.717629, step = 1401 (0.900 sec)\n",
      "INFO:tensorflow:global_step/sec: 102.987\n",
      "INFO:tensorflow:loss = 0.211697, step = 1501 (0.969 sec)\n",
      "INFO:tensorflow:global_step/sec: 108.46\n",
      "INFO:tensorflow:loss = 0.305547, step = 1601 (0.921 sec)\n",
      "INFO:tensorflow:global_step/sec: 126.024\n",
      "INFO:tensorflow:loss = 0.374784, step = 1701 (0.793 sec)\n",
      "INFO:tensorflow:global_step/sec: 127.795\n",
      "INFO:tensorflow:loss = 0.443324, step = 1801 (0.783 sec)\n",
      "INFO:tensorflow:global_step/sec: 90.2096\n",
      "INFO:tensorflow:loss = 0.324035, step = 1901 (1.110 sec)\n",
      "INFO:tensorflow:Saving checkpoints for 2000 into C:\\Users\\MAGENT~1\\AppData\\Local\\Temp\\tmp8agui4io\\model.ckpt.\n",
      "INFO:tensorflow:Loss for final step: 0.503013.\n"
     ]
    },
    {
     "data": {
      "text/plain": [
       "<tensorflow.python.estimator.estimator.Estimator at 0x17a8fba5940>"
      ]
     },
     "execution_count": 51,
     "metadata": {},
     "output_type": "execute_result"
    }
   ],
   "source": [
    "# train\n",
    "model.train(input_fn, steps=epoches)"
   ]
  },
  {
   "cell_type": "markdown",
   "metadata": {},
   "source": [
    "### test"
   ]
  },
  {
   "cell_type": "code",
   "execution_count": 52,
   "metadata": {
    "collapsed": true
   },
   "outputs": [],
   "source": [
    "input_fn = tf.estimator.inputs.numpy_input_fn(x = {'images' : mnist.test.images}, y = mnist.test.labels, batch_size = batch_size, shuffle = False)"
   ]
  },
  {
   "cell_type": "code",
   "execution_count": 53,
   "metadata": {},
   "outputs": [
    {
     "name": "stdout",
     "output_type": "stream",
     "text": [
      "INFO:tensorflow:Starting evaluation at 2018-05-13-02:56:34\n",
      "INFO:tensorflow:Restoring parameters from C:\\Users\\MAGENT~1\\AppData\\Local\\Temp\\tmp8agui4io\\model.ckpt-2000\n",
      "INFO:tensorflow:Finished evaluation at 2018-05-13-02:56:35\n",
      "INFO:tensorflow:Saving dict for global step 2000: accuracy = 0.8994, global_step = 2000, loss = 0.374029\n"
     ]
    },
    {
     "data": {
      "text/plain": [
       "{'accuracy': 0.8994, 'global_step': 2000, 'loss': 0.37402892}"
      ]
     },
     "execution_count": 53,
     "metadata": {},
     "output_type": "execute_result"
    }
   ],
   "source": [
    "model.evaluate(input_fn)"
   ]
  },
  {
   "cell_type": "code",
   "execution_count": 54,
   "metadata": {},
   "outputs": [
    {
     "name": "stdout",
     "output_type": "stream",
     "text": [
      "INFO:tensorflow:Restoring parameters from C:\\Users\\MAGENT~1\\AppData\\Local\\Temp\\tmp8agui4io\\model.ckpt-2000\n"
     ]
    },
    {
     "data": {
      "image/png": "[encoded data removed]",
      "text/plain": [
       "<matplotlib.figure.Figure at 0x17a8f7bc080>"
      ]
     },
     "metadata": {},
     "output_type": "display_data"
    },
    {
     "name": "stdout",
     "output_type": "stream",
     "text": [
      "Model prediction: 7\n"
     ]
    },
    {
     "data": {
      "image/png": "[encoded data removed]",
      "text/plain": [
       "<matplotlib.figure.Figure at 0x17a8f02a7f0>"
      ]
     },
     "metadata": {},
     "output_type": "display_data"
    },
    {
     "name": "stdout",
     "output_type": "stream",
     "text": [
      "Model prediction: 2\n"
     ]
    },
    {
     "data": {
      "image/png": "[encoded data removed]",
      "text/plain": [
       "<matplotlib.figure.Figure at 0x17a8f440898>"
      ]
     },
     "metadata": {},
     "output_type": "display_data"
    },
    {
     "name": "stdout",
     "output_type": "stream",
     "text": [
      "Model prediction: 1\n"
     ]
    },
    {
     "data": {
      "image/png": "[encoded data removed]",
      "text/plain": [
       "<matplotlib.figure.Figure at 0x17a8f6a2b00>"
      ]
     },
     "metadata": {},
     "output_type": "display_data"
    },
    {
     "name": "stdout",
     "output_type": "stream",
     "text": [
      "Model prediction: 0\n"
     ]
    }
   ],
   "source": [
    "# Predict single images\n",
    "n_images = 4\n",
    "# Get images from test set\n",
    "test_images = mnist.test.images[:n_images]\n",
    "# Prepare the input data\n",
    "input_fn = tf.estimator.inputs.numpy_input_fn(\n",
    "    x={'images': test_images}, shuffle=False)\n",
    "# Use the model to predict the images class\n",
    "preds = list(model.predict(input_fn))\n",
    "\n",
    "# Display\n",
    "for i in range(n_images):\n",
    "    plt.imshow(np.reshape(test_images[i], [28, 28]), cmap='gray')\n",
    "    plt.show()\n",
    "    print(\"Model prediction:\", preds[i])"
   ]
  }
 ],
 "metadata": {
  "kernelspec": {
   "display_name": "Python 3",
   "language": "python",
   "name": "python3"
  },
  "language_info": {
   "codemirror_mode": {
    "name": "ipython",
    "version": 3
   },
   "file_extension": ".py",
   "mimetype": "text/x-python",
   "name": "python",
   "nbconvert_exporter": "python",
   "pygments_lexer": "ipython3",
   "version": "3.6.3"
  }
 },
 "nbformat": 4,
 "nbformat_minor": 2
}
