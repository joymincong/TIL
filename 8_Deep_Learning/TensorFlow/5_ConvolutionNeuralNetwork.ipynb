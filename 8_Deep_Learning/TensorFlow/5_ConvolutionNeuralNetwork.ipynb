{
 "cells": [
  {
   "cell_type": "code",
   "execution_count": 2,
   "metadata": {
    "collapsed": true
   },
   "outputs": [],
   "source": [
    "import tensorflow as tf\n",
    "from tensorflow.examples.tutorials.mnist import input_data"
   ]
  },
  {
   "cell_type": "code",
   "execution_count": 3,
   "metadata": {},
   "outputs": [
    {
     "name": "stdout",
     "output_type": "stream",
     "text": [
      "Extracting /tmp/data/train-images-idx3-ubyte.gz\n",
      "Extracting /tmp/data/train-labels-idx1-ubyte.gz\n",
      "Extracting /tmp/data/t10k-images-idx3-ubyte.gz\n",
      "Extracting /tmp/data/t10k-labels-idx1-ubyte.gz\n"
     ]
    }
   ],
   "source": [
    "mnist = input_data.read_data_sets(\"/tmp/data/\", one_hot = True)"
   ]
  },
  {
   "cell_type": "markdown",
   "metadata": {},
   "source": [
    "- 설계\n",
    " - CNN1 : 5x5x1 32개 (28)\n",
    " - max pool : (14)\n",
    " - CNN2 : 5x5x32 64개 (14)\n",
    " - max pool : (7)\n",
    " \n",
    " - FC1 (1024)\n",
    " - FC2 (10)"
   ]
  },
  {
   "cell_type": "code",
   "execution_count": 12,
   "metadata": {},
   "outputs": [],
   "source": [
    "# paramater\n",
    "learning_rate = 0.01\n",
    "epochs = 1000\n",
    "batch_size = 256\n",
    "disp_step = 100\n",
    "\n",
    "# layer parameter\n",
    "n_input = 28 * 28 # 28 * 28\n",
    "n_output = 10\n",
    "dropout = 0.75\n",
    "\n",
    "weights = {\n",
    "    'wc1' : tf.Variable(tf.random_normal([5, 5, 1, 32])), # 5x5,1 channel filter 32 개\n",
    "    'wc2' : tf.Variable(tf.random_normal([5, 5, 32, 64])), # 5x5,32 channel filter 64 개\n",
    "    'wd1' : tf.Variable(tf.random_normal([7*7*64, 1024])), # 7*7*64, 1024개\n",
    "    'wd2' : tf.Variable(tf.random_normal([1024, n_output])) # 1024 -> 10\n",
    "}\n",
    "\n",
    "biases = {\n",
    "    'bc1' : tf.Variable(tf.random_normal([32])),\n",
    "    'bc2' : tf.Variable(tf.random_normal([64])),\n",
    "    'bd1' : tf.Variable(tf.random_normal([1024])),\n",
    "    'bd2' : tf.Variable(tf.random_normal([n_output]))\n",
    "}"
   ]
  },
  {
   "cell_type": "code",
   "execution_count": 39,
   "metadata": {},
   "outputs": [],
   "source": [
    "#  define input, output\n",
    "X = tf.placeholder(tf.float32, [None, n_input])\n",
    "Y = tf.placeholder(tf.float32, [None, n_output])\n",
    "keep_prob = tf.placeholder(tf.float32)"
   ]
  },
  {
   "cell_type": "markdown",
   "metadata": {},
   "source": [
    "##### conv2d 사용법\n",
    "`tf.nn.conv2d(input, filter, strides, padding)`\n",
    "- `input` : [batch, i_h, i_w, i_ch]\n",
    "- `filter` : [f_h, f_w, i_ch, o_ch]\n",
    "- `strides` : 크기 4인 1차원 리스트 [1, stride, stride, 1]\n",
    "- `padding` : 'SAME', 'VALID'\n",
    "\n",
    "##### max_pool 사용법\n",
    "`tf.nn.max_pool(value, ksize, strides, padding)`\n",
    "- `value` : [batch, i_h, i_w, i_ch]\n",
    "- `ksize` : 크기가 4인 1차원 리스트 [i, f_h, f_w, f_ch]\n",
    "- `stride` : 크기 4인 1차원 리스트 [1, stride, stride, 1]\n",
    "\n",
    "##### dropout\n",
    "- keep_prob = train에는 placeholder 값으로 설정, test에는 1로 설정"
   ]
  },
  {
   "cell_type": "code",
   "execution_count": 40,
   "metadata": {
    "collapsed": true
   },
   "outputs": [],
   "source": [
    "# define model\n",
    "def cnn(x):\n",
    "    x = tf.reshape(x, [-1, 28, 28, 1])\n",
    "    \n",
    "    # CNN1 (28*28*1) -> (14*14*32)\n",
    "    conv1 = tf.nn.conv2d(x, weights['wc1'], strides = [1, 1, 1, 1], padding = 'SAME')\n",
    "    conv1 = tf.nn.relu(tf.nn.bias_add(conv1, biases['bc1']))\n",
    "    conv1 = tf.nn.max_pool(conv1, ksize = [1, 2, 2, 1], strides = [1, 2, 2, 1], padding = 'SAME')\n",
    "    \n",
    "    # CNN2 (14*14*32) -> (7*7*64)\n",
    "    conv2 = tf.nn.conv2d(conv1, weights['wc2'], strides = [1, 1, 1, 1], padding = 'SAME')\n",
    "    conv2 = tf.nn.relu(tf.nn.bias_add(conv2, biases['bc2']))\n",
    "    conv2 = tf.nn.max_pool(conv2, ksize = [1, 2, 2, 1], strides=[1, 2, 2, 1], padding = 'SAME')\n",
    "    \n",
    "    # FC (7*7*64) -> (10)\n",
    "    fc1 = tf.reshape(conv2, [-1, 7*7*64])\n",
    "    fc1 = tf.add(tf.matmul(fc1, weights['wd1']), biases['bd1'])\n",
    "    fc1 = tf.nn.relu(fc1)\n",
    "    \n",
    "    fc1 = tf.nn.dropout(fc1, keep_prob)\n",
    "    \n",
    "    # out\n",
    "    out = tf.add(tf.matmul(fc1, weights['wd2']), biases['bd2'])\n",
    "    \n",
    "    return out"
   ]
  },
  {
   "cell_type": "code",
   "execution_count": 41,
   "metadata": {},
   "outputs": [],
   "source": [
    "# get logits and predicts\n",
    "logits = cnn(X)\n",
    "predicts = tf.nn.softmax(logits)"
   ]
  },
  {
   "cell_type": "code",
   "execution_count": 42,
   "metadata": {},
   "outputs": [
    {
     "data": {
      "text/plain": [
       "[3136, 1024]"
      ]
     },
     "execution_count": 42,
     "metadata": {},
     "output_type": "execute_result"
    }
   ],
   "source": [
    "weights['wd1'].get_shape().as_list()"
   ]
  },
  {
   "cell_type": "code",
   "execution_count": 43,
   "metadata": {
    "collapsed": true
   },
   "outputs": [],
   "source": [
    "# define loss\n",
    "loss_op = tf.reduce_mean(tf.nn.softmax_cross_entropy_with_logits_v2(logits = logits, labels = Y))"
   ]
  },
  {
   "cell_type": "code",
   "execution_count": 44,
   "metadata": {
    "collapsed": true
   },
   "outputs": [],
   "source": [
    "# define optimizer\n",
    "optimizer = tf.train.AdamOptimizer()\n",
    "train_op = optimizer.minimize(loss_op)"
   ]
  },
  {
   "cell_type": "code",
   "execution_count": 45,
   "metadata": {},
   "outputs": [],
   "source": [
    "# evaluation (accuracy)\n",
    "correct = tf.equal(tf.argmax(predicts, 1), tf.argmax(Y, 1))\n",
    "acc_op = tf.reduce_mean(tf.cast(correct, tf.float32))"
   ]
  },
  {
   "cell_type": "code",
   "execution_count": 46,
   "metadata": {},
   "outputs": [],
   "source": [
    "init = tf.global_variables_initializer()"
   ]
  },
  {
   "cell_type": "markdown",
   "metadata": {},
   "source": [
    "##### Run"
   ]
  },
  {
   "cell_type": "code",
   "execution_count": 50,
   "metadata": {},
   "outputs": [
    {
     "name": "stdout",
     "output_type": "stream",
     "text": [
      "Step 0, Minibatch Loss= 83002.4766, Training Accuracy= 0.051\n",
      "Step 100, Minibatch Loss= 2036.8503, Training Accuracy= 0.887\n",
      "Step 200, Minibatch Loss= 1202.4476, Training Accuracy= 0.922\n",
      "Step 300, Minibatch Loss= 784.4600, Training Accuracy= 0.938\n",
      "Step 400, Minibatch Loss= 697.4205, Training Accuracy= 0.961\n",
      "Step 500, Minibatch Loss= 238.1519, Training Accuracy= 0.957\n",
      "Step 600, Minibatch Loss= 339.7564, Training Accuracy= 0.945\n",
      "Step 700, Minibatch Loss= 360.9007, Training Accuracy= 0.965\n",
      "Step 800, Minibatch Loss= 447.6774, Training Accuracy= 0.945\n",
      "Step 900, Minibatch Loss= 34.0279, Training Accuracy= 0.988\n",
      "finish optimizer\n",
      "Testing Accuracy: 0.980469\n"
     ]
    }
   ],
   "source": [
    "with tf.Session() as sess:\n",
    "    sess.run(init)\n",
    "    \n",
    "    for epoch in range(epochs):\n",
    "        batch_x, batch_y = mnist.train.next_batch(batch_size)\n",
    "        \n",
    "        sess.run(train_op, feed_dict={X : batch_x, Y : batch_y, keep_prob: 0.75})\n",
    "        \n",
    "        if epoch % disp_step == 0:\n",
    "            loss, acc = sess.run([loss_op, acc_op], feed_dict={X: batch_x, Y: batch_y, keep_prob: 1.0})\n",
    "            print(\"Step \" + str(epoch) + \", Minibatch Loss= \" + \"{:.4f}\".format(loss) + \", Training Accuracy= \" + \"{:.3f}\".format(acc))\n",
    "            \n",
    "    print(\"finish optimizer\")\n",
    "        \n",
    "    print(\"Testing Accuracy:\", \\\n",
    "    sess.run(acc_op, feed_dict={X: mnist.test.images[:256],\n",
    "                                  Y: mnist.test.labels[:256],\n",
    "                                  keep_prob: 1.0}))"
   ]
  },
  {
   "cell_type": "code",
   "execution_count": null,
   "metadata": {
    "collapsed": true
   },
   "outputs": [],
   "source": []
  }
 ],
 "metadata": {
  "kernelspec": {
   "display_name": "Python 3",
   "language": "python",
   "name": "python3"
  },
  "language_info": {
   "codemirror_mode": {
    "name": "ipython",
    "version": 3
   },
   "file_extension": ".py",
   "mimetype": "text/x-python",
   "name": "python",
   "nbconvert_exporter": "python",
   "pygments_lexer": "ipython3",
   "version": "3.6.3"
  }
 },
 "nbformat": 4,
 "nbformat_minor": 2
}
