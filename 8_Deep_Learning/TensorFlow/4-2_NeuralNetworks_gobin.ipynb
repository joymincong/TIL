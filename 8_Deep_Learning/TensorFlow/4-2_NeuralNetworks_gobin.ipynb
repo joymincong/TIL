{
 "cells": [
  {
   "cell_type": "code",
   "execution_count": 2,
   "metadata": {
    "collapsed": true
   },
   "outputs": [],
   "source": [
    "import tensorflow as tf\n",
    "from tensorflow.examples.tutorials.mnist import input_data"
   ]
  },
  {
   "cell_type": "code",
   "execution_count": 5,
   "metadata": {},
   "outputs": [
    {
     "name": "stdout",
     "output_type": "stream",
     "text": [
      "Successfully downloaded train-images-idx3-ubyte.gz 9912422 bytes.\n",
      "Extracting ./mnist/data/train-images-idx3-ubyte.gz\n",
      "Successfully downloaded train-labels-idx1-ubyte.gz 28881 bytes.\n",
      "Extracting ./mnist/data/train-labels-idx1-ubyte.gz\n",
      "Successfully downloaded t10k-images-idx3-ubyte.gz 1648877 bytes.\n",
      "Extracting ./mnist/data/t10k-images-idx3-ubyte.gz\n",
      "Successfully downloaded t10k-labels-idx1-ubyte.gz 4542 bytes.\n",
      "Extracting ./mnist/data/t10k-labels-idx1-ubyte.gz\n"
     ]
    }
   ],
   "source": [
    "mnist = input_data.read_data_sets(\"./mnist/data/\", one_hot=True)"
   ]
  },
  {
   "cell_type": "code",
   "execution_count": 45,
   "metadata": {
    "collapsed": true
   },
   "outputs": [],
   "source": [
    "# parameter\n",
    "learning_rate = 0.001\n",
    "batch_size = 128\n",
    "total_batch = int(mnist.train.num_examples / batch_size)\n",
    "epochs = 20\n",
    "\n",
    "# layer's parameter\n",
    "n_input = 28 * 28\n",
    "n_hidden_1 = 256\n",
    "n_hidden_2 = 256\n",
    "n_output = 10"
   ]
  },
  {
   "cell_type": "code",
   "execution_count": 8,
   "metadata": {
    "collapsed": true
   },
   "outputs": [],
   "source": [
    "# set X, Y\n",
    "X = tf.placeholder(tf.float32, [None, n_input])\n",
    "Y = tf.placeholder(tf.float32, [None, n_output])"
   ]
  },
  {
   "cell_type": "code",
   "execution_count": 17,
   "metadata": {
    "collapsed": true
   },
   "outputs": [],
   "source": [
    "# set Variable\n",
    "weight = {\n",
    "    \"W1\" : tf.Variable(tf.random_normal([n_input, n_hidden_1]), dtype=tf.float32),\n",
    "    \"W2\" : tf.Variable(tf.random_normal([n_hidden_1, n_hidden_2]), dtype = tf.float32),\n",
    "    \"W3\" : tf.Variable(tf.random_normal([n_hidden_2, n_output]), dtype = tf.float32),\n",
    "}\n",
    "\n",
    "bias = {\n",
    "    \"b1\" : tf.Variable(tf.random_normal([n_hidden_1]), dtype = tf.float32),\n",
    "    \"b2\" : tf.Variable(tf.random_normal([n_hidden_2]), dtype = tf.float32),\n",
    "    \"b3\" : tf.Variable(tf.random_normal([n_output]), dtype = tf.float32)\n",
    "}"
   ]
  },
  {
   "cell_type": "code",
   "execution_count": 18,
   "metadata": {},
   "outputs": [],
   "source": [
    "# define model\n",
    "L1 = tf.add(tf.matmul(X, weight[\"W1\"]), bias[\"b1\"])\n",
    "L1 = tf.nn.relu(L1)\n",
    "\n",
    "L2 = tf.add(tf.matmul(L1, weight[\"W2\"]), bias[\"b2\"])\n",
    "L2 = tf.nn.relu(L2)\n",
    "\n",
    "output = tf.matmul(L2, weight[\"W3\"])"
   ]
  },
  {
   "cell_type": "code",
   "execution_count": 39,
   "metadata": {},
   "outputs": [],
   "source": [
    "#define loss\n",
    "loss_op = tf.reduce_mean(tf.nn.softmax_cross_entropy_with_logits_v2(logits = output, labels = Y))"
   ]
  },
  {
   "cell_type": "code",
   "execution_count": 40,
   "metadata": {},
   "outputs": [],
   "source": [
    "# define optimizer\n",
    "estimator = tf.train.AdamOptimizer(learning_rate = learning_rate)\n",
    "train_op = estimator.minimize(loss_op)"
   ]
  },
  {
   "cell_type": "code",
   "execution_count": 41,
   "metadata": {
    "collapsed": true
   },
   "outputs": [],
   "source": [
    "init = tf.global_variables_initializer()"
   ]
  },
  {
   "cell_type": "code",
   "execution_count": 42,
   "metadata": {},
   "outputs": [],
   "source": [
    "# accuaracy\n",
    "acc_op = tf.equal(tf.argmax(Y, axis = 1),tf.argmax(output, axis = 1))\n",
    "acc_op = tf.reduce_mean( tf.cast(acc_op, tf.float32))"
   ]
  },
  {
   "cell_type": "markdown",
   "metadata": {},
   "source": [
    "### Run"
   ]
  },
  {
   "cell_type": "code",
   "execution_count": 44,
   "metadata": {},
   "outputs": [
    {
     "name": "stdout",
     "output_type": "stream",
     "text": [
      "epoch :  0 loss :  15.6266\n",
      "epoch :  1 loss :  3.28447\n",
      "epoch :  2 loss :  5.73814\n",
      "epoch :  3 loss :  1.10436\n",
      "epoch :  4 loss :  3.93467\n",
      "epoch :  5 loss :  0.512183\n",
      "epoch :  6 loss :  1.76625\n",
      "epoch :  7 loss :  0.941059\n",
      "epoch :  8 loss :  4.13627\n",
      "epoch :  9 loss :  0.565397\n",
      "epoch :  10 loss :  2.09541\n",
      "epoch :  11 loss :  0.57812\n",
      "epoch :  12 loss :  3.91373\n",
      "epoch :  13 loss :  1.40621\n",
      "epoch :  14 loss :  0.0\n",
      "epoch :  15 loss :  0.548663\n",
      "epoch :  16 loss :  0.134024\n",
      "epoch :  17 loss :  2.85257\n",
      "epoch :  18 loss :  0.0\n",
      "epoch :  19 loss :  3.00278\n",
      "최적화 완료!!!!\n",
      "==================================================\n",
      "test\n",
      "acc :  0.985236\n"
     ]
    }
   ],
   "source": [
    "with tf.Session() as sess:\n",
    "    sess.run(init)\n",
    "    \n",
    "    for epoch in range(epochs):\n",
    "        \n",
    "        for i in range(total_batch):\n",
    "            batch_xs, batch_ys = mnist.train.next_batch(batch_size)\n",
    "            loss, _ = sess.run([loss_op, train_op], feed_dict = {X : batch_xs, Y : batch_ys})\n",
    "        \n",
    "        print(\"epoch : \", epoch, \"loss : \", loss)\n",
    "            \n",
    "    print(\"최적화 완료!!!!\")\n",
    "    \n",
    "    print(\"=\"*50)\n",
    "    print(\"test\")\n",
    "    \n",
    "    acc = sess.run(acc_op, feed_dict={X : mnist.train.images, Y : mnist.train.labels})\n",
    "    print(\"acc : \", acc)"
   ]
  },
  {
   "cell_type": "code",
   "execution_count": null,
   "metadata": {
    "collapsed": true
   },
   "outputs": [],
   "source": []
  }
 ],
 "metadata": {
  "kernelspec": {
   "display_name": "Python 3",
   "language": "python",
   "name": "python3"
  },
  "language_info": {
   "codemirror_mode": {
    "name": "ipython",
    "version": 3
   },
   "file_extension": ".py",
   "mimetype": "text/x-python",
   "name": "python",
   "nbconvert_exporter": "python",
   "pygments_lexer": "ipython3",
   "version": "3.6.3"
  }
 },
 "nbformat": 4,
 "nbformat_minor": 2
}
