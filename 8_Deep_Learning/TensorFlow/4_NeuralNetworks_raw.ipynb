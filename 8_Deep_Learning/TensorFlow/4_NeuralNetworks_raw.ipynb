{
 "cells": [
  {
   "cell_type": "markdown",
   "metadata": {},
   "source": [
    "2 hidden layers network for classify the mnist\n",
    "\n",
    "- input layer : 28 * 28\n",
    "- hidden layer1 : 256\n",
    "- hidden layer2 : 256\n",
    "- output layer : 10"
   ]
  },
  {
   "cell_type": "code",
   "execution_count": 3,
   "metadata": {
    "collapsed": true
   },
   "outputs": [],
   "source": [
    "import tensorflow as tf\n",
    "from tensorflow.examples.tutorials.mnist import input_data"
   ]
  },
  {
   "cell_type": "code",
   "execution_count": 4,
   "metadata": {},
   "outputs": [
    {
     "name": "stdout",
     "output_type": "stream",
     "text": [
      "Successfully downloaded train-images-idx3-ubyte.gz 9912422 bytes.\n",
      "Extracting /tmp/data/train-images-idx3-ubyte.gz\n",
      "Successfully downloaded train-labels-idx1-ubyte.gz 28881 bytes.\n",
      "Extracting /tmp/data/train-labels-idx1-ubyte.gz\n",
      "Successfully downloaded t10k-images-idx3-ubyte.gz 1648877 bytes.\n",
      "Extracting /tmp/data/t10k-images-idx3-ubyte.gz\n",
      "Successfully downloaded t10k-labels-idx1-ubyte.gz 4542 bytes.\n",
      "Extracting /tmp/data/t10k-labels-idx1-ubyte.gz\n"
     ]
    }
   ],
   "source": [
    "# get data\n",
    "mnist = input_data.read_data_sets(\"/tmp/data/\", one_hot = True)"
   ]
  },
  {
   "cell_type": "code",
   "execution_count": 31,
   "metadata": {
    "collapsed": true
   },
   "outputs": [],
   "source": [
    "# set parameter\n",
    "learning_rate = 0.1\n",
    "epochs = 1000\n",
    "batch_size = 128\n",
    "display_step = 100\n",
    "\n",
    "# Network Parameters\n",
    "n_hidden_1 = 256\n",
    "n_hidden_2 = 256\n",
    "num_input = 784 # number of input : 28 * 28\n",
    "num_classes = 10 # classes 10 "
   ]
  },
  {
   "cell_type": "code",
   "execution_count": 6,
   "metadata": {
    "collapsed": true
   },
   "outputs": [],
   "source": [
    "# set input\n",
    "X = tf.placeholder(\"float\", [None, num_input])\n",
    "Y = tf.placeholder(\"float\", [None, num_classes])"
   ]
  },
  {
   "cell_type": "code",
   "execution_count": 7,
   "metadata": {
    "collapsed": true
   },
   "outputs": [],
   "source": [
    "# set layer parameter\n",
    "weights = {\n",
    "    'h1' : tf.Variable(tf.random_normal([num_input, n_hidden_1])), # (28 * 28) * 256 -> num of parameters hidden layers1\n",
    "    'h2' : tf.Variable(tf.random_normal([n_hidden_1, n_hidden_2])), # 256 * 256 -> num of parameters hidden layers2\n",
    "    'out' : tf.Variable(tf.random_normal([n_hidden_2, num_classes])) # 256 * 10 -> num of parameters output layer\n",
    "}\n",
    "\n",
    "biases = {\n",
    "    'b1' : tf.Variable(tf.random_normal([n_hidden_1])),\n",
    "    'b2' : tf.Variable(tf.random_normal([n_hidden_2])),\n",
    "    'out' : tf.Variable(tf.random_normal([num_classes]))\n",
    "}"
   ]
  },
  {
   "cell_type": "code",
   "execution_count": 33,
   "metadata": {
    "collapsed": true
   },
   "outputs": [],
   "source": [
    "# Create the model\n",
    "def neural_net(x):\n",
    "    # layer 1\n",
    "    layer1 = tf.add(tf.matmul(x, weights['h1']), biases['b1'])\n",
    "    layer1 = tf.nn.relu(layer1)\n",
    "    # layer 2\n",
    "    layer2 = tf.add(tf.matmul(layer1, weights['h2']), biases['b2'])\n",
    "    layer2 = tf.nn.relu(layer2)\n",
    "    # output\n",
    "    output_layer = tf.add(tf.matmul(layer2, weights['out']), biases['out'])\n",
    "    \n",
    "    return output_layer"
   ]
  },
  {
   "cell_type": "code",
   "execution_count": 34,
   "metadata": {
    "collapsed": true
   },
   "outputs": [],
   "source": [
    "# make model\n",
    "model = neural_net(X)"
   ]
  },
  {
   "cell_type": "code",
   "execution_count": 35,
   "metadata": {
    "collapsed": true
   },
   "outputs": [],
   "source": [
    "# define the loss\n",
    "loss_op = tf.reduce_mean(tf.nn.softmax_cross_entropy_with_logits(logits = model, labels = Y))\n",
    "\n",
    "# define the optimizer\n",
    "optimizer = tf.train.AdamOptimizer(learning_rate = learning_rate)\n",
    "train_op = optimizer.minimize(loss_op)\n",
    "\n",
    "# initailize the variable\n",
    "init = tf.global_variables_initializer()\n",
    "\n",
    "# get accuracy\n",
    "correct_op = tf.equal(tf.argmax(loss_op, 1), tf.argmax(Y, 1)) # find the pred == Y\n",
    "accuracy = tf.reduce_mean(tf.cast(correct_op, tf.float32)) # calculate the accuracy"
   ]
  },
  {
   "cell_type": "code",
   "execution_count": 36,
   "metadata": {
    "scrolled": false
   },
   "outputs": [
    {
     "name": "stdout",
     "output_type": "stream",
     "text": [
      "Step 0, Minibatch Loss=  4937.5361\n",
      "Step 100, Minibatch Loss=  2.0468\n",
      "Step 200, Minibatch Loss=  1.7588\n",
      "Step 300, Minibatch Loss=  1.7915\n",
      "Step 400, Minibatch Loss=  1.5076\n",
      "Step 500, Minibatch Loss=  1.9534\n",
      "Step 600, Minibatch Loss=  1.9811\n",
      "Step 700, Minibatch Loss=  1.9878\n",
      "Step 800, Minibatch Loss=  1.6034\n",
      "Step 900, Minibatch Loss=  1.5619\n",
      "optimization Finished!\n"
     ]
    }
   ],
   "source": [
    "# Start training\n",
    "\n",
    "with tf.Session() as sess:\n",
    "    sess.run(init)\n",
    "    \n",
    "    for epoch in range(epochs):\n",
    "        # get data\n",
    "        batch_x, batch_y = mnist.train.next_batch(batch_size)\n",
    "        \n",
    "        # run optimization\n",
    "        sess.run(train_op, feed_dict = {X : batch_x, Y : batch_y})\n",
    "        \n",
    "        if epoch % display_step == 0 :\n",
    "            loss = sess.run(loss_op, feed_dict= {X : batch_x, Y : batch_y})\n",
    "            \n",
    "            print(\"Step {}\".format(epoch) + \", Minibatch Loss= \", \"{:.4f}\".format(loss) )\n",
    "            \n",
    "    print(\"optimization Finished!\")"
   ]
  },
  {
   "cell_type": "code",
   "execution_count": null,
   "metadata": {
    "collapsed": true
   },
   "outputs": [],
   "source": []
  }
 ],
 "metadata": {
  "kernelspec": {
   "display_name": "Python 3",
   "language": "python",
   "name": "python3"
  },
  "language_info": {
   "codemirror_mode": {
    "name": "ipython",
    "version": 3
   },
   "file_extension": ".py",
   "mimetype": "text/x-python",
   "name": "python",
   "nbconvert_exporter": "python",
   "pygments_lexer": "ipython3",
   "version": "3.6.3"
  }
 },
 "nbformat": 4,
 "nbformat_minor": 2
}
