{
 "cells": [
  {
   "cell_type": "code",
   "execution_count": 7,
   "metadata": {
    "collapsed": true
   },
   "outputs": [],
   "source": [
    "import tensorflow as tf\n",
    "import numpy as np"
   ]
  },
  {
   "cell_type": "code",
   "execution_count": 45,
   "metadata": {
    "collapsed": true
   },
   "outputs": [],
   "source": [
    "import matplotlib.pyplot as plt"
   ]
  },
  {
   "cell_type": "code",
   "execution_count": 33,
   "metadata": {
    "collapsed": true
   },
   "outputs": [],
   "source": [
    "# random을 이용해 수 생성\n",
    "train_X = np.array([3.3,4.4,5.5,6.71,6.93,4.168,9.779,6.182,7.59,2.167,\n",
    "                         7.042,10.791,5.313,7.997,5.654,9.27,3.1])\n",
    "train_Y = np.array([1.7,2.76,2.09,3.19,1.694,1.573,3.366,2.596,2.53,1.221,\n",
    "                         2.827,3.465,1.65,2.904,2.42,2.94,1.3])\n",
    "\n",
    "n_sample = train_X.shape[0]"
   ]
  },
  {
   "cell_type": "code",
   "execution_count": 34,
   "metadata": {
    "collapsed": true
   },
   "outputs": [],
   "source": [
    "# 변수 선언\n",
    "X = tf.placeholder(\"float\")\n",
    "Y = tf.placeholder(\"float\")\n",
    "\n",
    "# parameter 선언\n",
    "W = tf.Variable(np.random.randn(), name = \"weight\")\n",
    "b = tf.Variable(np.random.randn(), name = \"bias\")"
   ]
  },
  {
   "cell_type": "markdown",
   "metadata": {},
   "source": [
    "- parameter : Variable 로 선언\n",
    "- trainset : placeholder 로 선언 "
   ]
  },
  {
   "cell_type": "markdown",
   "metadata": {},
   "source": [
    "### score function"
   ]
  },
  {
   "cell_type": "code",
   "execution_count": 35,
   "metadata": {
    "collapsed": true
   },
   "outputs": [],
   "source": [
    "# Y = WX + b\n",
    "pred = tf.add(tf.multiply(W, X), b)"
   ]
  },
  {
   "cell_type": "markdown",
   "metadata": {},
   "source": [
    "- feature 1개의 식으로 존재"
   ]
  },
  {
   "cell_type": "markdown",
   "metadata": {},
   "source": [
    "### cost function"
   ]
  },
  {
   "cell_type": "code",
   "execution_count": 36,
   "metadata": {
    "collapsed": true
   },
   "outputs": [],
   "source": [
    "# cost function : MSE\n",
    "cost = tf.reduce_sum(tf.pow(pred - Y, 2)) / (2*n_sample)"
   ]
  },
  {
   "cell_type": "markdown",
   "metadata": {},
   "source": [
    "- reduce_sum() : 해당 축에 해당되는 값을 더한다,\n",
    "- defalt : 모든 dimense 축소"
   ]
  },
  {
   "cell_type": "markdown",
   "metadata": {},
   "source": [
    "### optimizer"
   ]
  },
  {
   "cell_type": "code",
   "execution_count": 37,
   "metadata": {
    "collapsed": true
   },
   "outputs": [],
   "source": [
    "# optimizer \n",
    "learning_rate = 0.01\n",
    "optimizer = tf.train.GradientDescentOptimizer(learning_rate).minimize(cost)"
   ]
  },
  {
   "cell_type": "code",
   "execution_count": 38,
   "metadata": {
    "collapsed": true
   },
   "outputs": [],
   "source": [
    "#init \n",
    "init = tf.global_variables_initializer()"
   ]
  },
  {
   "cell_type": "markdown",
   "metadata": {},
   "source": [
    "- Variable은 tensor를 저장하는 공간으로 반드시 초기화가 필요하다."
   ]
  },
  {
   "cell_type": "markdown",
   "metadata": {},
   "source": [
    "### Session"
   ]
  },
  {
   "cell_type": "code",
   "execution_count": 41,
   "metadata": {
    "collapsed": true
   },
   "outputs": [],
   "source": [
    "epochs = 2000"
   ]
  },
  {
   "cell_type": "code",
   "execution_count": 51,
   "metadata": {},
   "outputs": [
    {
     "name": "stdout",
     "output_type": "stream",
     "text": [
      "Epoch:  100 cost= 0.297989219 W= 0.512069 b= -1.08677\n",
      "Epoch:  200 cost= 0.249872968 W= 0.481776 b= -0.86884\n",
      "Epoch:  300 cost= 0.212226972 W= 0.45498 b= -0.676066\n",
      "Epoch:  400 cost= 0.182773471 W= 0.431275 b= -0.50554\n",
      "Epoch:  500 cost= 0.159729898 W= 0.410307 b= -0.354696\n",
      "Epoch:  600 cost= 0.141701713 W= 0.391759 b= -0.22126\n",
      "Epoch:  700 cost= 0.127597570 W= 0.375351 b= -0.103225\n",
      "Epoch:  800 cost= 0.116563745 W= 0.360837 b= 0.00118712\n",
      "Epoch:  900 cost= 0.107932039 W= 0.347998 b= 0.0935492\n",
      "Epoch: 1000 cost= 0.101179756 W= 0.336641 b= 0.175251\n",
      "Epoch: 1100 cost= 0.095897913 W= 0.326595 b= 0.247524\n",
      "Epoch: 1200 cost= 0.091766417 W= 0.317708 b= 0.311456\n",
      "Epoch: 1300 cost= 0.088534936 W= 0.309847 b= 0.36801\n",
      "Epoch: 1400 cost= 0.086007558 W= 0.302893 b= 0.418036\n",
      "Epoch: 1500 cost= 0.084030971 W= 0.296741 b= 0.462288\n",
      "Epoch: 1600 cost= 0.082485229 W= 0.2913 b= 0.501434\n",
      "Epoch: 1700 cost= 0.081276566 W= 0.286486 b= 0.536062\n",
      "Epoch: 1800 cost= 0.080331512 W= 0.282228 b= 0.566693\n",
      "Epoch: 1900 cost= 0.079592653 W= 0.278462 b= 0.593791\n",
      "Epoch: 2000 cost= 0.079015099 W= 0.27513 b= 0.61776\n",
      "\n",
      "Optimization Finished\n",
      "Training cost= 0.0790436 W= 0.27513 b= 0.61776 \n",
      "\n"
     ]
    }
   ],
   "source": [
    "# version 1\n",
    "with tf.Session() as sess:\n",
    "    sess.run(init)\n",
    "    \n",
    "    # training\n",
    "    for epoch in range(epochs):\n",
    "        for (x, y) in zip(train_X, train_Y):\n",
    "            # X : train_X, Y : train_Y\n",
    "            c = sess.run(cost, feed_dict= {X:train_X, Y:train_Y})\n",
    "            sess.run(optimizer, feed_dict={X: x, Y: y})\n",
    "            # optimizer train시킬 시에는 sample 당 train 시킨다.\n",
    "        \n",
    "        # 100 단위 결과 출력\n",
    "        if (epoch+1) % 100 == 0:\n",
    "            print(\"Epoch: %4d\" % (epoch+1), \"cost=\", \"{:.9f}\".format(c), \"W=\", sess.run(W), \"b=\", sess.run(b))\n",
    "    \n",
    "    print(\"\")\n",
    "    print(\"Optimization Finished\")\n",
    "    training_cost = sess.run(cost, feed_dict={X: train_X, Y:train_Y})\n",
    "    print(\"Training cost=\", training_cost, \"W=\", sess.run(W), \"b=\", sess.run(b), \"\\n\")"
   ]
  },
  {
   "cell_type": "code",
   "execution_count": 61,
   "metadata": {},
   "outputs": [
    {
     "name": "stdout",
     "output_type": "stream",
     "text": [
      "0 47.4162 1.33549 -1.21706\n",
      "100 0.296991 0.51727 -1.08443\n",
      "200 0.249532 0.486889 -0.869043\n",
      "300 0.212309 0.459983 -0.678291\n",
      "400 0.183112 0.436154 -0.509355\n",
      "500 0.160213 0.41505 -0.359741\n",
      "600 0.142252 0.39636 -0.227238\n",
      "700 0.128164 0.379808 -0.109889\n",
      "800 0.117115 0.365149 -0.00596171\n",
      "900 0.108448 0.352166 0.0860794\n",
      "1000 0.101651 0.340668 0.167594\n",
      "1100 0.0963192 0.330486 0.239785\n",
      "1200 0.0921375 0.321467 0.30372\n",
      "1300 0.0888576 0.313481 0.360343\n",
      "1400 0.086285 0.306407 0.410489\n",
      "1500 0.0842673 0.300143 0.454901\n",
      "1600 0.0826847 0.294595 0.494233\n",
      "1700 0.0814433 0.289682 0.529067\n",
      "1800 0.0804697 0.28533 0.559917\n",
      "1900 0.0797061 0.281477 0.587238\n"
     ]
    }
   ],
   "source": [
    "# version 2\n",
    "with tf.Session() as sess:\n",
    "    sess.run(init)\n",
    "    for epoch in range(epochs):\n",
    "        c, _ = sess.run([cost, optimizer], feed_dict={X : train_X, Y : train_Y})\n",
    "        \n",
    "        if epoch % 100 == 0:\n",
    "            print(epoch, c, sess.run(W), sess.run(b))"
   ]
  },
  {
   "cell_type": "markdown",
   "metadata": {},
   "source": [
    "- sample 하나씩도 가능하고\n",
    "- sample 여러개도 가능하다."
   ]
  },
  {
   "cell_type": "code",
   "execution_count": 47,
   "metadata": {
    "collapsed": true
   },
   "outputs": [],
   "source": [
    "# W = 0.257513, b = 0.61776"
   ]
  },
  {
   "cell_type": "markdown",
   "metadata": {},
   "source": [
    "##### 순서\n",
    "- parameter 정의 (Variable)\n",
    "- input, output 정의 (placeholder)\n",
    "- 관계식 정의\n",
    "- cost function 정의\n",
    "- optimizer 정의"
   ]
  },
  {
   "cell_type": "markdown",
   "metadata": {},
   "source": [
    "### Result"
   ]
  },
  {
   "cell_type": "code",
   "execution_count": 52,
   "metadata": {
    "collapsed": true
   },
   "outputs": [],
   "source": [
    "import matplotlib.pyplot as plt"
   ]
  },
  {
   "cell_type": "code",
   "execution_count": 58,
   "metadata": {},
   "outputs": [
    {
     "data": {
      "text/plain": [
       "[<matplotlib.lines.Line2D at 0x193a8fec710>]"
      ]
     },
     "execution_count": 58,
     "metadata": {},
     "output_type": "execute_result"
    },
    {
     "data": {
      "image/png": "[encoded data removed]",
      "text/plain": [
       "<matplotlib.figure.Figure at 0x193a8fec588>"
      ]
     },
     "metadata": {},
     "output_type": "display_data"
    }
   ],
   "source": [
    "x = np.linspace(2, 15, 200)\n",
    "y = 0.257513 * x + 0.61776\n",
    "\n",
    "plt.scatter(train_X, train_Y)\n",
    "plt.plot(x, y, c = 'r')"
   ]
  }
 ],
 "metadata": {
  "kernelspec": {
   "display_name": "Python 3",
   "language": "python",
   "name": "python3"
  },
  "language_info": {
   "codemirror_mode": {
    "name": "ipython",
    "version": 3
   },
   "file_extension": ".py",
   "mimetype": "text/x-python",
   "name": "python",
   "nbconvert_exporter": "python",
   "pygments_lexer": "ipython3",
   "version": "3.6.3"
  }
 },
 "nbformat": 4,
 "nbformat_minor": 2
}
