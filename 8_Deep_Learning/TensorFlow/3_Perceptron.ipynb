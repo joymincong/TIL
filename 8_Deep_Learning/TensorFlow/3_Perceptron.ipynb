{
 "cells": [
  {
   "cell_type": "markdown",
   "metadata": {},
   "source": [
    "- input : 2\n",
    "- output : 3"
   ]
  },
  {
   "cell_type": "code",
   "execution_count": 2,
   "metadata": {
    "collapsed": true
   },
   "outputs": [],
   "source": [
    "import tensorflow as tf\n",
    "import numpy as np"
   ]
  },
  {
   "cell_type": "code",
   "execution_count": 4,
   "metadata": {
    "collapsed": true
   },
   "outputs": [],
   "source": [
    "# define the sample\n",
    "x_data = np.array([[0, 0], [1, 0], [1, 1], [0, 0], [0, 0], [0, 1]])\n",
    "\n",
    "# one-hot-encode\n",
    "y_data = np.array([\n",
    "    [1, 0, 0], \n",
    "    [0, 1, 0],  \n",
    "    [0, 0, 1],  \n",
    "    [1, 0, 0],\n",
    "    [1, 0, 0],\n",
    "    [0, 0, 1]\n",
    "])"
   ]
  },
  {
   "cell_type": "code",
   "execution_count": 19,
   "metadata": {
    "collapsed": true
   },
   "outputs": [],
   "source": [
    "# set parameter\n",
    "learning_rate = 0.01\n",
    "epochs = 1000"
   ]
  },
  {
   "cell_type": "code",
   "execution_count": 10,
   "metadata": {
    "collapsed": true
   },
   "outputs": [],
   "source": [
    "# set input, output\n",
    "X = tf.placeholder(\"float\")\n",
    "Y = tf.placeholder(\"float\")"
   ]
  },
  {
   "cell_type": "code",
   "execution_count": 11,
   "metadata": {
    "collapsed": true
   },
   "outputs": [],
   "source": [
    "# set weight parameter\n",
    "W = tf.Variable(tf.random_normal([2, 3]))\n",
    "b = tf.Variable(tf.zeros([3]))"
   ]
  },
  {
   "cell_type": "code",
   "execution_count": 14,
   "metadata": {},
   "outputs": [],
   "source": [
    "# define the model\n",
    "out = tf.add(tf.matmul(X, W), b)\n",
    "out = tf.nn.relu(out)\n",
    "model = tf.nn.softmax(out)"
   ]
  },
  {
   "cell_type": "code",
   "execution_count": 15,
   "metadata": {
    "collapsed": true
   },
   "outputs": [],
   "source": [
    "# define the loss (Cross entrophy)\n",
    "# cross entrophy : -1 * sum(target * log(predict))\n",
    "loss_op = tf.reduce_mean(-tf.reduce_sum(Y * tf.log(model), axis = 1))\n",
    "\n",
    "# define the optimizer\n",
    "optimizer = tf.train.AdamOptimizer(learning_rate = 0.01)\n",
    "train_op = optimizer.minimize(loss_op)"
   ]
  },
  {
   "cell_type": "code",
   "execution_count": 23,
   "metadata": {},
   "outputs": [],
   "source": [
    "# define accuracy\n",
    "acc_op = tf.equal(tf.argmax(Y, 1), tf.argmax(model, 1))\n",
    "acc_op = tf.reduce_mean(tf.cast(acc_op, \"float\"))"
   ]
  },
  {
   "cell_type": "code",
   "execution_count": 16,
   "metadata": {
    "collapsed": true
   },
   "outputs": [],
   "source": [
    "# init the variable\n",
    "init = tf.global_variables_initializer()"
   ]
  },
  {
   "cell_type": "code",
   "execution_count": 25,
   "metadata": {},
   "outputs": [
    {
     "name": "stdout",
     "output_type": "stream",
     "text": [
      "step :  0 , loss :  1.11117\n",
      "step :  100 , loss :  1.09861\n",
      "step :  200 , loss :  1.09861\n",
      "step :  300 , loss :  1.09861\n",
      "step :  400 , loss :  1.09861\n",
      "step :  500 , loss :  1.09861\n",
      "step :  600 , loss :  1.09861\n",
      "step :  700 , loss :  1.09861\n",
      "step :  800 , loss :  1.09861\n",
      "step :  900 , loss :  1.09861\n",
      "finish the train !!\n",
      "w :  [[-1.44865    -1.31071091 -0.00556039]\n",
      " [-0.04783098 -0.00867098 -0.58768368]] , b :  [-0.0600546   0.         -0.20567052]\n",
      "==================================================\n",
      "accuracy :  0.5\n"
     ]
    }
   ],
   "source": [
    "#Session\n",
    "\n",
    "with tf.Session() as sess:\n",
    "    sess.run(init)\n",
    "    \n",
    "    for epoch in range(epochs):\n",
    "        loss, _ = sess.run([loss_op, train_op], feed_dict = {X : x_data, Y : y_data})\n",
    "        \n",
    "        if epoch % 100 == 0:\n",
    "            print(\"step : \", epoch, \", loss : \", loss)\n",
    "            \n",
    "    print(\"finish the train !!\")\n",
    "    \n",
    "    print(\"w : \", sess.run(W), \", b : \", sess.run(b))\n",
    "    \n",
    "    \n",
    "    #### 결과 확인 ##########\n",
    "    print(\"=\"*50)\n",
    "    \n",
    "    print(\"accuracy : \", sess.run(acc_op, feed_dict = {X:x_data, Y:y_data}))"
   ]
  },
  {
   "cell_type": "code",
   "execution_count": null,
   "metadata": {
    "collapsed": true
   },
   "outputs": [],
   "source": []
  }
 ],
 "metadata": {
  "kernelspec": {
   "display_name": "Python 3",
   "language": "python",
   "name": "python3"
  },
  "language_info": {
   "codemirror_mode": {
    "name": "ipython",
    "version": 3
   },
   "file_extension": ".py",
   "mimetype": "text/x-python",
   "name": "python",
   "nbconvert_exporter": "python",
   "pygments_lexer": "ipython3",
   "version": "3.6.3"
  }
 },
 "nbformat": 4,
 "nbformat_minor": 2
}
