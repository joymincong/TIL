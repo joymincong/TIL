{
 "cells": [
  {
   "cell_type": "markdown",
   "metadata": {},
   "source": [
    "# Python Basic syntax"
   ]
  },
  {
   "cell_type": "markdown",
   "metadata": {},
   "source": [
    "## 1. 식별자"
   ]
  },
  {
   "cell_type": "markdown",
   "metadata": {},
   "source": [
    "- 변수, 함수, 클래스, 모듈을 구분하기 위한 이름\n",
    "- 규칙\n",
    "  - 앞에 숫자 사용 불가\n",
    "  - (__) 사용 불가\n",
    "  - 예약어 사용 불가\n",
    "  - 특수문자 사용 불가"
   ]
  },
  {
   "cell_type": "markdown",
   "metadata": {},
   "source": [
    "## 2. 변수"
   ]
  },
  {
   "cell_type": "markdown",
   "metadata": {},
   "source": [
    "- 데이터를 저장하기 위한 저장공간의 이름\n",
    "- 종류\n",
    "  - snake case : aaaa_bbbb, 변수에서 사용\n",
    "  - pascal case : AaaaBbbb\n",
    "  - camel case : aaaaBbbb"
   ]
  },
  {
   "cell_type": "markdown",
   "metadata": {},
   "source": [
    "- 다중할당\n",
    "c, d = 5, 6\n",
    "e = f = g = \"datascience\""
   ]
  },
  {
   "cell_type": "markdown",
   "metadata": {},
   "source": [
    "## 3. 자료형"
   ]
  },
  {
   "cell_type": "markdown",
   "metadata": {},
   "source": [
    "- 종류\n",
    "  - 숫자형 (int, float, complex)\n",
    "  - 이진형 \n",
    "  - 문자형\n",
    "- Collections\n",
    "  - List : 순서가 있는 데이터\n",
    "  - Tuple : 순서가 있는 데이터 (변경 불가)\n",
    "  - Dictionary : key, value가 쌍으로 존재하는 데이터\n",
    "  - Set : 순서가 없고 중복이 없는 데이터"
   ]
  },
  {
   "cell_type": "markdown",
   "metadata": {},
   "source": [
    "- 복수소"
   ]
  },
  {
   "cell_type": "code",
   "execution_count": 2,
   "metadata": {},
   "outputs": [
    {
     "data": {
      "text/plain": [
       "2.23606797749979"
      ]
     },
     "execution_count": 2,
     "metadata": {},
     "output_type": "execute_result"
    }
   ],
   "source": [
    "a = 1+2j\n",
    "a.real, a.imag # 실수분, 허수분\n",
    "a.conjugate() # 켤레 복소수\n",
    "abs(a) # 복소수의 크기"
   ]
  },
  {
   "cell_type": "markdown",
   "metadata": {},
   "source": [
    "- 이진형 (True, False)"
   ]
  },
  {
   "cell_type": "markdown",
   "metadata": {},
   "source": [
    "- 문자형\n",
    "  - 연산자 * : 연속으로 글자 생성\n",
    "  - index : 해당 위치 값 접근\n",
    "  - slicing : (start:end:step)\n",
    "  - len() : 길이 출력\n",
    "  \n",
    "  \n",
    "  - 함수\n",
    "    - find('c') : 해당 문자영 위치 리턴(없을 시 -1)\n",
    "    - index('c') : 해당 문자영 위치 리턴(없을 시 value error)\n",
    "    - count('c') : 문자열 갯수 리턴\n",
    "    - lstrip(), rstrip(), strip() : 공백 제거\n",
    "    - replace('a','b') : 특정 문자열 치환\n",
    "    - split(\" \") : 문자열을 분리하여 리스트 치환\n",
    "    - endwith('string') : 마지막 문자열 확인\n",
    "    - \" \".join(a) : 리스트 결합"
   ]
  },
  {
   "cell_type": "markdown",
   "metadata": {},
   "source": [
    "- List\n",
    "  - 선언 : a = [1,2,3]\n",
    "  - index : string과 같음\n",
    "  - 함수\n",
    "    - append('string') : 데이터 추가\n",
    "    - sort() : 오름차순 정렬 (sort(key=len) : 글자 길이 순으로)\n",
    "    - reverse() : 내림차순 정렬\n",
    "    - index(\"c\") : 해당 데이터 위치 리턴 (없으면 value error)\n",
    "    - insert(2, 'a') : 특정위치 데이터 추가\n",
    "    - remove() : 해당 데이터 삭제(인덱스가 낮은 데이터만 삭제)\n",
    "    - pop() : 마지막 값 리터\n",
    "    - copy() : 데이터 값 복사 (일반 대입시 주소 값 복사)"
   ]
  },
  {
   "cell_type": "code",
   "execution_count": 1,
   "metadata": {},
   "outputs": [
    {
     "data": {
      "text/plain": [
       "[1, '1', '2', 4, 5]"
      ]
     },
     "execution_count": 1,
     "metadata": {},
     "output_type": "execute_result"
    }
   ],
   "source": [
    "#참고\n",
    "a = [1,2,3,4,5]\n",
    "a[1:3]=\"12\"\n",
    "a"
   ]
  },
  {
   "cell_type": "markdown",
   "metadata": {},
   "source": [
    "- Tuple\n",
    "  - 선언 : a = 1, 2, 3 , a = (1, 2, 3)\n",
    "  - index 사용 불가 (수정이 불가능)\n",
    "  - 특징 : 리스트보다 더 적은 공간을 사용\n",
    "\n",
    "  "
   ]
  },
  {
   "cell_type": "markdown",
   "metadata": {},
   "source": [
    "- Dictionary\n",
    "  - 선언 : a = {1 : \"one\", \"A\" : [\"1\",\"2\"]}\n",
    "  - 함수 \n",
    "    - keys() : 키값을 리스트 형태로\n",
    "    - values() : 값을 리스트 형태로\n",
    "    - items() : 데이터 모두 튜플이 있는 리스트 형태로\n",
    "    - clear() : 데이터 모두 삭제\n",
    "    - get(2,\"no_data\") : 해당 키의 값을 가져온다.(error를 방지 가능)\n",
    "    - copy() : 값 복사\n",
    "    - update(b) : 데이터를 업데이트 (있는 값은 수정하고 없는 값은 추가)"
   ]
  },
  {
   "cell_type": "markdown",
   "metadata": {},
   "source": [
    "- Set\n",
    "  - 선언 : set([1,2,3])\n",
    "  - 함수\n",
    "    - sA.intersection(sB) = sA & sB 교집합\n",
    "    - sA.union(sB) = sA | sB 합집합\n",
    "    - sA.difference(sB) = sA - sB 차집합\n",
    "    "
   ]
  },
  {
   "cell_type": "markdown",
   "metadata": {},
   "source": [
    "## 4. 데이터 형변환"
   ]
  },
  {
   "cell_type": "markdown",
   "metadata": {},
   "source": [
    "- string(숫자) -> int : int(str) * 문자 string 변환 불가능\n",
    "- int -> string : str(int)\n",
    "- data -> boolean \n",
    "  - number형 0 : False, 나머지 : True\n",
    "  - collection형 데이터가 없을 때 False, 데이터가 있을 때 True\n",
    "  - 조건문으로 데이터가 있는지 없는 지 판단할 때 사용"
   ]
  },
  {
   "cell_type": "code",
   "execution_count": 9,
   "metadata": {},
   "outputs": [
    {
     "name": "stdout",
     "output_type": "stream",
     "text": [
      "no_data\n"
     ]
    }
   ],
   "source": [
    "a = []\n",
    "if not a:\n",
    "    print(\"no_data\")"
   ]
  },
  {
   "cell_type": "markdown",
   "metadata": {},
   "source": [
    "- dictionary -> tuple\n",
    "  - tuple(dict) : 키값 튜플\n",
    "  - tuple(dict.items()) : 전체값 튜플\n",
    "- tuple -> dictionary \n",
    "  - dict(tuple)"
   ]
  },
  {
   "cell_type": "markdown",
   "metadata": {},
   "source": [
    "## 5. 연산자"
   ]
  },
  {
   "cell_type": "markdown",
   "metadata": {},
   "source": [
    "- 연산자의 종류\n",
    "    - 산술 연산자 (Arithmetic Operators) : `+, -, *, /, //, %, **`\n",
    "    - 비교 연산자 (Comparison Operators) : `==, !=, >, <, =>, =<`\n",
    "    - 할당 연산자 (Assignment Operators) : `=, +=, -=, *=, /=, %=, //=, **=`\n",
    "    - 비트 연산자 (Bitwise Operators) : `&, |, ^, ~, <<, >>`\n",
    "    - 논리 연산자 (Logical Operators) : `and, or, not`\n",
    "    - 멤버 연산자 (Membership Operators) : `in, not in` \n",
    "    - 식별 연산자 (Identity Operators) : `is, is not` "
   ]
  }
 ],
 "metadata": {
  "kernelspec": {
   "display_name": "Python 3",
   "language": "python",
   "name": "python3"
  },
  "language_info": {
   "codemirror_mode": {
    "name": "ipython",
    "version": 3
   },
   "file_extension": ".py",
   "mimetype": "text/x-python",
   "name": "python",
   "nbconvert_exporter": "python",
   "pygments_lexer": "ipython3",
   "version": "3.6.3"
  }
 },
 "nbformat": 4,
 "nbformat_minor": 2
}
