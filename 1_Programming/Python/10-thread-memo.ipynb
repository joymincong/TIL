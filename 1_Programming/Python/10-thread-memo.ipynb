{
 "cells": [
  {
   "cell_type": "markdown",
   "metadata": {},
   "source": [
    "# Thread"
   ]
  },
  {
   "cell_type": "markdown",
   "metadata": {},
   "source": [
    "- Synchronous (동기) : 순서대로 실행하여 결과를 본 다음에 작업을 수행\n",
    "- Asynchronous (비동기) : 작업을 독립적으로 수행 (결과를 확인하지 않고 마구마구 보낸다.) 먼저 끝난 작업이 먼저 실행된다.\n",
    "  - 시간을 쪼개서 사용한다. idle이 많을 수록 효과가 좋다.\n",
    "- idle : 휴재 시간"
   ]
  },
  {
   "cell_type": "markdown",
   "metadata": {},
   "source": [
    "### 응용예\n",
    "- sns 댓글 호스팅 : 웹에서는 호스팅 결과를 받는 것에 시간이 오래 걸리기 때문에 비동기 방법이 적합하다.\n",
    "- 브라우저에서 웹크롤링할 때 사용"
   ]
  },
  {
   "cell_type": "markdown",
   "metadata": {},
   "source": [
    "### 프로그램이 시간이 많이 걸리는 경우"
   ]
  },
  {
   "cell_type": "markdown",
   "metadata": {},
   "source": [
    "- I/O 데이터를 가져오는데 많이 걸리는 경우\n",
    "- CPU : 계산량이 많을 경우\n",
    "\n",
    "** - I/O 바운드는 Thread를 이용해서 해결한다. **\n",
    "\n",
    "** - CPU 바운드는 process로 성능개선 **"
   ]
  },
  {
   "cell_type": "markdown",
   "metadata": {},
   "source": [
    "### Thread 설정"
   ]
  },
  {
   "cell_type": "markdown",
   "metadata": {},
   "source": [
    "> import threading\n",
    "\n",
    "> th1 = threading.Thread(target=함수이름, args=(함수 매개변수)\n",
    "\n",
    "> th1.start()"
   ]
  },
  {
   "cell_type": "markdown",
   "metadata": {},
   "source": [
    "- return 값이 없는 함수만 가능하다. \n",
    "- 저장할 값이 있을 경우에는 따로 변수를 생성해서 제작한다."
   ]
  },
  {
   "cell_type": "markdown",
   "metadata": {},
   "source": [
    "### Thread 시작"
   ]
  },
  {
   "cell_type": "markdown",
   "metadata": {},
   "source": [
    "> th1.start()"
   ]
  }
 ],
 "metadata": {
  "kernelspec": {
   "display_name": "Python 3",
   "language": "python",
   "name": "python3"
  },
  "language_info": {
   "codemirror_mode": {
    "name": "ipython",
    "version": 3
   },
   "file_extension": ".py",
   "mimetype": "text/x-python",
   "name": "python",
   "nbconvert_exporter": "python",
   "pygments_lexer": "ipython3",
   "version": "3.6.3"
  }
 },
 "nbformat": 4,
 "nbformat_minor": 2
}
