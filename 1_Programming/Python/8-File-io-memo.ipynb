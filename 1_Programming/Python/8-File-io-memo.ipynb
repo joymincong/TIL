{
 "cells": [
  {
   "cell_type": "markdown",
   "metadata": {},
   "source": [
    "# File"
   ]
  },
  {
   "cell_type": "markdown",
   "metadata": {},
   "source": [
    "- 파일 옵션\n",
    "  - w : 덮어쓰기\n",
    "  - x : 존재하지 않을 때에만 생성\n",
    "  - r : 읽기\n",
    "  - a : 파일 추가\n",
    "  - t : 텍스트 타입 (\n",
    "  - b : 이진 타입 (객체, 변수, 숫자만 있는 경우, 이진으로 저장) \n",
    "    - bytes():로 이진으로 변화해준다."
   ]
  },
  {
   "cell_type": "markdown",
   "metadata": {},
   "source": [
    "- 절대 경로 : C://에서 부터 시작하는 경로\n",
    "- 상대 경로 : ./folder/ 현재 위치에서 시작하는 경로"
   ]
  },
  {
   "cell_type": "markdown",
   "metadata": {},
   "source": [
    "## 파일 쓰기 기본 문법"
   ]
  },
  {
   "cell_type": "code",
   "execution_count": null,
   "metadata": {
    "collapsed": true
   },
   "outputs": [],
   "source": [
    "f = open(\"file/test1.txt\", \"wt\")\n",
    "f.write(s)\n",
    "f.close()"
   ]
  },
  {
   "cell_type": "markdown",
   "metadata": {},
   "source": [
    "print(s, file = f, end = \"\")\n",
    "- end를 입력하지 않을 경우 빈 마지막 행 출력 된다."
   ]
  },
  {
   "cell_type": "markdown",
   "metadata": {},
   "source": [
    "## 파일 읽기 기본 문법"
   ]
  },
  {
   "cell_type": "markdown",
   "metadata": {},
   "source": [
    "f = open(\"file/test1.txt\", \"rt\")\n",
    "s = read()"
   ]
  },
  {
   "cell_type": "markdown",
   "metadata": {},
   "source": [
    "- readline() : 한줄만 읽어오기\n",
    "  - 한 번 읽은 후에는 다음 라인을 읽는다.\n",
    "- readlines() : 한줄마다 읽고 리스트로 출력\n",
    "- read(num) : num만큼의 수를 읽어온다."
   ]
  },
  {
   "cell_type": "code",
   "execution_count": 2,
   "metadata": {},
   "outputs": [
    {
     "ename": "NameError",
     "evalue": "name 'f' is not defined",
     "output_type": "error",
     "traceback": [
      "\u001b[1;31m---------------------------------------------------------------------------\u001b[0m",
      "\u001b[1;31mNameError\u001b[0m                                 Traceback (most recent call last)",
      "\u001b[1;32m<ipython-input-2-c6d7ef64f15d>\u001b[0m in \u001b[0;36m<module>\u001b[1;34m()\u001b[0m\n\u001b[0;32m      2\u001b[0m \u001b[1;33m\u001b[0m\u001b[0m\n\u001b[0;32m      3\u001b[0m \u001b[1;32mwhile\u001b[0m \u001b[1;32mTrue\u001b[0m\u001b[1;33m:\u001b[0m\u001b[1;33m\u001b[0m\u001b[0m\n\u001b[1;32m----> 4\u001b[1;33m     \u001b[0ms\u001b[0m \u001b[1;33m=\u001b[0m \u001b[0mf\u001b[0m\u001b[1;33m.\u001b[0m\u001b[0mreadline\u001b[0m\u001b[1;33m(\u001b[0m\u001b[1;33m)\u001b[0m\u001b[1;33m\u001b[0m\u001b[0m\n\u001b[0m\u001b[0;32m      5\u001b[0m     \u001b[1;32mif\u001b[0m \u001b[1;32mnot\u001b[0m \u001b[0ms\u001b[0m\u001b[1;33m:\u001b[0m\u001b[1;33m\u001b[0m\u001b[0m\n\u001b[0;32m      6\u001b[0m         \u001b[1;32mbreak\u001b[0m\u001b[1;33m\u001b[0m\u001b[0m\n",
      "\u001b[1;31mNameError\u001b[0m: name 'f' is not defined"
     ]
    }
   ],
   "source": [
    "# 한줄 씩 읽어들어올 때\n",
    "\n",
    "while True:\n",
    "    s = f.readline()\n",
    "    if not s:\n",
    "        break\n",
    "    print(s, end=\"\")"
   ]
  },
  {
   "cell_type": "markdown",
   "metadata": {},
   "source": [
    "with 를 사용할 때에는 자동으로 close해 준다."
   ]
  },
  {
   "cell_type": "code",
   "execution_count": null,
   "metadata": {
    "collapsed": true
   },
   "outputs": [],
   "source": [
    "with open(\"dir_path\", \"wt\") as f:\n",
    "    s = f.read()\n",
    "    print(s)"
   ]
  },
  {
   "cell_type": "markdown",
   "metadata": {},
   "source": [
    "## Pickle"
   ]
  },
  {
   "cell_type": "markdown",
   "metadata": {},
   "source": [
    "- 파이썬에서만 사용이 가능하다.\n",
    "- 객체를 자동으로 바이너리 형태로 저장하고 복원하는 모듈이다.\n",
    "- 객체는 리스트로 저장\n",
    "- 예시) 이메일의 비밀번호를 저장할 때 pickle을 이용한다.\n",
    "- 객체는 모듈로 저장하는 것이 좋다"
   ]
  },
  {
   "cell_type": "code",
   "execution_count": null,
   "metadata": {
    "collapsed": true
   },
   "outputs": [],
   "source": [
    "# 저장\n",
    "with open(\"file/obj.p\", \"wb\") as f:\n",
    "    pickle.dump(a, f)\n",
    "    \n",
    "# 불러오기\n",
    "with open(\"file/obj.p\", \"rb\") as f:\n",
    "    load_a = pickle.load(f)"
   ]
  }
 ],
 "metadata": {
  "kernelspec": {
   "display_name": "Python 3",
   "language": "python",
   "name": "python3"
  },
  "language_info": {
   "codemirror_mode": {
    "name": "ipython",
    "version": 3
   },
   "file_extension": ".py",
   "mimetype": "text/x-python",
   "name": "python",
   "nbconvert_exporter": "python",
   "pygments_lexer": "ipython3",
   "version": "3.6.3"
  }
 },
 "nbformat": 4,
 "nbformat_minor": 2
}
