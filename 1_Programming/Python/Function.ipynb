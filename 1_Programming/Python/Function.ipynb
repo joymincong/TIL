{
 "cells": [
  {
   "cell_type": "markdown",
   "metadata": {},
   "source": [
    "# Function"
   ]
  },
  {
   "cell_type": "markdown",
   "metadata": {},
   "source": [
    "## 함수의 선언 및 호출"
   ]
  },
  {
   "cell_type": "code",
   "execution_count": 2,
   "metadata": {},
   "outputs": [],
   "source": [
    "def func_name (para_name1, para_num2):\n",
    "    code_1\n",
    "    code_2"
   ]
  },
  {
   "cell_type": "markdown",
   "metadata": {},
   "source": [
    "func_name()"
   ]
  },
  {
   "cell_type": "markdown",
   "metadata": {},
   "source": [
    "## return"
   ]
  },
  {
   "cell_type": "markdown",
   "metadata": {},
   "source": [
    "- return이 있는 함수는 결과 값을 저장할 수 있다.\n",
    "- 함수의 마지막(종료)을 의미"
   ]
  },
  {
   "cell_type": "markdown",
   "metadata": {},
   "source": [
    "## parameter & argument"
   ]
  },
  {
   "cell_type": "markdown",
   "metadata": {},
   "source": [
    "### parameter와 argument의 차이\n",
    "- parameter : 데이터를 넘길 때 쓰는 데이터 \n",
    "- argument : 데이터를 받을 때 받는 데이터 (실제로 주는 데이터)"
   ]
  },
  {
   "cell_type": "markdown",
   "metadata": {},
   "source": [
    "- pass : 함수에 내용이 없을 경우 사용 (실제 함수 설계시에 사용)\n",
    "- parameter와 argument의 갯수는 같아야 한다."
   ]
  },
  {
   "cell_type": "markdown",
   "metadata": {},
   "source": [
    "## 함수 잡다한 정보"
   ]
  },
  {
   "cell_type": "markdown",
   "metadata": {},
   "source": [
    "- def func(para1, para2 = argu)\n",
    "  - default 설정은 무조건 뒤쪽에 몰아준다.\n",
    "- 파라미터 순서 없이 전송\n",
    "\n",
    "func(para2=\"argu2\", para1=\"argu1\")\n",
    "\n",
    "- round(a, 5) : 소수점 데이터 특정 숫자만큽 제거\n",
    "- 함수도 파라미터로 넘길 수 있다. (생각보다 많이 쓰인다.)"
   ]
  },
  {
   "cell_type": "markdown",
   "metadata": {},
   "source": [
    "## *args"
   ]
  },
  {
   "cell_type": "markdown",
   "metadata": {},
   "source": [
    "- 여러개의 파라미터를 한꺼번에 받을 때 사용\n",
    "- tuple로 저장\n",
    "- `*`은 모든 value를 받는다는 의미"
   ]
  },
  {
   "cell_type": "markdown",
   "metadata": {},
   "source": [
    "## **kwargs"
   ]
  },
  {
   "cell_type": "markdown",
   "metadata": {},
   "source": [
    "- keyword argument\n",
    "- 값을 여러개의 key-value 형태로 받을 때 사용\n",
    "- dictionary로 저장\n",
    "- `**`은 모든 key-value 두 가지를 받는다는 의미"
   ]
  },
  {
   "cell_type": "markdown",
   "metadata": {},
   "source": [
    "avg_func(k=100, e=70, math=80)"
   ]
  },
  {
   "cell_type": "markdown",
   "metadata": {},
   "source": [
    "- 동시에 *args, **kwargs 사용\n",
    "- test_func(*args, **kwargs)\n",
    "- 키워드가 있는 파라미터는 **kwargs, 키워드가 없는 파라미터는 *args로"
   ]
  },
  {
   "cell_type": "markdown",
   "metadata": {},
   "source": []
  },
  {
   "cell_type": "markdown",
   "metadata": {},
   "source": []
  }
 ],
 "metadata": {
  "kernelspec": {
   "display_name": "Python 3",
   "language": "python",
   "name": "python3"
  },
  "language_info": {
   "codemirror_mode": {
    "name": "ipython",
    "version": 3
   },
   "file_extension": ".py",
   "mimetype": "text/x-python",
   "name": "python",
   "nbconvert_exporter": "python",
   "pygments_lexer": "ipython3",
   "version": "3.6.3"
  }
 },
 "nbformat": 4,
 "nbformat_minor": 2
}
