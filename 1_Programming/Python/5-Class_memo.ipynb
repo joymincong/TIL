{
 "cells": [
  {
   "cell_type": "markdown",
   "metadata": {},
   "source": [
    "# Class"
   ]
  },
  {
   "cell_type": "markdown",
   "metadata": {},
   "source": [
    "사용자 정의 데이터 타입\n",
    "\n",
    "- 객체 : 실제 메모리에 올라가는 것\n",
    "- 클래스 : 설계도"
   ]
  },
  {
   "cell_type": "markdown",
   "metadata": {},
   "source": [
    "### 객체지향"
   ]
  },
  {
   "cell_type": "markdown",
   "metadata": {},
   "source": [
    "실제 세계를 모델링하여 공통적 기능을 묶어 개발하는 코딩"
   ]
  },
  {
   "cell_type": "markdown",
   "metadata": {},
   "source": [
    "- 다형성 : 같은 이름인데 파라미터, 객체에 따라 다르게 실행\n",
    "- 캡슐화 : 외부에 정보를 감추는 것 (=inner function)\n",
    "- 추상화 : 여러가지 요소를 하나로 통합해 사용자가 코드를 몰라도 간단히 사용\n",
    "- 상속 : 기존의 클래스를 기능을 수정하거나 추가 (=decorator)"
   ]
  },
  {
   "cell_type": "markdown",
   "metadata": {},
   "source": [
    "## Sturcture"
   ]
  },
  {
   "cell_type": "markdown",
   "metadata": {},
   "source": [
    "### 선언\n",
    "\n",
    "- self : 자기 자신의 객체\n",
    "- 함수 선언시 무조건 self 선언\n",
    "- 따로 함수내 변수를 선언할 필요가 없다."
   ]
  },
  {
   "cell_type": "code",
   "execution_count": 2,
   "metadata": {
    "collapsed": true
   },
   "outputs": [],
   "source": [
    "class calculator :\n",
    "    \n",
    "    def setData(self, num1, num2):\n",
    "        self.num1 = num1\n",
    "        self.num2 = num2\n",
    "    \n",
    "    def add(self):\n",
    "        return self.num1 + self.num2"
   ]
  },
  {
   "cell_type": "markdown",
   "metadata": {},
   "source": [
    "### 사용"
   ]
  },
  {
   "cell_type": "code",
   "execution_count": 7,
   "metadata": {},
   "outputs": [
    {
     "data": {
      "text/plain": [
       "5"
      ]
     },
     "execution_count": 7,
     "metadata": {},
     "output_type": "execute_result"
    }
   ],
   "source": [
    "c1 = calculator()\n",
    "c1.setData(3, 5)\n",
    "\n",
    "c1.num1\n",
    "c1.num2"
   ]
  },
  {
   "cell_type": "markdown",
   "metadata": {},
   "source": [
    "### self"
   ]
  },
  {
   "cell_type": "code",
   "execution_count": 9,
   "metadata": {
    "collapsed": true
   },
   "outputs": [],
   "source": [
    "c2 = calculator()\n",
    "calculator.setData(c2, 7, 8)\n",
    "# c2.setData(7, 8)가 같다."
   ]
  },
  {
   "cell_type": "markdown",
   "metadata": {},
   "source": [
    "### Constructor"
   ]
  },
  {
   "cell_type": "markdown",
   "metadata": {},
   "source": [
    "- 객체를 생성될 때 초기 값 설정\n",
    "- 예약어 `__init__` 사용\n",
    "- 초기 데이터가 없으면 에러 발생\n",
    "- 메모리 절약을 위해 사용\n",
    "- 항상 선언\n",
    "- 객체당 하나의 `__init__` 사용"
   ]
  },
  {
   "cell_type": "code",
   "execution_count": 10,
   "metadata": {
    "collapsed": true
   },
   "outputs": [],
   "source": [
    "class calculator:\n",
    "    def __init__(self, num1, num2):\n",
    "        self.num1 = num1\n",
    "        self.num2 = num2"
   ]
  },
  {
   "cell_type": "markdown",
   "metadata": {},
   "source": [
    "## Inheritance"
   ]
  },
  {
   "cell_type": "markdown",
   "metadata": {},
   "source": [
    "- 반복을 줄이기 위해서 사용"
   ]
  },
  {
   "cell_type": "code",
   "execution_count": 48,
   "metadata": {
    "collapsed": true
   },
   "outputs": [],
   "source": [
    "class improvCalculator(calculator):\n",
    "    def pow(self):\n",
    "        return self.num1 ** self.num2"
   ]
  },
  {
   "cell_type": "markdown",
   "metadata": {
    "collapsed": true
   },
   "source": [
    "- overiding vs overloading\n",
    "  - overiding : 상위 클래스의 함수를 하위 클래스의 함수로 재정의\n",
    "  - overloading : 함수 이름은 같으나 arguments의 갯수 차이로 함수 구분(python은 default arguments 사용)"
   ]
  },
  {
   "cell_type": "markdown",
   "metadata": {},
   "source": [
    "#### 다중상속"
   ]
  },
  {
   "cell_type": "code",
   "execution_count": 1,
   "metadata": {
    "collapsed": true
   },
   "outputs": [],
   "source": [
    "class human():\n",
    "    def __init__(self, num1):\n",
    "        self.num1=num1\n",
    "        \n",
    "    def walk(self):\n",
    "        print(\"walking\")\n",
    "\n",
    "class korean():\n",
    "    def __init__(self, num2):\n",
    "        self.num2=num2\n",
    "        \n",
    "    def eat(self):\n",
    "        print(\"eat kimchi\")\n",
    "        \n",
    "class jin(human, korean):\n",
    "    def __init__(self, num1, num2):\n",
    "        human.__init__(self, num1)\n",
    "        korean.__init__(self, num2)\n",
    "        \n",
    "    def speak(self):\n",
    "        print(\"all\", num1)\n",
    "\n",
    "j = jin(1, 2)"
   ]
  },
  {
   "cell_type": "markdown",
   "metadata": {},
   "source": [
    "- None을 비교할 때에는 `place is None` 으로 사용,(데이터가 없다.)"
   ]
  },
  {
   "cell_type": "code",
   "execution_count": 36,
   "metadata": {},
   "outputs": [
    {
     "name": "stdout",
     "output_type": "stream",
     "text": [
      "A\n",
      "C\n"
     ]
    },
    {
     "ename": "AttributeError",
     "evalue": "'C' object has no attribute 'num2'",
     "output_type": "error",
     "traceback": [
      "\u001b[1;31m---------------------------------------------------------------------------\u001b[0m",
      "\u001b[1;31mAttributeError\u001b[0m                            Traceback (most recent call last)",
      "\u001b[1;32m<ipython-input-36-735b3f7b20c3>\u001b[0m in \u001b[0;36m<module>\u001b[1;34m()\u001b[0m\n\u001b[0;32m     16\u001b[0m \u001b[1;33m\u001b[0m\u001b[0m\n\u001b[0;32m     17\u001b[0m \u001b[0mc\u001b[0m \u001b[1;33m=\u001b[0m \u001b[0mC\u001b[0m\u001b[1;33m(\u001b[0m\u001b[1;33m)\u001b[0m\u001b[1;33m\u001b[0m\u001b[0m\n\u001b[1;32m---> 18\u001b[1;33m \u001b[0mprint\u001b[0m\u001b[1;33m(\u001b[0m\u001b[0mc\u001b[0m\u001b[1;33m.\u001b[0m\u001b[0mnum1\u001b[0m\u001b[1;33m,\u001b[0m \u001b[0mc\u001b[0m\u001b[1;33m.\u001b[0m\u001b[0mnum2\u001b[0m\u001b[1;33m,\u001b[0m \u001b[0mc\u001b[0m\u001b[1;33m.\u001b[0m\u001b[0mnum3\u001b[0m\u001b[1;33m)\u001b[0m\u001b[1;33m\u001b[0m\u001b[0m\n\u001b[0m",
      "\u001b[1;31mAttributeError\u001b[0m: 'C' object has no attribute 'num2'"
     ]
    }
   ],
   "source": [
    "class A():\n",
    "    def __init__(self):\n",
    "        print(\"A\")\n",
    "        self.num1 = 10\n",
    "\n",
    "class B():\n",
    "    def __init__(self):\n",
    "        print(\"B\")\n",
    "        self.num2 = 20\n",
    "        \n",
    "class C(A, B):\n",
    "    def __init__(self):\n",
    "        super(C, self).__init__()\n",
    "        print(\"C\")\n",
    "        self.num3 = 30\n",
    "\n",
    "c = C()\n",
    "print(c.num1, c.num2, c.num3)"
   ]
  },
  {
   "cell_type": "markdown",
   "metadata": {},
   "source": [
    "## Super"
   ]
  },
  {
   "cell_type": "markdown",
   "metadata": {},
   "source": [
    "상위 클래스의 생성자를 받아옴\n",
    "- 원래는 생성자가 오버라이딩되어 부모의 생성자가 사라지게 된다.\n",
    "- 부모 객체를 직접 가져와서 초기화도 가능하지만 그럴 경우에는 초기화 하나하나 다 설정해주어야 한다."
   ]
  },
  {
   "cell_type": "code",
   "execution_count": 24,
   "metadata": {},
   "outputs": [
    {
     "ename": "NameError",
     "evalue": "name 'class명' is not defined",
     "output_type": "error",
     "traceback": [
      "\u001b[1;31m---------------------------------------------------------------------------\u001b[0m",
      "\u001b[1;31mNameError\u001b[0m                                 Traceback (most recent call last)",
      "\u001b[1;32m<ipython-input-24-6d8fc4991ff8>\u001b[0m in \u001b[0;36m<module>\u001b[1;34m()\u001b[0m\n\u001b[1;32m----> 1\u001b[1;33m \u001b[0msuper\u001b[0m\u001b[1;33m(\u001b[0m\u001b[0mclass명\u001b[0m\u001b[1;33m,\u001b[0m \u001b[0mself\u001b[0m\u001b[1;33m)\u001b[0m\u001b[1;33m.\u001b[0m\u001b[0m__init__\u001b[0m\u001b[1;33m(\u001b[0m\u001b[1;33m)\u001b[0m\u001b[1;33m\u001b[0m\u001b[0m\n\u001b[0m",
      "\u001b[1;31mNameError\u001b[0m: name 'class명' is not defined"
     ]
    }
   ],
   "source": [
    "super(class명, self).__init__()"
   ]
  },
  {
   "cell_type": "markdown",
   "metadata": {},
   "source": [
    "## get, set"
   ]
  },
  {
   "cell_type": "markdown",
   "metadata": {},
   "source": [
    "- 함수를 이용해 데이터 접근\n",
    "- 의견이 분분한 내용이 있다.\n",
    "- 방법\n",
    "  - property 이용해 접근\n",
    "  - decorator 이용해 접근"
   ]
  },
  {
   "cell_type": "markdown",
   "metadata": {},
   "source": [
    "### property"
   ]
  },
  {
   "cell_type": "markdown",
   "metadata": {},
   "source": [
    "- get : 데이터를 확인 할 때 추가적으로 내용을 적을 수 있다.\n",
    "  - 메세지를 출력할 때 추가적인 메세지 출력 할 때\n",
    "- set : 데이터를 넣을 때 추가적으로 데이터를 세팅할 수 있다.\n",
    "  - 형변환 할 때 한다.\n",
    "- get, set에 추가적인 내용을 넣기 위해서 사용\n",
    "- 안정성을 위해서 사용된다.\n",
    "- Java : 변수마다 getter, setter 적용\n",
    "- Python : 여러 변수를 하나의 getter, setter로 적용"
   ]
  },
  {
   "cell_type": "code",
   "execution_count": 47,
   "metadata": {},
   "outputs": [
    {
     "name": "stdout",
     "output_type": "stream",
     "text": [
      "getter : \n",
      "10\n",
      "setter : \n"
     ]
    }
   ],
   "source": [
    "class test():\n",
    "    def __init__(self):\n",
    "        self.__num = 10\n",
    "        \n",
    "    def get_num(self):\n",
    "        print(\"getter : \")\n",
    "        return self.__num\n",
    "    \n",
    "    def set_num(self, num):\n",
    "        print(\"setter : \")\n",
    "        self.__num = num\n",
    "        \n",
    "    name = property(get_num, set_num)\n",
    "\n",
    "ts1 = test()\n",
    "print(ts1.name)\n",
    "ts1.name = 2"
   ]
  },
  {
   "cell_type": "markdown",
   "metadata": {},
   "source": [
    "### decorator"
   ]
  },
  {
   "cell_type": "markdown",
   "metadata": {},
   "source": [
    "- 이미 내장되어 있는 `@property` 사용"
   ]
  },
  {
   "cell_type": "code",
   "execution_count": 52,
   "metadata": {},
   "outputs": [
    {
     "name": "stdout",
     "output_type": "stream",
     "text": [
      "10\n"
     ]
    },
    {
     "data": {
      "text/plain": [
       "2"
      ]
     },
     "execution_count": 52,
     "metadata": {},
     "output_type": "execute_result"
    }
   ],
   "source": [
    "class Person():\n",
    "    def __init__(self):\n",
    "        self.__num = 10\n",
    "    \n",
    "    @property\n",
    "    def name(self):\n",
    "        return self.__num\n",
    "    \n",
    "    @name.setter\n",
    "    def name(self, num):\n",
    "        self.__num = num\n",
    "\n",
    "yjy = Person()\n",
    "print(yjy.name)\n",
    "yjy.name = 2\n",
    "yjy.name"
   ]
  },
  {
   "cell_type": "markdown",
   "metadata": {},
   "source": [
    "class Person():\n",
    "    def __init(self):\n",
    "        self.__name = 10\n",
    "    \n",
    "    def get_num(self):\n",
    "        return self.__name\n",
    "    \n",
    "    def set_num(self, num):\n",
    "        self.__name = num\n",
    "        \n",
    "    name = property(get_num, set_num)\n",
    "    \n",
    "yjy = Person()\n",
    "yjy.name = 2\n",
    "yjy.name\n",
    "        "
   ]
  },
  {
   "cell_type": "markdown",
   "metadata": {},
   "source": [
    "## private"
   ]
  },
  {
   "cell_type": "markdown",
   "metadata": {},
   "source": [
    "- mangling : 캡슐화\n",
    "- 접근할 때 getter, setter를 이용해 데이터 접근\n",
    "- 변수 앞에 `__`를 붙여준다.\n",
    "- 하지만 `_Class명__변수`사용시 접근 가능"
   ]
  },
  {
   "cell_type": "code",
   "execution_count": 56,
   "metadata": {
    "collapsed": true
   },
   "outputs": [],
   "source": [
    "class A():\n",
    "    def __inti__(self):\n",
    "        self.__num = 10\n",
    "\n",
    "a = A()\n",
    "a._A__num = 2"
   ]
  },
  {
   "cell_type": "markdown",
   "metadata": {},
   "source": [
    "## is a / has a"
   ]
  },
  {
   "cell_type": "markdown",
   "metadata": {},
   "source": [
    "- is a : Person5 == Person4 : 기능만 추가\n",
    "  - 예 : iphone4 -> iphone5\n",
    "- has a : 객체를 가지고 있는 클래스\n",
    "  - 예 : 자동차 부품 -> 자동차\n",
    "- 상황에 맞게 개념 개발"
   ]
  },
  {
   "cell_type": "markdown",
   "metadata": {},
   "source": [
    "## magic method"
   ]
  },
  {
   "cell_type": "markdown",
   "metadata": {},
   "source": [
    "class에서 예약된 명령어\n",
    "- class의 비교연산자는 주소값으로 비교한다.\n",
    "- class가 두개 있을 때, 앞에 있는 class의 magic number를 사용한다."
   ]
  },
  {
   "cell_type": "code",
   "execution_count": 85,
   "metadata": {},
   "outputs": [
    {
     "name": "stdout",
     "output_type": "stream",
     "text": [
      "hi\n",
      "hi\n"
     ]
    },
    {
     "data": {
      "text/plain": [
       "True"
      ]
     },
     "execution_count": 85,
     "metadata": {},
     "output_type": "execute_result"
    }
   ],
   "source": [
    "class Txt():\n",
    "    def __init__(self, string):\n",
    "        self.str = string\n",
    "    \n",
    "    def __eq__(self, obj):\n",
    "        return (self.str.lower() == obj.str.lower())\n",
    "    \n",
    "txt1 = Txt(\"hi\")\n",
    "txt2 = Txt(\"hi\")\n",
    "\n",
    "print(txt1.str)\n",
    "print(txt2.str)\n",
    "\n",
    "txt1 == txt2"
   ]
  },
  {
   "cell_type": "markdown",
   "metadata": {},
   "source": [
    "- `__eq__` == 정의\n",
    "- `__ne__` != 정의\n",
    "- `__lt__` <  정의\n",
    "- `__gt__` >  정의\n",
    "- `__le__` <=  정의\n",
    "- `__ge__` >=  정의 \n",
    "- `__add__` + 정의\n",
    "- `__repr` 객체만 쳤을 때 나오는 문구 정의\n",
    "- `__str__` print()할 때 나오는 문자열 정의\n",
    "- `__len__` : 크기 정의, map에 의해 각 객체의 크기를 리스트로 출력이 가능하다.\n"
   ]
  },
  {
   "cell_type": "markdown",
   "metadata": {},
   "source": []
  },
  {
   "cell_type": "markdown",
   "metadata": {},
   "source": [
    "## namedTuple"
   ]
  },
  {
   "cell_type": "markdown",
   "metadata": {},
   "source": [
    "- key가 존재하는 튜플 데이터 (불변)\n",
    "- .과 offset으로 접근 가능\n",
    "- 객체보다 공간과 시간 효율성이 좋음"
   ]
  },
  {
   "cell_type": "code",
   "execution_count": 43,
   "metadata": {},
   "outputs": [
    {
     "data": {
      "text/plain": [
       "Car(wheel='pink', door='red')"
      ]
     },
     "execution_count": 43,
     "metadata": {},
     "output_type": "execute_result"
    }
   ],
   "source": [
    "from collections import namedtuple\n",
    "\n",
    "# 키값 입력 (객체, 키값 여러개 입력)\n",
    "Car = namedtuple(\"Car\", \"wheel door\")\n",
    "\n",
    "# 데이터값 입력\n",
    "car = Car(\"white\", \"black\")\n",
    "\n",
    "# dictionary를 네임드 튜플로 변환b\n",
    "dic = {\"wheel\":\"pink\", \"door\":\"red\"}\n",
    "dic_car = Car(**dic)\n",
    "\n",
    "# list를 네임드 튜플로 변환\n",
    "ls = [\"pink\", \"red\"]\n",
    "ls_car = Car._make(ls)\n",
    "ls_car"
   ]
  },
  {
   "cell_type": "code",
   "execution_count": 15,
   "metadata": {},
   "outputs": [
    {
     "data": {
      "text/plain": [
       "Box(color='blue', door='red')"
      ]
     },
     "execution_count": 15,
     "metadata": {},
     "output_type": "execute_result"
    }
   ],
   "source": [
    "from collections import namedtuple\n",
    "\n",
    "Box = namedtuple(\"Box\", \"color door\")\n",
    "box = Box(\"white\", \"blue\")\n",
    "\n",
    "box1 = Box._make([\"blue\", \"white\"])\n",
    "\n",
    "dict_box = {\"door\" : \"red\", \"color\" : \"blue\"}\n",
    "box2 = Box(**dict_box)\n",
    "box2"
   ]
  },
  {
   "cell_type": "markdown",
   "metadata": {},
   "source": []
  }
 ],
 "metadata": {
  "kernelspec": {
   "display_name": "Python 3",
   "language": "python",
   "name": "python3"
  },
  "language_info": {
   "codemirror_mode": {
    "name": "ipython",
    "version": 3
   },
   "file_extension": ".py",
   "mimetype": "text/x-python",
   "name": "python",
   "nbconvert_exporter": "python",
   "pygments_lexer": "ipython3",
   "version": "3.6.3"
  }
 },
 "nbformat": 4,
 "nbformat_minor": 2
}
