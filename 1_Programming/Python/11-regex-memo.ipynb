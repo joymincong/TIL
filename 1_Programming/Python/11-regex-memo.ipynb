{
 "cells": [
  {
   "cell_type": "markdown",
   "metadata": {},
   "source": [
    "# 정규표현식 (Regex)"
   ]
  },
  {
   "cell_type": "markdown",
   "metadata": {},
   "source": [
    "### 정규 표현식 선언"
   ]
  },
  {
   "cell_type": "markdown",
   "metadata": {},
   "source": [
    "> import re"
   ]
  },
  {
   "cell_type": "markdown",
   "metadata": {},
   "source": [
    "### match"
   ]
  },
  {
   "cell_type": "markdown",
   "metadata": {},
   "source": [
    "문자열의 **가장 앞**에서 부터 일치하는 패턴찾아서 객체를 리턴"
   ]
  },
  {
   "cell_type": "markdown",
   "metadata": {},
   "source": [
    "> re.match('패턴 및 문자열', 문자열)"
   ]
  },
  {
   "cell_type": "markdown",
   "metadata": {},
   "source": [
    "- span : 위치 출력\n",
    "- 없을 시에는 None 출력"
   ]
  },
  {
   "cell_type": "markdown",
   "metadata": {},
   "source": [
    "### match 객체의 함수"
   ]
  },
  {
   "cell_type": "markdown",
   "metadata": {},
   "source": [
    "- group() : 값\n",
    "- start() : 시작 인덱스 값\n",
    "- end() : 끝 인덱스 값\n",
    "- span() : 시작과 끝의 인덱스를 튜플 형태로 출력"
   ]
  },
  {
   "cell_type": "markdown",
   "metadata": {},
   "source": [
    "### search"
   ]
  },
  {
   "cell_type": "markdown",
   "metadata": {},
   "source": [
    "문자열에서 가장 첫번째로 일치되는 패턴찾아 Match 객체로 리턴"
   ]
  },
  {
   "cell_type": "markdown",
   "metadata": {},
   "source": [
    "> re.search('패턴', \"문자열\")"
   ]
  },
  {
   "cell_type": "markdown",
   "metadata": {},
   "source": [
    "### findall"
   ]
  },
  {
   "cell_type": "markdown",
   "metadata": {},
   "source": [
    "일치하는 모든 패턴 찾아 리스트 형태로 리턴"
   ]
  },
  {
   "cell_type": "markdown",
   "metadata": {},
   "source": [
    "> re.findall(\"패턴\", \"문자열\")"
   ]
  },
  {
   "cell_type": "markdown",
   "metadata": {},
   "source": [
    "### split"
   ]
  },
  {
   "cell_type": "markdown",
   "metadata": {},
   "source": [
    "패턴 또는 패턴으로 문자열을 나누어 리스트 형태로 반환\n",
    "- 문자열의 split과의 차이는 패턴이 사용 가능"
   ]
  },
  {
   "cell_type": "markdown",
   "metadata": {},
   "source": [
    "> re.split(\"패턴\", \"문자열\")"
   ]
  },
  {
   "cell_type": "markdown",
   "metadata": {},
   "source": [
    "### sub"
   ]
  },
  {
   "cell_type": "markdown",
   "metadata": {},
   "source": [
    "일치하는 패턴 대체하여 대체된 문자열 변환"
   ]
  },
  {
   "cell_type": "markdown",
   "metadata": {},
   "source": [
    "> re.sub(\"바꿀 기존 문자열\", \"바꿀 새로운 문자열\", \"문자열\")"
   ]
  },
  {
   "cell_type": "markdown",
   "metadata": {},
   "source": [
    "## Pattern"
   ]
  },
  {
   "cell_type": "markdown",
   "metadata": {},
   "source": [
    "** 문자 **\n",
    "- \\d : 숫자\n",
    "- \\D : 숫자외의 것\n",
    "- \\w : 숫자 + 문자 + _ (변수명으로 사용가능한 것)\n",
    "- \\W : w이외의 문자\n",
    "- \\s : 공백문자\n",
    "- \\S : 공백문자 이외의 것"
   ]
  },
  {
   "cell_type": "markdown",
   "metadata": {},
   "source": [
    "**지정자**\n",
    "- [] : ~중 하나\n",
    "- \\- : 범위\n",
    "- () : 그룹핑\n",
    "- \\. : 하나의 문자\n",
    "\n",
    "- ? : 있거나 없거나\n",
    "- \\* : 없거나 반복되어 존재\n",
    "- \\+ : 반드시 있고 반복도 가능\n",
    "- {m,n} : m~n회 반복"
   ]
  },
  {
   "cell_type": "markdown",
   "metadata": {},
   "source": [
    "#### 그룹핑\n",
    "- \\g<1>을 이용해 그룹핑된 문자를 얻어올 수 있다."
   ]
  },
  {
   "cell_type": "markdown",
   "metadata": {},
   "source": [
    "### 연습"
   ]
  },
  {
   "cell_type": "markdown",
   "metadata": {},
   "source": [
    "- 이메일 주소 찾기"
   ]
  },
  {
   "cell_type": "code",
   "execution_count": 5,
   "metadata": {},
   "outputs": [
    {
     "name": "stdout",
     "output_type": "stream",
     "text": [
      "['pdj1224@daum.com', 'radajin1224@gmail.com']\n"
     ]
    }
   ],
   "source": [
    "import re\n",
    "\n",
    "s = \"저의 이메일 주소는 pdj1224@daum.com 입니다. 또한 radajin1224@gmail.com 역시 마찬가지 입니다.\"\n",
    "p = \"[a-zA-Z0-9]+@[a-z0-9]+\\.[a-z0-9]+\"\n",
    "\n",
    "ls = re.findall(p, s)\n",
    "print(ls)"
   ]
  },
  {
   "cell_type": "markdown",
   "metadata": {},
   "source": [
    "- 주민등록번호 찾아서 뒷자리 *로 변경하기"
   ]
  },
  {
   "cell_type": "code",
   "execution_count": 13,
   "metadata": {},
   "outputs": [
    {
     "data": {
      "text/plain": [
       "'저의 전화번호는 010-1111-2222이고 주민등록번호는 871211-******* 입니다'"
      ]
     },
     "execution_count": 13,
     "metadata": {},
     "output_type": "execute_result"
    }
   ],
   "source": [
    "s = \"저의 전화번호는 010-1111-2222이고 주민등록번호는 871211-4029348 입니다\"\n",
    "p = \"([0-9]{6})-([0-9]{7})\"\n",
    "s=re.sub(p, \"\\g<1>-*******\", s)\n",
    "s"
   ]
  },
  {
   "cell_type": "markdown",
   "metadata": {},
   "source": [
    "- 중고나라 번호 변환하기"
   ]
  },
  {
   "cell_type": "code",
   "execution_count": 21,
   "metadata": {},
   "outputs": [
    {
     "data": {
      "text/plain": [
       "'안녕하세요. 저의 전화번호는 01048933724 입니다. 또한 01048933931 입니다.'"
      ]
     },
     "execution_count": 21,
     "metadata": {},
     "output_type": "execute_result"
    }
   ],
   "source": [
    "s = \"안녕하세요. 저의 전화번호는 영일공-48구삼삼7이사 입니다. 또한 010사팔구삼삼구삼일 입니다.\"\n",
    "\n",
    "def change_string(s):\n",
    "    p=\"[0-9영공일이둘삼사오육칠팔구빵]{3}-?[0-9영공일이둘삼사오육칠팔구빵]{4}-?[0-9영공일이둘삼사오육칠팔구빵]{4}\"\n",
    "    phones = re.findall(p, s)\n",
    "    \n",
    "    dict_num = {\n",
    "        \"영\" : 0,\n",
    "        \"공\" : 0,\n",
    "        \"빵\" : 0,\n",
    "        \"일\" : 1,\n",
    "        \"이\" : 2,\n",
    "        \"둘\" : 2,\n",
    "        \"삼\" : 3,\n",
    "        \"사\" : 4,\n",
    "        \"오\" : 5,\n",
    "        \"육\" : 6,\n",
    "        \"칠\" : 7,\n",
    "        \"팔\" : 8,\n",
    "        \"구\" : 9,\n",
    "        \"-\" : \"\",\n",
    "    }\n",
    "    \n",
    "    ch_phones = []\n",
    "    \n",
    "    # 각 전화번호의 변환되는 값 저장\n",
    "    for phone in phones:\n",
    "        for key, value in dict_num.items():\n",
    "            phone = phone.replace(key, str(value))\n",
    "        \n",
    "        ch_phones.append(phone)\n",
    "    \n",
    "    # 문자열 내에서 기존 전화번호를 변환된 전화번호로 변경\n",
    "    for idx, phone in enumerate(phones):\n",
    "        s= s.replace(phone, ch_phones[idx])\n",
    "    \n",
    "    return s\n",
    "\n",
    "change_string(s)"
   ]
  }
 ],
 "metadata": {
  "kernelspec": {
   "display_name": "Python 3",
   "language": "python",
   "name": "python3"
  },
  "language_info": {
   "codemirror_mode": {
    "name": "ipython",
    "version": 3
   },
   "file_extension": ".py",
   "mimetype": "text/x-python",
   "name": "python",
   "nbconvert_exporter": "python",
   "pygments_lexer": "ipython3",
   "version": "3.6.3"
  }
 },
 "nbformat": 4,
 "nbformat_minor": 2
}
