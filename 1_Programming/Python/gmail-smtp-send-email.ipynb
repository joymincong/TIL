{
 "cells": [
  {
   "cell_type": "markdown",
   "metadata": {},
   "source": [
    "# G-mail  메일 보내기 "
   ]
  },
  {
   "cell_type": "markdown",
   "metadata": {},
   "source": [
    "### 사용 패키지"
   ]
  },
  {
   "cell_type": "markdown",
   "metadata": {},
   "source": [
    "```\n",
    "import smtplib\n",
    "```"
   ]
  },
  {
   "cell_type": "markdown",
   "metadata": {},
   "source": [
    "```\n",
    "from email import encoders\n",
    "from email.mime.text import MIMEText\n",
    "from email.mime.multipart import MIMEMultipart\n",
    "from email.mime.base import MIMEBase\n",
    "```"
   ]
  },
  {
   "cell_type": "markdown",
   "metadata": {},
   "source": [
    "### smtp 서버에 접속하기"
   ]
  },
  {
   "cell_type": "markdown",
   "metadata": {},
   "source": [
    "```\n",
    "smtp = smtpib.SMTP(`smtp.gmail.com`, 587) # gmail smtp에 587번 포트로 접속\n",
    "smtp.ehlo()\n",
    "smtp.starttls()\n",
    "smtp.login(email, pw) # 이메일과 비밀번호 작성\n",
    "```"
   ]
  },
  {
   "cell_type": "markdown",
   "metadata": {},
   "source": [
    "### Message 제목 작성하기"
   ]
  },
  {
   "cell_type": "markdown",
   "metadata": {},
   "source": [
    "```\n",
    "msg = MIMEMultipart()\n",
    "msg['Subject'] = subject_str\n",
    "```"
   ]
  },
  {
   "cell_type": "markdown",
   "metadata": {},
   "source": [
    "### Message 추가"
   ]
  },
  {
   "cell_type": "markdown",
   "metadata": {},
   "source": [
    "#### 1. 글자 추가하기"
   ]
  },
  {
   "cell_type": "markdown",
   "metadata": {},
   "source": [
    "```\n",
    "part = MIMEText(\"메세지 내용\")\n",
    "msg.attach(part)\n",
    "```"
   ]
  },
  {
   "cell_type": "markdown",
   "metadata": {},
   "source": [
    "#### 2. HTML 추가하기"
   ]
  },
  {
   "cell_type": "markdown",
   "metadata": {},
   "source": [
    "```\n",
    "part = MIMEText(\"html_tag\", 'html')\n",
    "msg.attach(part)\n",
    "```"
   ]
  },
  {
   "cell_type": "markdown",
   "metadata": {},
   "source": [
    "#### 3. FILE 첨부하기 (그림, 동영상 등)"
   ]
  },
  {
   "cell_type": "markdown",
   "metadata": {},
   "source": [
    "```\n",
    "with open(\"path\", 'rb') as fp:\n",
    "    part = MIMEBase('application', 'octet-stream') # 객체선언\n",
    "    part.set_payload(fp.read()) # 파일 읽어서 저장\n",
    "    encoders.encode_base64(part) # 파일 인코딩\n",
    "\n",
    "part.add_header('Content-Disposition', 'attachment', filename='path')\n",
    "msg.attach(part)\n",
    "```"
   ]
  },
  {
   "cell_type": "markdown",
   "metadata": {},
   "source": [
    "### 이메일 보내기"
   ]
  },
  {
   "cell_type": "markdown",
   "metadata": {},
   "source": [
    "```\n",
    "toArr = [\"wjy5446@naver.com\", \"magenta_jy@naver.com\"]\n",
    "\n",
    "for addr in toArr:\n",
    "    msg['To'] = addr\n",
    "    smtp.endmail(\"보내는 메일\", addr, msg.as_string()) # 스트링으로 변환\n",
    "\n",
    "smtp.quit()\n",
    "```"
   ]
  },
  {
   "cell_type": "markdown",
   "metadata": {},
   "source": [
    "### 절차 간단 설명"
   ]
  },
  {
   "cell_type": "markdown",
   "metadata": {},
   "source": [
    "1. smtp 서버 열기\n",
    "2. email.mime.multipart으로 msg 만들기\n",
    "3. msg의 제목설정\n",
    "4. email.mime.text으로 글 및 HTML 을 msg에 첨부하기\n",
    "5. email.mime.base으로 파일을 msg에 첨부하기\n",
    "6. email 보내기\n",
    "7. smtp 서버 닫기\n"
   ]
  },
  {
   "cell_type": "markdown",
   "metadata": {},
   "source": []
  }
 ],
 "metadata": {
  "kernelspec": {
   "display_name": "Python 3",
   "language": "python",
   "name": "python3"
  },
  "language_info": {
   "codemirror_mode": {
    "name": "ipython",
    "version": 3
   },
   "file_extension": ".py",
   "mimetype": "text/x-python",
   "name": "python",
   "nbconvert_exporter": "python",
   "pygments_lexer": "ipython3",
   "version": "3.6.3"
  }
 },
 "nbformat": 4,
 "nbformat_minor": 2
}
