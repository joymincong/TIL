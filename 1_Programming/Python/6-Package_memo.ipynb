{
 "cells": [
  {
   "cell_type": "markdown",
   "metadata": {},
   "source": [
    "# Module"
   ]
  },
  {
   "cell_type": "markdown",
   "metadata": {},
   "source": [
    "- 함수, 변수, 클래스를 모은 파일\n",
    "- snakecase 네이밍\n",
    "- c/c++은 `_`로 시작해서 모듈명 \n",
    "\n",
    "- ** 모듈끼리 서로 겹치지 않도록 주의한다.**"
   ]
  },
  {
   "cell_type": "markdown",
   "metadata": {},
   "source": [
    "- 생성 : `%%write dsm_f.py`로 생성"
   ]
  },
  {
   "cell_type": "markdown",
   "metadata": {},
   "source": [
    "- 호출 `import dsm_f"
   ]
  },
  {
   "cell_type": "markdown",
   "metadata": {},
   "source": [
    "- 함수 호출 : `dsm_f.disp1(\"test\")`\n",
    "- 변수 호출 : `dsm_f.var`\n",
    "- 클래스 호출 : `dsm_f.calc.plus(1,2,3,4,5)`"
   ]
  },
  {
   "cell_type": "markdown",
   "metadata": {},
   "source": [
    "- alias : 모듈 이름 변경 `import dsm_f as dsm'"
   ]
  },
  {
   "cell_type": "markdown",
   "metadata": {},
   "source": [
    "- 모듈에 있는 함수 호출 : `from dsm_f import disp1, disp2`\n",
    "- 장점 : 함수만 호출해 메모리를 아낄 수 있고 작성이 더 간편한다."
   ]
  },
  {
   "cell_type": "markdown",
   "metadata": {},
   "source": [
    "- 모든 모듈 호출 : `from dsm_f import *` : 오직 함수, 변수 이름으로 사용이 가능하다"
   ]
  },
  {
   "cell_type": "markdown",
   "metadata": {},
   "source": [
    "# Package"
   ]
  },
  {
   "cell_type": "markdown",
   "metadata": {},
   "source": [
    "- 디렉토리와 모듈로 이루어짐\n",
    "- `__init__.py`를 만들어야 한다."
   ]
  },
  {
   "cell_type": "markdown",
   "metadata": {},
   "source": [
    "- alias : `import quiz.game.lotto as lotto`\n",
    "  - 마지막은 무조건 모듈"
   ]
  },
  {
   "cell_type": "markdown",
   "metadata": {},
   "source": [
    "- 특정 함수, 모듈 호출\n",
    "- `from quiz.star import disp` 모듈 호출\n",
    "- `from quiz.star.disp import disp_star` 함수 호출"
   ]
  },
  {
   "cell_type": "code",
   "execution_count": 3,
   "metadata": {},
   "outputs": [
    {
     "name": "stdout",
     "output_type": "stream",
     "text": [
      "\n",
      "C:\\Users\\magenta_jy\\Anaconda3\\python36.zip\n",
      "C:\\Users\\magenta_jy\\Anaconda3\\DLLs\n",
      "C:\\Users\\magenta_jy\\Anaconda3\\lib\n",
      "C:\\Users\\magenta_jy\\Anaconda3\n",
      "C:\\Users\\magenta_jy\\Anaconda3\\lib\\site-packages\n",
      "C:\\Users\\magenta_jy\\Anaconda3\\lib\\site-packages\\Babel-2.5.0-py3.6.egg\n",
      "C:\\Users\\magenta_jy\\Anaconda3\\lib\\site-packages\\win32\n",
      "C:\\Users\\magenta_jy\\Anaconda3\\lib\\site-packages\\win32\\lib\n",
      "C:\\Users\\magenta_jy\\Anaconda3\\lib\\site-packages\\Pythonwin\n",
      "C:\\Users\\magenta_jy\\Anaconda3\\lib\\site-packages\\IPython\\extensions\n",
      "C:\\Users\\magenta_jy\\.ipython\n"
     ]
    }
   ],
   "source": [
    "import sys\n",
    "\n",
    "for place in sys.path:\n",
    "    print(place)"
   ]
  },
  {
   "cell_type": "code",
   "execution_count": null,
   "metadata": {
    "collapsed": true
   },
   "outputs": [],
   "source": [
    "!ls "
   ]
  }
 ],
 "metadata": {
  "kernelspec": {
   "display_name": "Python 3",
   "language": "python",
   "name": "python3"
  },
  "language_info": {
   "codemirror_mode": {
    "name": "ipython",
    "version": 3
   },
   "file_extension": ".py",
   "mimetype": "text/x-python",
   "name": "python",
   "nbconvert_exporter": "python",
   "pygments_lexer": "ipython3",
   "version": "3.6.3"
  }
 },
 "nbformat": 4,
 "nbformat_minor": 2
}
