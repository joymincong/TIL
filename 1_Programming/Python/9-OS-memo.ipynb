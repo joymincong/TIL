{
 "cells": [
  {
   "cell_type": "markdown",
   "metadata": {},
   "source": [
    "# OS"
   ]
  },
  {
   "cell_type": "markdown",
   "metadata": {},
   "source": [
    "### 선언"
   ]
  },
  {
   "cell_type": "markdown",
   "metadata": {},
   "source": [
    "> import os"
   ]
  },
  {
   "cell_type": "markdown",
   "metadata": {},
   "source": [
    "### 디렉토리 만들기"
   ]
  },
  {
   "cell_type": "markdown",
   "metadata": {},
   "source": [
    "> os.makedirs(\"폴더 이름\")"
   ]
  },
  {
   "cell_type": "markdown",
   "metadata": {},
   "source": [
    "- csv(comma sperate value) : comma로 값을 나눠지는 파일\n",
    "- csv로 파일을 쓸 때에는 반드시 ','로 구분할 수 있다."
   ]
  },
  {
   "cell_type": "markdown",
   "metadata": {},
   "source": [
    "### 파일 리스트 읽기"
   ]
  },
  {
   "cell_type": "markdown",
   "metadata": {},
   "source": [
    "> file_list = os.listdir(\"폴더 경로\")"
   ]
  },
  {
   "cell_type": "markdown",
   "metadata": {},
   "source": [
    "- for문을 이용해 원하는 파일 리스트만 호출 할 수 있다."
   ]
  },
  {
   "cell_type": "markdown",
   "metadata": {},
   "source": [
    "> result_ls = [file_name for file_name in file_list if file_name.endswith(\".txt\")]"
   ]
  },
  {
   "cell_type": "markdown",
   "metadata": {},
   "source": [
    "- endswith(\"\")를 이용해 정해진 확장자를 추출한다."
   ]
  },
  {
   "cell_type": "markdown",
   "metadata": {},
   "source": [
    "### 파일 삭제"
   ]
  },
  {
   "cell_type": "markdown",
   "metadata": {},
   "source": [
    "> os.remove(\"파일경로\")"
   ]
  },
  {
   "cell_type": "markdown",
   "metadata": {},
   "source": [
    "listdir와 함께 사용하면 모드 파일 삭제 및 원하는 파일 삭제 응용 가능\n",
    "- for문과 파일 리스트를 읽기를 통해 폴더내 모든 파일 삭제 가능"
   ]
  },
  {
   "cell_type": "markdown",
   "metadata": {},
   "source": [
    "### 폴더 삭제"
   ]
  },
  {
   "cell_type": "markdown",
   "metadata": {},
   "source": [
    "> os.removedirs(\"폴더 경로\")"
   ]
  },
  {
   "cell_type": "markdown",
   "metadata": {},
   "source": [
    "- 내부에 파일 있을시 삭제 불가\n",
    "- try - except문을 이용해서 다음 문구가 사용할 수 있어야 한다.\n",
    "- 결과는 WinError 출력"
   ]
  },
  {
   "cell_type": "markdown",
   "metadata": {},
   "source": [
    "** 폴더와 내부 파일 모두 삭제 **"
   ]
  },
  {
   "cell_type": "markdown",
   "metadata": {},
   "source": [
    "\n",
    "> import shutil\n",
    "\n",
    "> shutil.rmtree('os_dir')\n"
   ]
  },
  {
   "cell_type": "markdown",
   "metadata": {},
   "source": [
    "### 존재 여부 확인 및 데이터 종류 확인"
   ]
  },
  {
   "cell_type": "markdown",
   "metadata": {},
   "source": [
    "파일 입출력전에 존재 여부를 확인해 미리 에러를 방지한다."
   ]
  },
  {
   "cell_type": "markdown",
   "metadata": {},
   "source": [
    "> os.path.exists(\"파일 경로\")\n",
    "\n",
    "> os.path.exists(\"폴더 경로\")"
   ]
  },
  {
   "cell_type": "markdown",
   "metadata": {},
   "source": [
    "** 파일 타입 확인**"
   ]
  },
  {
   "cell_type": "markdown",
   "metadata": {},
   "source": [
    "> os.path.isfile(\"경로\")"
   ]
  },
  {
   "cell_type": "markdown",
   "metadata": {},
   "source": [
    "** 폴더 타입 확인 **"
   ]
  },
  {
   "cell_type": "markdown",
   "metadata": {},
   "source": [
    "> os.path.isdir(\"경로\")"
   ]
  },
  {
   "cell_type": "markdown",
   "metadata": {},
   "source": [
    "### 파일 복사하기"
   ]
  },
  {
   "cell_type": "markdown",
   "metadata": {},
   "source": [
    "> import shutil\n",
    "\n",
    "> shutil.copy(\"원본 파일 경로\", \"새로운 파일 경로\")"
   ]
  },
  {
   "cell_type": "markdown",
   "metadata": {},
   "source": [
    ".bak 는 백업파일 (파일을 만들 때 카피를 이용해서 백업을 한다.)\n",
    "실수로 잘못 했을 때, 백업파일을 이용해 복구가 가능\n",
    "- a를 이용해 내용 추가"
   ]
  },
  {
   "cell_type": "markdown",
   "metadata": {},
   "source": [
    "### 이름 바꾸기"
   ]
  },
  {
   "cell_type": "markdown",
   "metadata": {},
   "source": [
    "> os.rename(\"기존 파일 경로\", \"새로운 이름 경로\")"
   ]
  },
  {
   "cell_type": "markdown",
   "metadata": {},
   "source": [
    "### 권한 설정 변경"
   ]
  },
  {
   "cell_type": "markdown",
   "metadata": {},
   "source": [
    "- . : 현재 디렉토리\n",
    "- .. : 상위 디렉토리"
   ]
  },
  {
   "cell_type": "markdown",
   "metadata": {},
   "source": [
    "- r(read), w(write), e(execute 실행파일만 가능)\n",
    "- 소유자 권한 : 만든사람, 그룹 권한, 공개 권한"
   ]
  },
  {
   "cell_type": "markdown",
   "metadata": {},
   "source": [
    "> os.chmod(\"파일 경로\", 권한 설정(8진수))"
   ]
  },
  {
   "cell_type": "markdown",
   "metadata": {},
   "source": [
    "- 0o000 : (---------)어떤 것도 할 수 없다.\n",
    "- 0o444 : (r--r--r--)모두 읽을 수 있다.\n",
    "- 0o333 : (-wx-wx-wx)모두 쓰기, 실행만 가능\n",
    "\n",
    "- 리눅스에서는 개발자마다 권한이 다른 계정을 준다."
   ]
  }
 ],
 "metadata": {
  "kernelspec": {
   "display_name": "Python 3",
   "language": "python",
   "name": "python3"
  },
  "language_info": {
   "codemirror_mode": {
    "name": "ipython",
    "version": 3
   },
   "file_extension": ".py",
   "mimetype": "text/x-python",
   "name": "python",
   "nbconvert_exporter": "python",
   "pygments_lexer": "ipython3",
   "version": "3.6.3"
  }
 },
 "nbformat": 4,
 "nbformat_minor": 2
}
