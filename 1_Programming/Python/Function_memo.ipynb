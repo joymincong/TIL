{
 "cells": [
  {
   "cell_type": "markdown",
   "metadata": {},
   "source": [
    "# Function"
   ]
  },
  {
   "cell_type": "markdown",
   "metadata": {},
   "source": [
    "## 함수의 선언 및 호출"
   ]
  },
  {
   "cell_type": "code",
   "execution_count": 2,
   "metadata": {
    "collapsed": true
   },
   "outputs": [],
   "source": [
    "def func_name (para_name1, para_num2):\n",
    "    code_1\n",
    "    code_2"
   ]
  },
  {
   "cell_type": "markdown",
   "metadata": {},
   "source": [
    "func_name()"
   ]
  },
  {
   "cell_type": "markdown",
   "metadata": {},
   "source": [
    "## return"
   ]
  },
  {
   "cell_type": "markdown",
   "metadata": {},
   "source": [
    "- return이 있는 함수는 결과 값을 저장할 수 있다.\n",
    "- 함수의 마지막(종료)을 의미"
   ]
  },
  {
   "cell_type": "markdown",
   "metadata": {},
   "source": [
    "## parameter & argument"
   ]
  },
  {
   "cell_type": "markdown",
   "metadata": {},
   "source": [
    "### parameter와 argument의 차이\n",
    "- parameter : 데이터를 넘길 때 쓰는 데이터 \n",
    "- argument : 데이터를 받을 때 받는 데이터 (실제로 주는 데이터)"
   ]
  },
  {
   "cell_type": "markdown",
   "metadata": {},
   "source": [
    "- pass : 함수에 내용이 없을 경우 사용 (실제 함수 설계시에 사용)\n",
    "- parameter와 argument의 갯수는 같아야 한다."
   ]
  },
  {
   "cell_type": "markdown",
   "metadata": {},
   "source": [
    "## 함수 잡다한 정보"
   ]
  },
  {
   "cell_type": "markdown",
   "metadata": {},
   "source": [
    "- def func(para1, para2 = argu)\n",
    "  - default 설정은 무조건 뒤쪽에 몰아준다.\n",
    "- 파라미터 순서 없이 전송\n",
    "\n",
    "func(para2=\"argu2\", para1=\"argu1\")\n",
    "\n",
    "- round(a, 5) : 소수점 데이터 특정 숫자만큼 제거\n",
    "- 함수도 파라미터로 넘길 수 있다. (생각보다 많이 쓰인다.)\n",
    "\n",
    "- keyward로 argument 넘길 때, key로 string, 숫자가 되지 않는다. ;;\n",
    "  오직 일반 문자만 가능 "
   ]
  },
  {
   "cell_type": "markdown",
   "metadata": {},
   "source": [
    "## *args"
   ]
  },
  {
   "cell_type": "markdown",
   "metadata": {},
   "source": [
    "- 여러개의 파라미터를 한꺼번에 받을 때 사용\n",
    "- tuple로 저장\n",
    "- `*`은 모든 value를 받는다는 의미"
   ]
  },
  {
   "cell_type": "markdown",
   "metadata": {},
   "source": [
    "## **kwargs"
   ]
  },
  {
   "cell_type": "markdown",
   "metadata": {},
   "source": [
    "- keyword argument\n",
    "- 값을 여러개의 key-value 형태로 받을 때 사용\n",
    "- dictionary로 저장\n",
    "- `**`은 모든 key-value 두 가지를 받는다는 의미"
   ]
  },
  {
   "cell_type": "markdown",
   "metadata": {},
   "source": [
    "avg_func(k=100, e=70, math=80)"
   ]
  },
  {
   "cell_type": "markdown",
   "metadata": {},
   "source": [
    "- 동시에 *args, **kwargs 사용\n",
    "- test_func(*args, **kwargs)\n",
    "- 키워드가 있는 파라미터는 **kwargs, 키워드가 없는 파라미터는 *args로"
   ]
  },
  {
   "cell_type": "markdown",
   "metadata": {},
   "source": [
    "## docstring"
   ]
  },
  {
   "cell_type": "markdown",
   "metadata": {},
   "source": [
    "함수 밑에 함수에 대한 설명을 적어준다.볼 수 있다.\n",
    "help라는 함수를 통해 \n",
    "__doc__ : docstring만 확인"
   ]
  },
  {
   "cell_type": "markdown",
   "metadata": {},
   "source": [
    "## Scope"
   ]
  },
  {
   "cell_type": "markdown",
   "metadata": {},
   "source": [
    "- locals (지역 변수) : 함수 안에 변수\n",
    "- globals (전역 변수) : 함수 밖에 변수\n",
    "- globals() : 선언된 전역 변수 확인\n",
    "- locals() : 선언된 지역 변수 확인, locals()[\"df\"] : 해당 변수 확인\n",
    "\n",
    "* 클래스나 함수도 변수로 할 수 있다.\n",
    "* global : 로컬 내에서 글로벌 변수를 사용"
   ]
  },
  {
   "cell_type": "markdown",
   "metadata": {},
   "source": [
    "## Global"
   ]
  },
  {
   "cell_type": "markdown",
   "metadata": {},
   "source": [
    "local과 globa은 영역 자체가 달라 같은 이름이여도 다른 메모리이다.\n",
    "\n",
    "그러므로, 함수내에서 global를 사용하기 위해서는 'global'키워드 이용"
   ]
  },
  {
   "cell_type": "markdown",
   "metadata": {},
   "source": [
    "## inner function"
   ]
  },
  {
   "cell_type": "markdown",
   "metadata": {},
   "source": [
    "함수 이내에서 함수 선언!!\n",
    "함수 밖에서 접근이 불가능 하다.\n",
    "\n",
    "- 이를 통해 : 함수를 숨길 수 있다, 함수를 호출할 때만 메모리로 이용 -> 메모리를 아낄 수 있다."
   ]
  },
  {
   "cell_type": "markdown",
   "metadata": {},
   "source": [
    "## lambda function"
   ]
  },
  {
   "cell_type": "markdown",
   "metadata": {},
   "source": [
    "- 한번 사용되고 사라지는 함수\n",
    "- 메모리 효율을 위해서 사용되는 함수\n",
    "- 메모리에 함수라는 변수로 저장이 가능하고 변수를 이용해서 결과값 출력도 가능하다."
   ]
  },
  {
   "cell_type": "markdown",
   "metadata": {},
   "source": [
    "### Map"
   ]
  },
  {
   "cell_type": "markdown",
   "metadata": {},
   "source": [
    "반복가능한 자료형을 특정 함수에 의해 수행된 결과를 리턴하는 함수(입력과 결과 갯수 가 같다.)\n",
    "\n",
    "- argument 함수는 리턴이 존재하는 함수여야 한다.\n",
    "- 리턴 값이 map 임으로 list로 변환을 해주어야 한다."
   ]
  },
  {
   "cell_type": "code",
   "execution_count": 8,
   "metadata": {},
   "outputs": [
    {
     "data": {
      "text/plain": [
       "[3, 4, 5, 6, 7, 8, 9, 10, 11]"
      ]
     },
     "execution_count": 8,
     "metadata": {},
     "output_type": "execute_result"
    }
   ],
   "source": [
    "def sum(number):\n",
    "    return number+2\n",
    "\n",
    "numList = range(1,10)\n",
    "list(map(sum, numList))"
   ]
  },
  {
   "cell_type": "markdown",
   "metadata": {},
   "source": [
    "### Filter"
   ]
  },
  {
   "cell_type": "markdown",
   "metadata": {},
   "source": [
    "리턴값이 True, False인 특정 함수를 들어가 True인 값만 리턴하는 함수 (입력 갯수와 결과 갯수가 서로 다르다.)\n",
    "- 무조건 return 값이 True, False가 되어야 한다.\n",
    "- 이것도 리턴값이 filter형식임으로 출력 시 list로 변환\n",
    "- 조건문을 쓸 때에는 if else로 쓰는 것이 좋다.\n",
    "- list comprehension 하는 것이 속도가 더 빠를 수 있다."
   ]
  },
  {
   "cell_type": "markdown",
   "metadata": {},
   "source": [
    "예) 짝수 데이터만 가져오기"
   ]
  },
  {
   "cell_type": "code",
   "execution_count": 10,
   "metadata": {},
   "outputs": [
    {
     "data": {
      "text/plain": [
       "[0, 2, 4, 6, 8]"
      ]
     },
     "execution_count": 10,
     "metadata": {},
     "output_type": "execute_result"
    }
   ],
   "source": [
    "a = list(range(10))\n",
    "b = list(filter(lambda x : x % 2 == 0, a))\n",
    "b"
   ]
  },
  {
   "cell_type": "code",
   "execution_count": 11,
   "metadata": {
    "collapsed": true
   },
   "outputs": [],
   "source": [
    "def fil_func(func, li):\n",
    "    return_li = []\n",
    "    \n",
    "    for ele in li:\n",
    "        if func(ele):\n",
    "            return_li.append(ele)\n",
    "    return li\n",
    "\n",
    "\n",
    "a = list(range(10))\n",
    "b = fil_func()"
   ]
  },
  {
   "cell_type": "markdown",
   "metadata": {},
   "source": [
    "## Reduce"
   ]
  },
  {
   "cell_type": "markdown",
   "metadata": {},
   "source": [
    "처음 값부터 순차적으로 지정된 함수를 처리해주는 함수 (결과값 무조건 하나)\n",
    "- reduce는 import 해주어야 한다. \"from functools import reduce\"\n",
    "- 결과값이 하나이기 때문에 list로 할 필요가 없다.\n",
    "- 입력 함수의 입력값은 두 개가 되어야 한다."
   ]
  },
  {
   "cell_type": "code",
   "execution_count": 15,
   "metadata": {},
   "outputs": [
    {
     "data": {
      "text/plain": [
       "5"
      ]
     },
     "execution_count": 15,
     "metadata": {},
     "output_type": "execute_result"
    }
   ],
   "source": [
    "from functools import reduce\n",
    "\n",
    "a = [3, 1, 5, 3, 4]\n",
    "reduce(lambda x, y : x if x >= y else y, a)"
   ]
  },
  {
   "cell_type": "markdown",
   "metadata": {},
   "source": [
    "# decorator"
   ]
  },
  {
   "cell_type": "markdown",
   "metadata": {},
   "source": [
    "코드를 바꾸지 않고 사용하고 있는 함수를 수정할 때 사용\n",
    "반드시 decorator 함수는 파라미터로 함수 지정\n",
    "\n",
    "- 장점\n",
    "  - 코드의 반복을 줄일 수 있다.\n",
    "  - 한번 수정으로 여러개를 수정할 수 있다.\n",
    "  \n",
    "- @를 이용해 데코레이션한다.\n",
    "\n",
    "- input 설정 시 : decorator는 외부적으로 func을 받고 inner function으로 argument를 지정.\n",
    "- return 설정 시 : inner function은 결과값, decorator는 innerfunction을 반환한다.\n",
    "\n",
    "- 사용 예 : 시간 출력, admin 체크\n",
    "- *args, **kwargs는 '*'은 그대로 붙여 주어야 한다.\n"
   ]
  },
  {
   "cell_type": "code",
   "execution_count": 22,
   "metadata": {
    "collapsed": true
   },
   "outputs": [],
   "source": [
    "def testDeco(func) :\n",
    "    def wrapper(*args, **kwargs):\n",
    "        print(\"upper\")\n",
    "        result = func(*args, **kwargs)\n",
    "        print(result)\n",
    "        print(\"lower\")\n",
    "        \n",
    "        return result\n",
    "    return wrapper"
   ]
  },
  {
   "cell_type": "code",
   "execution_count": 23,
   "metadata": {},
   "outputs": [
    {
     "name": "stdout",
     "output_type": "stream",
     "text": [
      "upper\n",
      "6\n",
      "lower\n"
     ]
    },
    {
     "data": {
      "text/plain": [
       "6"
      ]
     },
     "execution_count": 23,
     "metadata": {},
     "output_type": "execute_result"
    }
   ],
   "source": [
    "@ testDeco\n",
    "def sum_two(a, b):\n",
    "    return a + b\n",
    "\n",
    "sum_two(1, 5)"
   ]
  },
  {
   "cell_type": "markdown",
   "metadata": {},
   "source": []
  }
 ],
 "metadata": {
  "kernelspec": {
   "display_name": "Python 3",
   "language": "python",
   "name": "python3"
  },
  "language_info": {
   "codemirror_mode": {
    "name": "ipython",
    "version": 3
   },
   "file_extension": ".py",
   "mimetype": "text/x-python",
   "name": "python",
   "nbconvert_exporter": "python",
   "pygments_lexer": "ipython3",
   "version": "3.6.3"
  }
 },
 "nbformat": 4,
 "nbformat_minor": 2
}
