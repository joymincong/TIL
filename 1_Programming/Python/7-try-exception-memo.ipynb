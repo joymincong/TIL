{
 "cells": [
  {
   "cell_type": "markdown",
   "metadata": {},
   "source": [
    "# 예외처리"
   ]
  },
  {
   "cell_type": "markdown",
   "metadata": {},
   "source": [
    "try:\n",
    "    실행 코드\n",
    "except IndexError as e:\n",
    "    print(e)\n",
    "    \n",
    "* 에러를 받아서 discruption에 출력이 가능하다.\n",
    "* 이 때, 지정된 에러 메세지가 출력\n",
    "* 여러 메세지 모두 받을 때 Exception으로 받는다.\n",
    "\n",
    "* 묶어서 에러 설정도 가능 \n",
    "  - except(IndexError, ZeroDivisionError) as e\n",
    "  \n",
    "* `pass`를 이용해 에러 무시 가능\n"
   ]
  },
  {
   "cell_type": "markdown",
   "metadata": {},
   "source": [
    "# Finally"
   ]
  },
  {
   "cell_type": "markdown",
   "metadata": {},
   "source": [
    "- 에러 발생하거나 발생하지 않을 것 상관없이 항상 실행\n",
    "\n",
    "try :\n",
    "\n",
    "exceot Eception as e:\n",
    "\n",
    "finally:"
   ]
  },
  {
   "cell_type": "markdown",
   "metadata": {},
   "source": [
    "- 함수는 선언만으로 에러가 발생하지 않는다. 호출하는 순간 알수있다."
   ]
  },
  {
   "cell_type": "markdown",
   "metadata": {},
   "source": [
    "# Make Error"
   ]
  },
  {
   "cell_type": "markdown",
   "metadata": {},
   "source": [
    "- Exception 클래스를 상속받아 에러를 상속한다.\n",
    "- error 이름은 Pascal case\n",
    "- `__str__`으로 출력 메세지 오버라이딩 한다.\n",
    "- `__init__`으로 메세지를 설정이 가능하다.\n",
    "- `raise`을 이용해 에러 클래스 강제 출력"
   ]
  }
 ],
 "metadata": {
  "kernelspec": {
   "display_name": "Python 3",
   "language": "python",
   "name": "python3"
  },
  "language_info": {
   "codemirror_mode": {
    "name": "ipython",
    "version": 3
   },
   "file_extension": ".py",
   "mimetype": "text/x-python",
   "name": "python",
   "nbconvert_exporter": "python",
   "pygments_lexer": "ipython3",
   "version": "3.6.3"
  }
 },
 "nbformat": 4,
 "nbformat_minor": 2
}
